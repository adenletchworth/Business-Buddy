{
 "cells": [
  {
   "cell_type": "code",
   "execution_count": 20,
   "metadata": {},
   "outputs": [],
   "source": [
    "import pandas as pd\n",
    "\n",
    "reviews_df = pd.read_csv('amazonProducts.csv')\n",
    "\n",
    "reviews_df = reviews_df[['reviews.rating','reviews.text']]\n",
    "\n",
    "reviews_df = reviews_df.rename(columns={'reviews.rating': 'label', 'reviews.text': 'text'})\n",
    "\n",
    "reviews_df.to_csv('pamazonProducts.csv')"
   ]
  }
 ],
 "metadata": {
  "kernelspec": {
   "display_name": "Python 3",
   "language": "python",
   "name": "python3"
  },
  "language_info": {
   "codemirror_mode": {
    "name": "ipython",
    "version": 3
   },
   "file_extension": ".py",
   "mimetype": "text/x-python",
   "name": "python",
   "nbconvert_exporter": "python",
   "pygments_lexer": "ipython3",
   "version": "3.11.5"
  },
  "orig_nbformat": 4
 },
 "nbformat": 4,
 "nbformat_minor": 2
}
