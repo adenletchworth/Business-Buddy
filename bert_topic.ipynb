{
 "cells": [
  {
   "cell_type": "code",
   "execution_count": 45,
   "metadata": {},
   "outputs": [],
   "source": [
    "embeddings=0"
   ]
  },
  {
   "cell_type": "code",
   "execution_count": 63,
   "metadata": {},
   "outputs": [
    {
     "name": "stderr",
     "output_type": "stream",
     "text": [
      "2023-11-18 20:51:28,672 - BERTopic - Reduced dimensionality\n",
      "2023-11-18 20:51:28,685 - BERTopic - Clustered reduced embeddings\n"
     ]
    }
   ],
   "source": [
    "from bertopic import BERTopic\n",
    "from sentence_transformers import SentenceTransformer\n",
    "from umap import UMAP\n",
    "from bertopic.representation import KeyBERTInspired,MaximalMarginalRelevance,PartOfSpeech\n",
    "from sklearn.feature_extraction.text import CountVectorizer\n",
    "from hdbscan import HDBSCAN\n",
    "import pandas as pd\n",
    "\n",
    "### Method for Getting Topic Models from Text ###\n",
    "\n",
    "df = pd.read_csv(\"./Data/small_data.csv\")\n",
    "\n",
    "doc = df['review_body']\n",
    "        \n",
    "## Initialize Models ##\n",
    "\n",
    "# For Encoding Doccuments / Pre Processing\n",
    "embedded_model = SentenceTransformer(\"all-MiniLM-l6-v2\")\n",
    "\n",
    "# For Controlling Number of Topics\n",
    "hdbscan_model = HDBSCAN(min_cluster_size=12, metric='euclidean', cluster_selection_method='eom', prediction_data=True)\n",
    "\n",
    "# For Removing Stop Words, Post Encoding\n",
    "vectorizer_model = CountVectorizer(stop_words=\"english\", min_df=2, ngram_range=(1, 2))\n",
    "\n",
    "# For Reducing Size of Embeddings\n",
    "umap_model = UMAP(n_neighbors=15, n_components=3, min_dist=0.0, metric='cosine', random_state=42)\n",
    "\n",
    "# For Different Representations \n",
    "key_model = KeyBERTInspired()\n",
    "pos_model = PartOfSpeech(\"en_core_web_sm\")\n",
    "mmr_model = MaximalMarginalRelevance(diversity=0.3)\n",
    "\n",
    "# Make Dictionary of Different Representations\n",
    "representation_model={\n",
    "        \"KeyBERT\":key_model,\n",
    "        \"POS\":pos_model,\n",
    "        \"MMR\":mmr_model\n",
    "}\n",
    "\n",
    "\n",
    "# Encode Doccuments with SentenceTransformer\n",
    "embeddings = embedded_model.encode(doc)\n",
    "\n",
    "# Initialize our Topic Model\n",
    "topic_model = BERTopic(\n",
    "        embedding_model=embedded_model,\n",
    "        umap_model=umap_model,\n",
    "        hdbscan_model=hdbscan_model,\n",
    "        vectorizer_model=vectorizer_model,\n",
    "        representation_model=representation_model,\n",
    "        top_n_words=10,\n",
    "        verbose=True\n",
    ")\n",
    "\n",
    "# Fit our doc and encoded doc to topic model\n",
    "topics, probs = topic_model.fit_transform(doc,embeddings)\n",
    "\n",
    "# Automatically generate labels using KeyBERT\n",
    "keybert_topic_labels = {topic: \",\".join(list(zip(*values))[0][:3]) for topic, values in topic_model.topic_aspects_[\"KeyBERT\"].items()}\n",
    "topic_model.set_topic_labels(keybert_topic_labels)\n"
   ]
  },
  {
   "cell_type": "code",
   "execution_count": 64,
   "metadata": {},
   "outputs": [
    {
     "data": {
      "text/html": [
       "<div>\n",
       "<style scoped>\n",
       "    .dataframe tbody tr th:only-of-type {\n",
       "        vertical-align: middle;\n",
       "    }\n",
       "\n",
       "    .dataframe tbody tr th {\n",
       "        vertical-align: top;\n",
       "    }\n",
       "\n",
       "    .dataframe thead th {\n",
       "        text-align: right;\n",
       "    }\n",
       "</style>\n",
       "<table border=\"1\" class=\"dataframe\">\n",
       "  <thead>\n",
       "    <tr style=\"text-align: right;\">\n",
       "      <th></th>\n",
       "      <th>Topic</th>\n",
       "      <th>Count</th>\n",
       "      <th>Name</th>\n",
       "      <th>CustomName</th>\n",
       "      <th>Representation</th>\n",
       "      <th>KeyBERT</th>\n",
       "      <th>POS</th>\n",
       "      <th>MMR</th>\n",
       "      <th>Representative_Docs</th>\n",
       "    </tr>\n",
       "  </thead>\n",
       "  <tbody>\n",
       "    <tr>\n",
       "      <th>0</th>\n",
       "      <td>-1</td>\n",
       "      <td>90</td>\n",
       "      <td>-1_great_34_quality_price</td>\n",
       "      <td>great product,quality,great quality</td>\n",
       "      <td>[great, 34, quality, price, br, work, works, p...</td>\n",
       "      <td>[great product, quality, great quality, device...</td>\n",
       "      <td>[great, quality, price, power, battery, good, ...</td>\n",
       "      <td>[great, 34, quality, price, br, work, works, p...</td>\n",
       "      <td>[I have ordered 3 packages of these over the p...</td>\n",
       "    </tr>\n",
       "    <tr>\n",
       "      <th>1</th>\n",
       "      <td>0</td>\n",
       "      <td>42</td>\n",
       "      <td>0_speaker_br_sound_br br</td>\n",
       "      <td>sound quality,bluetooth speakers,speaker</td>\n",
       "      <td>[speaker, br, sound, br br, great, good, size,...</td>\n",
       "      <td>[sound quality, bluetooth speakers, speaker, s...</td>\n",
       "      <td>[speaker, sound, great, good, size, speakers, ...</td>\n",
       "      <td>[speaker, br, sound, br br, great, good, size,...</td>\n",
       "      <td>[First off, I bought this product on sale for ...</td>\n",
       "    </tr>\n",
       "    <tr>\n",
       "      <th>2</th>\n",
       "      <td>1</td>\n",
       "      <td>34</td>\n",
       "      <td>1_headphones_br_sound_br br</td>\n",
       "      <td>headphones,headphone,speakers headphones</td>\n",
       "      <td>[headphones, br, sound, br br, pair, just, don...</td>\n",
       "      <td>[headphones, headphone, speakers headphones, s...</td>\n",
       "      <td>[headphones, br, sound, pair, bass, listening,...</td>\n",
       "      <td>[headphones, br, sound, br br, pair, just, don...</td>\n",
       "      <td>[Excellent sound. Good price. Ear pads are les...</td>\n",
       "    </tr>\n",
       "    <tr>\n",
       "      <th>3</th>\n",
       "      <td>2</td>\n",
       "      <td>31</td>\n",
       "      <td>2_product_great_great product_good</td>\n",
       "      <td>great product,great quality,product</td>\n",
       "      <td>[product, great, great product, good, fast, se...</td>\n",
       "      <td>[great product, great quality, product, fantas...</td>\n",
       "      <td>[product, great, great product, good, fast, se...</td>\n",
       "      <td>[product, great, great product, good, fast, se...</td>\n",
       "      <td>[Great product., great product, great service....</td>\n",
       "    </tr>\n",
       "    <tr>\n",
       "      <th>4</th>\n",
       "      <td>3</td>\n",
       "      <td>23</td>\n",
       "      <td>3_works_works great_did_work</td>\n",
       "      <td>works great,worked great,works fine</td>\n",
       "      <td>[works, works great, did, work, does job, grea...</td>\n",
       "      <td>[works great, worked great, works fine, works,...</td>\n",
       "      <td>[great, job, use, problems, weeks, product, go...</td>\n",
       "      <td>[works, works great, did, work, does job, grea...</td>\n",
       "      <td>[Works great!, works great, works great]</td>\n",
       "    </tr>\n",
       "    <tr>\n",
       "      <th>5</th>\n",
       "      <td>4</td>\n",
       "      <td>17</td>\n",
       "      <td>4_tv_hdmi_end_br</td>\n",
       "      <td>hdmi,tv,cable</td>\n",
       "      <td>[tv, hdmi, end, br, app, receiver, line, great...</td>\n",
       "      <td>[hdmi, tv, cable, cables, sony, speakers, rece...</td>\n",
       "      <td>[hdmi, end, app, receiver, line, great, cable,...</td>\n",
       "      <td>[tv, hdmi, end, br, app, receiver, line, great...</td>\n",
       "      <td>[Such a great option to extend those HDMI cord...</td>\n",
       "    </tr>\n",
       "    <tr>\n",
       "      <th>6</th>\n",
       "      <td>5</td>\n",
       "      <td>13</td>\n",
       "      <td>5_expected_exactly_described_fit</td>\n",
       "      <td>better expected,expected,better</td>\n",
       "      <td>[expected, exactly, described, fit, performed,...</td>\n",
       "      <td>[better expected, expected, better, perfectly,...</td>\n",
       "      <td>[fit, , , , , , , , , ]</td>\n",
       "      <td>[expected, exactly, described, fit, performed,...</td>\n",
       "      <td>[wasnt as loud as expected, exactly as promise...</td>\n",
       "    </tr>\n",
       "  </tbody>\n",
       "</table>\n",
       "</div>"
      ],
      "text/plain": [
       "   Topic  Count                                Name  \\\n",
       "0     -1     90           -1_great_34_quality_price   \n",
       "1      0     42            0_speaker_br_sound_br br   \n",
       "2      1     34         1_headphones_br_sound_br br   \n",
       "3      2     31  2_product_great_great product_good   \n",
       "4      3     23        3_works_works great_did_work   \n",
       "5      4     17                    4_tv_hdmi_end_br   \n",
       "6      5     13    5_expected_exactly_described_fit   \n",
       "\n",
       "                                 CustomName  \\\n",
       "0       great product,quality,great quality   \n",
       "1  sound quality,bluetooth speakers,speaker   \n",
       "2  headphones,headphone,speakers headphones   \n",
       "3       great product,great quality,product   \n",
       "4       works great,worked great,works fine   \n",
       "5                             hdmi,tv,cable   \n",
       "6           better expected,expected,better   \n",
       "\n",
       "                                      Representation  \\\n",
       "0  [great, 34, quality, price, br, work, works, p...   \n",
       "1  [speaker, br, sound, br br, great, good, size,...   \n",
       "2  [headphones, br, sound, br br, pair, just, don...   \n",
       "3  [product, great, great product, good, fast, se...   \n",
       "4  [works, works great, did, work, does job, grea...   \n",
       "5  [tv, hdmi, end, br, app, receiver, line, great...   \n",
       "6  [expected, exactly, described, fit, performed,...   \n",
       "\n",
       "                                             KeyBERT  \\\n",
       "0  [great product, quality, great quality, device...   \n",
       "1  [sound quality, bluetooth speakers, speaker, s...   \n",
       "2  [headphones, headphone, speakers headphones, s...   \n",
       "3  [great product, great quality, product, fantas...   \n",
       "4  [works great, worked great, works fine, works,...   \n",
       "5  [hdmi, tv, cable, cables, sony, speakers, rece...   \n",
       "6  [better expected, expected, better, perfectly,...   \n",
       "\n",
       "                                                 POS  \\\n",
       "0  [great, quality, price, power, battery, good, ...   \n",
       "1  [speaker, sound, great, good, size, speakers, ...   \n",
       "2  [headphones, br, sound, pair, bass, listening,...   \n",
       "3  [product, great, great product, good, fast, se...   \n",
       "4  [great, job, use, problems, weeks, product, go...   \n",
       "5  [hdmi, end, app, receiver, line, great, cable,...   \n",
       "6                            [fit, , , , , , , , , ]   \n",
       "\n",
       "                                                 MMR  \\\n",
       "0  [great, 34, quality, price, br, work, works, p...   \n",
       "1  [speaker, br, sound, br br, great, good, size,...   \n",
       "2  [headphones, br, sound, br br, pair, just, don...   \n",
       "3  [product, great, great product, good, fast, se...   \n",
       "4  [works, works great, did, work, does job, grea...   \n",
       "5  [tv, hdmi, end, br, app, receiver, line, great...   \n",
       "6  [expected, exactly, described, fit, performed,...   \n",
       "\n",
       "                                 Representative_Docs  \n",
       "0  [I have ordered 3 packages of these over the p...  \n",
       "1  [First off, I bought this product on sale for ...  \n",
       "2  [Excellent sound. Good price. Ear pads are les...  \n",
       "3  [Great product., great product, great service....  \n",
       "4           [Works great!, works great, works great]  \n",
       "5  [Such a great option to extend those HDMI cord...  \n",
       "6  [wasnt as loud as expected, exactly as promise...  "
      ]
     },
     "execution_count": 64,
     "metadata": {},
     "output_type": "execute_result"
    }
   ],
   "source": [
    "topic_model.get_topic_info()"
   ]
  },
  {
   "cell_type": "code",
   "execution_count": 54,
   "metadata": {},
   "outputs": [
    {
     "data": {
      "text/plain": [
       "{'Main': [('headphones', 0.08279678174701796),\n",
       "  ('br', 0.07594886849349898),\n",
       "  ('sound', 0.06473104219968136),\n",
       "  ('br br', 0.04959050817602452),\n",
       "  ('pair', 0.0494141097703832),\n",
       "  ('just', 0.049073378136489945),\n",
       "  ('don', 0.04821706592908403),\n",
       "  ('bass', 0.04557480390406242),\n",
       "  ('like', 0.04453615055571751),\n",
       "  ('use', 0.0418405355342957)],\n",
       " 'KeyBERT': [('headphones', 0.5959835),\n",
       "  ('headphone', 0.5579121),\n",
       "  ('speakers headphones', 0.5243578),\n",
       "  ('sound quality', 0.47302055),\n",
       "  ('bass', 0.3699308),\n",
       "  ('listening', 0.3338617),\n",
       "  ('sound', 0.3094788),\n",
       "  ('noise', 0.30541444),\n",
       "  ('music', 0.27672616),\n",
       "  ('listen', 0.27580574)],\n",
       " 'POS': [('headphones', 0.08279678174701796),\n",
       "  ('br', 0.07594886849349898),\n",
       "  ('sound', 0.06473104219968136),\n",
       "  ('pair', 0.0494141097703832),\n",
       "  ('bass', 0.04557480390406242),\n",
       "  ('listening', 0.03958825748262999),\n",
       "  ('great', 0.03923017216314647),\n",
       "  ('noise', 0.0348915938713856),\n",
       "  ('good', 0.03177691825486004),\n",
       "  ('music', 0.028930239557450423)],\n",
       " 'MMR': [('headphones', 0.08279678174701796),\n",
       "  ('br', 0.07594886849349898),\n",
       "  ('sound', 0.06473104219968136),\n",
       "  ('br br', 0.04959050817602452),\n",
       "  ('pair', 0.0494141097703832),\n",
       "  ('just', 0.049073378136489945),\n",
       "  ('don', 0.04821706592908403),\n",
       "  ('bass', 0.04557480390406242),\n",
       "  ('like', 0.04453615055571751),\n",
       "  ('use', 0.0418405355342957)]}"
      ]
     },
     "execution_count": 54,
     "metadata": {},
     "output_type": "execute_result"
    }
   ],
   "source": [
    "topic_model.get_topic(1, full=True)"
   ]
  },
  {
   "cell_type": "code",
   "execution_count": 65,
   "metadata": {},
   "outputs": [
    {
     "name": "stderr",
     "output_type": "stream",
     "text": [
      "100%|██████████| 1/1 [00:00<00:00, 14.76it/s]\n"
     ]
    }
   ],
   "source": [
    "topic_distr, _ = topic_model.approximate_distribution(df['review_body'], window=8, stride=4)"
   ]
  },
  {
   "cell_type": "code",
   "execution_count": 66,
   "metadata": {},
   "outputs": [
    {
     "name": "stdout",
     "output_type": "stream",
     "text": [
      "[[-0.06370269  0.10720373 -0.05701106 ...  0.02399345  0.03330268\n",
      "   0.05962891]\n",
      " [-0.0614793  -0.01381194 -0.02273538 ...  0.00036705  0.03666481\n",
      "   0.02547075]\n",
      " [-0.07048792 -0.03245116 -0.01553081 ... -0.00090661  0.00291771\n",
      "   0.0166677 ]\n",
      " ...\n",
      " [-0.05204808 -0.01369277 -0.02070646 ...  0.00923447 -0.01133341\n",
      "   0.0401332 ]\n",
      " [-0.08399222  0.05477742 -0.00889046 ...  0.05990229  0.07735123\n",
      "  -0.02825404]\n",
      " [ 0.00614069 -0.03187365 -0.02695071 ... -0.16712242 -0.00936904\n",
      "  -0.02204718]]\n"
     ]
    }
   ],
   "source": [
    "print(embeddings)"
   ]
  },
  {
   "cell_type": "code",
   "execution_count": 67,
   "metadata": {},
   "outputs": [
    {
     "ename": "ValueError",
     "evalue": "Mime type rendering requires nbformat>=4.2.0 but it is not installed",
     "output_type": "error",
     "traceback": [
      "\u001b[0;31m---------------------------------------------------------------------------\u001b[0m",
      "\u001b[0;31mValueError\u001b[0m                                Traceback (most recent call last)",
      "File \u001b[0;32m~/Desktop/CS2023/Business Buddy/Business-Buddy/env/lib/python3.8/site-packages/IPython/core/formatters.py:922\u001b[0m, in \u001b[0;36mIPythonDisplayFormatter.__call__\u001b[0;34m(self, obj)\u001b[0m\n\u001b[1;32m    920\u001b[0m method \u001b[39m=\u001b[39m get_real_method(obj, \u001b[39mself\u001b[39m\u001b[39m.\u001b[39mprint_method)\n\u001b[1;32m    921\u001b[0m \u001b[39mif\u001b[39;00m method \u001b[39mis\u001b[39;00m \u001b[39mnot\u001b[39;00m \u001b[39mNone\u001b[39;00m:\n\u001b[0;32m--> 922\u001b[0m     method()\n\u001b[1;32m    923\u001b[0m     \u001b[39mreturn\u001b[39;00m \u001b[39mTrue\u001b[39;00m\n",
      "File \u001b[0;32m~/Desktop/CS2023/Business Buddy/Business-Buddy/env/lib/python3.8/site-packages/plotly/basedatatypes.py:832\u001b[0m, in \u001b[0;36mBaseFigure._ipython_display_\u001b[0;34m(self)\u001b[0m\n\u001b[1;32m    829\u001b[0m \u001b[39mimport\u001b[39;00m \u001b[39mplotly\u001b[39;00m\u001b[39m.\u001b[39;00m\u001b[39mio\u001b[39;00m \u001b[39mas\u001b[39;00m \u001b[39mpio\u001b[39;00m\n\u001b[1;32m    831\u001b[0m \u001b[39mif\u001b[39;00m pio\u001b[39m.\u001b[39mrenderers\u001b[39m.\u001b[39mrender_on_display \u001b[39mand\u001b[39;00m pio\u001b[39m.\u001b[39mrenderers\u001b[39m.\u001b[39mdefault:\n\u001b[0;32m--> 832\u001b[0m     pio\u001b[39m.\u001b[39;49mshow(\u001b[39mself\u001b[39;49m)\n\u001b[1;32m    833\u001b[0m \u001b[39melse\u001b[39;00m:\n\u001b[1;32m    834\u001b[0m     \u001b[39mprint\u001b[39m(\u001b[39mrepr\u001b[39m(\u001b[39mself\u001b[39m))\n",
      "File \u001b[0;32m~/Desktop/CS2023/Business Buddy/Business-Buddy/env/lib/python3.8/site-packages/plotly/io/_renderers.py:394\u001b[0m, in \u001b[0;36mshow\u001b[0;34m(fig, renderer, validate, **kwargs)\u001b[0m\n\u001b[1;32m    389\u001b[0m         \u001b[39mraise\u001b[39;00m \u001b[39mValueError\u001b[39;00m(\n\u001b[1;32m    390\u001b[0m             \u001b[39m\"\u001b[39m\u001b[39mMime type rendering requires ipython but it is not installed\u001b[39m\u001b[39m\"\u001b[39m\n\u001b[1;32m    391\u001b[0m         )\n\u001b[1;32m    393\u001b[0m     \u001b[39mif\u001b[39;00m \u001b[39mnot\u001b[39;00m nbformat \u001b[39mor\u001b[39;00m Version(nbformat\u001b[39m.\u001b[39m__version__) \u001b[39m<\u001b[39m Version(\u001b[39m\"\u001b[39m\u001b[39m4.2.0\u001b[39m\u001b[39m\"\u001b[39m):\n\u001b[0;32m--> 394\u001b[0m         \u001b[39mraise\u001b[39;00m \u001b[39mValueError\u001b[39;00m(\n\u001b[1;32m    395\u001b[0m             \u001b[39m\"\u001b[39m\u001b[39mMime type rendering requires nbformat>=4.2.0 but it is not installed\u001b[39m\u001b[39m\"\u001b[39m\n\u001b[1;32m    396\u001b[0m         )\n\u001b[1;32m    398\u001b[0m     ipython_display\u001b[39m.\u001b[39mdisplay(bundle, raw\u001b[39m=\u001b[39m\u001b[39mTrue\u001b[39;00m)\n\u001b[1;32m    400\u001b[0m \u001b[39m# external renderers\u001b[39;00m\n",
      "\u001b[0;31mValueError\u001b[0m: Mime type rendering requires nbformat>=4.2.0 but it is not installed"
     ]
    },
    {
     "data": {
      "application/vnd.plotly.v1+json": {
       "config": {
        "plotlyServerURL": "https://plot.ly"
       },
       "data": [
        {
         "hoverinfo": "text",
         "hovertext": [
          "I like it",
          "Really cool design and it goes up really easy.  The amount of adjustment is really nice as well.  It's been up for almost two months with our 55 inch TV and hasn't moved as all unless I'm the one to move it.",
          "Installation is doable and the cartridge and needle work. Four cables attach to it from the shell, and it took some persuasion to push them on.<br /><br />Needle seems to have a slight angle (to the side, not the needle in the groove), but does play without ruing the LP.",
          "Exactly as described. The sleeves have helped to &#34;tidy up&#34; by work space. Thanks!",
          "Well, I purchased this Masione® Surge Protector Strip 2500W 6 Outlet Black Power Socket With Lightningproof last week and since it arrived, it has changed names and has changed the description now not mentioning surge protection. I'm not sure if my computer and $200 router are safe with this outlet strip. It provides power and is compact. I chose it for its straight plug which was needed to go into a recessed floor outlet but wanted something that had surge protection because of its use under my desk.",
          "Horrible",
          "did not support my xm radio it does not produce 12 v dc more like 8.5 v dc. they also have a no return policy go figure.",
          "Fine item.  Best reception I've had since DTV became a reality several years ago.  Picked up more channels that previous antennas.",
          "Good quality Good Price!",
          "I bought this as a replacement for my Verizon FIOS backup battery. The original battery lasted over three years... this one lasted 8 months. The &#34;Designed for long life: 6 - 8 years&#34; statement is a joke.<br /><br />I finally contacted the company after a week of trying (even after a year, their website listed on the battery is not working) and they offered me a replacement, however I had to ship the battery back to them first at my expense. To pay $20 to return a $23 battery for replacement is ridiculous, so their &#34;3-year replacement warranty&#34; is absolutely worthless.",
          "The turntable do not work correctly.  It was dragging!  Otherwise, the sound and other features worked well!!",
          "Works great in Charlotte, NC. Received all the major networks crystal clear. Highly recommend :)",
          "My son gets 41 channels in Hickory NC. He is well pleased.",
          "well, it is a pain to have a odd charging cable and to also remember how to pair it to another phone.  Keep the instructions around, you will need them",
          "very good especially for notebooks with micro hdmi and you want to connect it to a computer screen",
          "Gave to husband and he likes them.",
          "I am having a hard time getting the nut tight behind the mount for the monitor. It seems tight, but the monitor still pivots left and right way to easy. I also see lots of people complaining whey they tried to get it really tight they broke the mount.  I have used better mounts that are only a few dollars more. Spend a little more and get a decent mount.",
          "I have ordered 3 packages of these over the past few weeks and all of them have been different sizes. The first 100 fit perfectly with about 1/4&#34; overhang at the top, I like that compared to the other sleeves that usually hang 1/2&#34;-3/4&#34; over the top of the record. The second 100 I received were cut incorrectly and I couldn't even get the record inside of them. I sent those back and re-ordered, when the 3rd shipment arrived they fit perfectly but some of them are cut too short and don't even reach the top of the record.<br /><br />This would be a great product if the company had better quality control standards, as is I won't be using these in the future.",
          "While cord was shorter than I would have liked (3 ft.), The product shipped quickly for coming from China and works fine.",
          "Fits and functions perfectly for my printer. Not much else to say.",
          "I got these and used them a couple o times to swim. However, a few months after my purchase, I felt that one side was louder than the other. I turned them around and discovered that I'm not the one with a malfunction, but its this gadget somehow looses strength on one side. I bought these to replace my previous Sony Walkman, that suffered from the same malfunction. My conclusion is this: the Sony Walkman NWZW273S does NOT work!",
          "Great mounts worked perfectly for my surround sound. ....a must buy",
          "Great sound quality for the price, LOVE the matte finish and no logo. Great business model and exceptional customer service.",
          "Just bought my second and third one of these.  The first one backs up a desktop computer and monitor and easily runs it for 15 minutes after a power outage.  The new ones are to power my cable box (Comcast) because even the briefest flicker of power and the box goes through the whole five minutes restart procedure.  The other one is just for the modem/router/VOIP/NAT devices.  We don't lose power very often or for very long periods of time but keeping all those devices from resetting and rebooting is worth the price of these inexpensive UPS devices (paid $45 each).  Batteries are easily replaceable and about $17 each for the generic brand.",
          "Works great, I wound up pairing this with a Sonos Connect, so I didn't have to but the Connect.Amp.  Puts out enough sound and works amazingly.",
          "I was so happy to get this little case, we have a DVD player in the car and I'm tired of having an endless array of Disney & Dreamworks DVD cases stuffed into my console.  Quality is good, the plastic sleeves seem like they will hold up.  The case is more rigid so it offers protection for your very valuable collection of the Planes series DVD's.",
          "We bought this for my daughter for her birthday in July.  She turned 13.  She played it 3 times with the new albums she got for her birthday.  She went to listen to some more new albums she bought and it didn't work.  The turntable would not turn!!!  I went to replace this item and I was literally 5 days from the last chance date that I had to return this item.  Not happy at all.  Now she is upset!!!",
          "now they tell me you can't split optical audio",
          "Great quality for the price.  I believe they will last the entire school year.  They do not look cheezy at all.",
          "A nice aid to fast-tuning the MP1 80, 60 & 40-10m coils.",
          "Great batteries,  highly recommend them.",
          "everything I expected for a great price",
          "This is less expensive than replacing the battery back up and also the battery fit fine.",
          "Great space saving solution for consolidating all your DVDs!",
          "I usually love cranking up the bass in my car stereo once i get a new car. After receiving a free trial of the TACO speaker well i don't have to crank it up lol, the bass sounds amazing. Every song with lots of bass i can think of sounds amazing through these red speakers.",
          "It does not copy CD-R s to USB as advertised. My CD's were recorded on a Sony machine and properly finalized. They copy on other machines.<br />It repeatedly shows &#34;copy protected wait&#34;.<br />None of my CD-R s are copy protected. I do want a machine that will copy my CD-R collection to USB.",
          "Makes a difference right out of the box. I have 4 mini usb's. One apple old<br />and one apple new style. I plugged this in and keep it hidden away with all<br />of my bluetooth speakers, headphones etc. Fantastic way to keep things<br />charged .....QUICKLY.. and out of place and organized. I like it first for making<br />me organize everything in place ..even though the super fast charge is a<br />definite plus. Comes with sticky tape to hold into place ...so it doesn't move<br />around on shelf. Very happy with purchase.",
          "I ordered one, Loved it.  So I  gave the first one to my husband who was traveling for a month and ordered another for myself......wouldn't turn on after charging.  Returned for another one...same problem.  GRRRRRR!",
          "Can't get any simpler that this.  And it works just about anywhere you can find a flat lip or side panel.  Ideally the lip should be at least 1 3/8&#34; for best stability, but I got it to hold decently well on the short lip of my desk top, which is just 3/4&#34;.<br /><br />Because the front hanger piece can be adjusted to hang parallel or perpendicular, (or any angle in between), to the clamping surface, I was able to get the firmest grip on the side of a bookcase.  My best idea, and where I use it now, is attached to the arm of my executive style office chair, near where it meets the chair back.  I don't knock it with my arm or elbow as I raise/lower/turn in my chair.  It is really a nifty place to stow the headphones--within easy reach, but not a cumbersome location either.<br /><br />It is well-constructed with  good layer of powder coating on the metal.  Hardware looks to be top quality, too.<br /><br />*I received a sample product from Brainwavz.",
          "Works well. Bass is somewhat lacking but is present. Overall pleased with the item.",
          "Cheap and good",
          "Wish I could tilt it more up & down, but it works fine especially considering the price. Great price, great product. we're going to buy another one for our upstairs TV.",
          "work great at the right bprice",
          "You won't be disappointed. The only draw back is that you can't change out batteries",
          "Love this radio. It alerts the whole family when any form of weather changes. Plus you can have one in each room.",
          "Bought Dec 6, 2014 and worked great until today... Now, the charger no longer charges and will not power the unit with the battery slide switch in OFF position. Checked the charger with a Volt Meter to be at 12.5 Vdc even with a 10 Ohm power resistor connected to it. Which means that the problem is in the Max A34. Not very easy to take apart as everything is glued with a soft glue gun. Now it is an expensive paper weight. Doubt 1 year warranty is worth anything, but will look into it. Cannot recommend this product based on this experience.",
          "I have 2 different things set up on here and it switches according to what is turned on.  No problems at all.",
          "I am extremely satisfied at the quality of these especially for the money. I was in need of longer headphone extension cables and these have not disappointed.",
          "Work good but could be better. Clear sound.",
          "gets every hot",
          "Phones were dead prior to replacing them with these new replacement batteries,",
          "Quality construction.  Small but heavy construction.  Works very well with my record player.",
          "Hard to beat the price. They all seem to work the same and be the same quality, why pay more?",
          "Great product, sturdy, works like a breeze and came very handy for my rack (attached picture). The two front receptacles are great when you work with a laptop in front of the rack and need to charge it, including your cell phone. I chose this version with and Amp meter, even though it still shows zero dot zero, but that's because I ended up plugging in very light applications like cable modem, IR repeater, USB fan, etc. Otherwise, if you plug in a hair dryer for testing purposes, you will start seeing the amps come up. So it does work, and very well. It is only a few inches deep. Few tips: always leave some space above or below the unit, so that if you plug in AC/DC adapters (those that come with small routers and modems), you will have enough clearance to plug the adapters in the back. Otherwise you can always buy those very short NEMA extensions to clear the path (http://www.amazon.com/C2G-Cables-03114-Outlet-Extension/dp/B0002J1KRQ/ref=sr_1_4?ie=UTF8&qid=1440983975&sr=8-4&keywords=nema+extension). On the negative side, I wish it had come with an ON/OFF switch in the front...",
          "Fairly sturdy, all metal construction, it did come with wall anchors, screws & straps to secure it upright if you need to do so. No missing parts, and the fit & finish are very good. Instructions are very basic, but it's easy tool free assembly means a 1 sheet instruction page is fine.<br /><br />As the shelves are adjustable to wherever you want them to go, you may have extra shelves leftover depending on how and where you place them on the poles.  As I migrate my DVD collection to Blu-Ray, I'll shrink the space between shelves and add the extras later.<br /><br />Overall, very pleased with this product at this price point.",
          "The only batteries I buy for my DSLR Cameras.",
          "I've tried 2 of these and both screens failed in a year.",
          "Use along with the colored ones I also ordered.",
          "Fits my tv perfectly",
          "didn't really help with cable clutter",
          "It works well~~~",
          "Cord tooooo long and plus not cl",
          "Great product at a fair price. It was easy to install and has worked out just fine. I would recommend this product to another customer",
          "These do not hold as long of a charge as the green-capped compeditors, even though the MW/hr is advertised to be higher.  However these do work as batteries and will hold a 'decent' charge, however the charge is shorter lived than other batteries of the same type I have tried.  I do use these often.  Also these did fry one of my USB ports, so use ONLY in outlet-usb ports.",
          "Sorry, this cable worked for about a week then broke. I had ordered others before and same result. My fault for thinking things would change. Thought I had gotten a bad set, but that is the rule...not the exception. I'll try the more expensives ones from Bose.",
          "Good Quality. Good Price.",
          "Good unit...sturdy...easy to mount and at a value price.  What more could you ask for?  I recommend.",
          "I bought one of these radios from BiMart about 4 years ago without listening to it (the selection was very limited and I was in a big rush). I would not buy it again. The sound is tinny, it has no automatic shutoff (a must for me), and the station tuning knob makes a huge change with only the slightest turn of the knob; that shortcoming drives me nuts. I use it only on camping and hunting trips to receive the Weather Service weather reports and as a backup for my Sangean AM/FM portable radio (love that one). I never could get it to work with the hand crank; maybe I am not doing something right. I have several other Midland products (CB, FRS, GMRS radios) and they are all pretty good but Midland fumbled the ball with this one.",
          "Great Energy Level VI travel charger! Very compact and fast charging. It is the most convenient product I never seen before ! I like it. I am very happy with this seller . Order packed very well and ship fast .Great energy level VI slimmest travel charger . Courteous service !",
          "Hold TV very secure.",
          "Our family loves to go bike riding but i get bored after a while. I got a free trial of these Taco speakers and took them along one time when i rode for a while. Put on my favorite jam and jammed out to the amazing music.",
          "USELESS AND BROKEN...Didn't even get to use it once.  Just utter poo quality.",
          "Battery is much improved from earlier models.",
          "Installed and I was able to pull up all the public channels. To determine what this antenna will pickup you will need to plug your zipcode into the following site that will list available public TV channels: http://antennaweb.org/  The site takes into account terrain.",
          "It worked perfectly for my Samsung 46&#34;. It's affordable (I paid $15.66), has a great quality and it's easy to install! I'd recommend it.",
          "Watched a video on how to install it on YouTube and it was easy",
          "Excellent gain in radio frequency reception over the stock antenna that came with the radio.",
          "Excellent for my child's dorm room",
          "Too expensive & reception is not great. A $10 antenna does the same job.",
          "great quality for the price",
          "Breaks very easily, and takes a while to load music",
          "I put these in some VoIP/SIP Cordless Phones (Yealink). They really do hold their charge well.",
          "Very good built quality. I use this screen with a pocket sized projector and everyone is impressed with the utility value and the set up. The screen is perfect for a meeting where it is not possible to use a large screen. This screen fits inside my large suitcase and set ups in a snap. My colleagues were so impressed, they ordered it as well after seeing it.",
          "just what I needed only used one but do have more things to use on",
          "Excellent product, performs as advertised.  Receive, read instructions, connect to your audio system with included cables, sync to your Bluetooth device (iPhone 4S), play music, enjoy!  Thank you, enough said.",
          "this is worst, I test it when i got it since it arrived very very late..I charge it up within the 4 hours of charge time and tested it, it ok and then the next day it just malfunction/stop working till now..so this is just a garbage..",
          "Excellent!!",
          "Works fine for my application. Range is not the best but fine for my use",
          "Great charger.",
          "Use these in my RV on windows and doors for a bit of added security.  Stay put and do the job. Great Seller!",
          null
         ],
         "marker": {
          "color": "#CFD8DC",
          "opacity": 0.5,
          "size": 5
         },
         "mode": "markers+text",
         "name": "other",
         "showlegend": false,
         "type": "scattergl",
         "x": [
          10.296674728393555,
          11.439470291137695,
          12.292699813842773,
          10.348685264587402,
          13.665024757385254,
          10.358283042907715,
          12.66073226928711,
          12.415650367736816,
          12.175204277038574,
          13.90302848815918,
          13.384193420410156,
          12.290321350097656,
          12.373075485229492,
          14.255172729492188,
          12.143964767456055,
          10.987573623657227,
          11.280815124511719,
          10.348746299743652,
          11.97976303100586,
          10.521507263183594,
          14.396224021911621,
          11.483625411987305,
          12.389898300170898,
          13.800657272338867,
          13.637260437011719,
          13.003358840942383,
          13.447590827941895,
          12.537442207336426,
          12.337162971496582,
          12.316591262817383,
          13.545635223388672,
          9.342109680175781,
          13.944287300109863,
          12.777233123779297,
          14.361431121826172,
          13.154298782348633,
          13.13267993927002,
          13.442307472229004,
          13.018179893493652,
          14.21225357055664,
          12.210731506347656,
          11.43811321258545,
          9.647565841674805,
          13.827152252197266,
          13.133152961730957,
          13.608890533447266,
          13.168285369873047,
          12.501323699951172,
          14.986655235290527,
          9.835437774658203,
          13.997416496276855,
          11.765582084655762,
          12.252493858337402,
          12.741744995117188,
          11.662200927734375,
          13.720003128051758,
          11.292293548583984,
          10.333307266235352,
          10.749459266662598,
          11.810897827148438,
          9.642534255981445,
          11.996251106262207,
          11.878891944885254,
          13.40575122833252,
          12.368159294128418,
          12.133854866027832,
          11.752641677856445,
          13.071677207946777,
          13.580982208251953,
          11.33471393585205,
          15.195256233215332,
          11.597970962524414,
          13.805767059326172,
          12.44866943359375,
          11.389178276062012,
          12.063582420349121,
          12.607651710510254,
          11.739181518554688,
          12.555707931518555,
          12.119558334350586,
          13.576419830322266,
          13.420661926269531,
          11.739877700805664,
          10.156293869018555,
          13.83420181274414,
          13.539045333862305,
          9.956048965454102,
          11.759058952331543,
          13.34698486328125,
          11.70616340637207,
          12.375625610351562
         ],
         "y": [
          5.530210018157959,
          9.398043632507324,
          8.15518569946289,
          9.08538818359375,
          7.055150032043457,
          6.2271037101745605,
          9.112640380859375,
          9.0987548828125,
          6.505183696746826,
          7.157527446746826,
          8.080801010131836,
          9.134868621826172,
          9.14294147491455,
          9.278327941894531,
          9.905754089355469,
          6.66417932510376,
          9.656229019165039,
          9.072441101074219,
          10.66838264465332,
          9.036900520324707,
          9.306410789489746,
          9.783935546875,
          6.723379135131836,
          6.996338844299316,
          9.419937133789062,
          10.437708854675293,
          8.18772029876709,
          10.40914535522461,
          6.632264137268066,
          6.437877178192139,
          6.7799973487854,
          8.132981300354004,
          7.055302619934082,
          10.313797950744629,
          10.70252799987793,
          10.313849449157715,
          10.40481948852539,
          7.752137660980225,
          10.424609184265137,
          10.603059768676758,
          6.429459571838379,
          9.433128356933594,
          7.108416557312012,
          6.921703815460205,
          8.933062553405762,
          7.519355297088623,
          7.7908148765563965,
          10.75493049621582,
          9.576290130615234,
          7.118387222290039,
          7.155622959136963,
          8.776792526245117,
          9.607948303222656,
          10.20621395111084,
          8.949212074279785,
          6.802407741546631,
          7.441699981689453,
          7.812014579772949,
          9.193394660949707,
          10.372912406921387,
          6.617710113525391,
          10.659460067749023,
          8.193930625915527,
          10.296343803405762,
          10.362838745117188,
          6.45544958114624,
          8.755781173706055,
          8.99432373046875,
          7.026165008544922,
          9.603461265563965,
          8.98526382446289,
          6.804322719573975,
          6.9310407638549805,
          9.128373146057129,
          9.13287353515625,
          8.137397766113281,
          8.98943042755127,
          8.419976234436035,
          9.053570747375488,
          6.4384894371032715,
          8.153884887695312,
          10.31418228149414,
          9.1417236328125,
          8.0521821975708,
          9.157658576965332,
          7.7284016609191895,
          6.2278571128845215,
          7.5126142501831055,
          6.897024154663086,
          8.254286766052246,
          8.479040145874023
         ]
        },
        {
         "hoverinfo": "text",
         "hovertext": [
          "When I bought this speaker, I had one request.... I want to be able to wake up to the music of the Harry Potter Intro in mp3 with a soft wake up (volume gradually going up (which I emulated in audacity)).... Which I recommend to anyone with a relative light sleep, it really is magical.<br /><br />Anyway...the mp3 alarm is not reliable... worked fine for 3 days then doesn't start<br />I don't know if it's related to the way you previously stopped the music....unclear....<br />The screen is also way too bright (and quite small) to be used as a clock in a dark room (I put papers on top to soften it a little bit)<br /><br />I tried all buttons and buttons combinations to fix my alarm problem and nothing worked....<br />only unplug, turning off, turning back on fixed it....for one day....",
          "Use this everyday at work..  Great noise cancellation.  Wonderful product.",
          "Easy set up! Us it on long rides while training on road bikes. Only had a short time, but happy with purchase so far1",
          "The rather small but I guess if I read the description better I would've noticed that.",
          "1.The exact colour as the picture.<br />2. Easy to set up especially for a beginner.<br />3.I like the fact that I can also use an aux cord for songs I don't have on vinyl.",
          "I really enjoy the the skip and pause functions. Only things I would change is being able to adjust the volume on the speaker itself, and for it to have a better stick, had trouble getting it on the shower. But it was loud enough and easy to use. So ultimately happy with it.",
          "Replaced a Logitech wireless radio with this in my bathroom - sounds so much better!",
          "I bought this adapter to stream my music from my Samsung Note Edge smart phone to my Nissan Murano 2014. My 2014 Murano doesn't come with streaming music so I had to figure out a way to listen to my music on my smart phone.<br /><br />My car does come with a DVD audio-visual' adaptor so I was able to use the Monster MusicConnect Portable Audio Player to connect my phone to my car and it works awesome.",
          "I use this all the time now.  Works great, battery lasts a long time, great sound.",
          "First off, I bought this product on sale for $25 off of Amazon. What a great deal, this bluetooth speaker is LOUD! It's got fair bass levels for the size and price point. Both front and back of the device emit sound, though front is louder. I think this gives it better quality and more range. I use this out by the pool and plan on using for fishing trips and tailgates. The only reason i did not give it 5 stars, when pressing the volume +/- the music stops for a &#34;boop&#34; noise. Also, when powering on, changing modes, or pairing a device, the speaker plays a womens voice that sounds almost comical. It's a little goofy, but at this price point who cares. This speaker is comparable to high end units of the same size, with just slightly less bass.<br /><br />Thanks Amazon!",
          "I appreciate my speaker, it's loud and clear",
          "Enjoy crystal clear clarity sound with this product!  Super great quality! Highly recommended! Would make a perfect gift for anyone or for yourself!!",
          "[[VIDEOID:3bdd17778455ef097fcffb1d018022b6]] There is a good variance in Bluetooth speakers, from physical design, extras in the box and sound quality. Not all speakers are worth your time and money. This little Cube speaker by iGadgitz is a very interesting speaker; it may be little but it has big sound and it works very well. I did find one potential issue when it comes to the range of operation that I will describe below.<br /><br />This is one of the smallest speakers I have seen and used. In spite of its size, it is a solid and hefty little speaker, weighing more than you'd expect. In my mind this is a good sign: it means that there is more to this little speaker than a cheap little speaker and a sub-par receiver. To be honest I was a little skeptical that it would put out good sound when I first saw this speaker. It has pleasantly surprised me (more on that shortly).<br /><br />This speaker pairs and connects very easily. When it is in discoverable mode it identifies itself as \\\\\"Xquare 2\\\\\". I had no issue with it pairing to my phone and once connected it remained connected without issue.<br /><br />The range on this speaker is good and I have been able to carry it from the source to a distance between 20' - 30' before it began to stutter or cut out. I have seen speakers that have more range but the majority of them fall into this threshold. Now, that said I need to mention an issue that came up in testing that should be kept in mind. If the speaker is sitting such that the switch and controls are facing down (that is, the control side is on the flat surface where it is sitting) the range is cut very dramatically. With the speaker sitting that way the range dropped to about 6' before it started cutting out. It did not seem to matter if it was the speaker that was moving away from the source or the other way around.<br /><br />I loaded up some music and played it through this speaker and was pleased with the outcome. The speaker has no problem with playing at higher volume, without distortion or \\\\\"washing out\\\\\". The profile is very good too - the bass is strong and slightly elevated but not overkill, the midrange is very good and the music has depth as a result, and the highs are bright and crisp. For such a small speaker, this one produces better-than-expected sound.<br /><br />This is one of my favorite Bluetooth speakers. It is very small but it has excellent sound and is made very well. The size makes it placeable in areas where other speakers are too bulky to fit. This speaker proves that smaller speakers can have great sound and it's worth its asking price.<br /><br />Disclaimer: I was provided a sample of this product in exchange for a fair, honest and thorough review. Even though I received this product at no cost I have rated and reviewed this product without bias, based solely on my experience with it.er volume, without distortion or \\\\\"washing out\\\\\". The profile is very good too - the bass is strong and slightly elevated but not overkill, the midrange is very good and the music has depth as a result, and the highs are bright and crisp. For such a small speaker, this one produces better-than-expected sound.<br /><br />This is one of my favorite Bluetooth speakers. It is very small but it has excellent sound and is made very well. The size makes it placeable in areas where other speakers are too bulky to fit. This speaker proves that smaller speakers can have great sound and it's worth its asking price.<br /><br />Disclaimer: I was provided a sample of this product in exchange for a fair, honest and thorough review. Even though I received this product at no cost I have rated and reviewed this product without bias, based solely on my experience with it.",
          "Great speaker, especially for the price.  Use it as an alternative to a computer monitor speaker.  Keep it plugged into the monitor & computer, has great sound and I can take it with me whenever I want to.  Great buy",
          "For a speaker its size the sound and volume are great. I would recommend this little speaker",
          "Great sound and compact. Battery life seems good. Happy with this product.",
          "I like this device.  The sound is clear and it carries well.  It is so convenient to carry only this speaker.  I can use it through wi-fi or I can plug it in to my laptop and play my playlist.  It has a rechargeable battery and lets you know when the battery is low so you can plug it in and charge it. I am pleased with this purchase.",
          "Nice sound for what it is – a small Bluetooth speaker.  Syncs easily with my iPad.  Good clear sound, decent bass.  Sounds great on talk radio stations.  Nice little unit for the price.",
          "[[VIDEOID:46129030a61a028dbd8e69c13b30606]] Please watch the video for more specifics.<br />I enjoyed using this Bluetooth speaker from TaoTronics.<br />You should wet the suction cup or else it will not stick very, once you do that you should be fine.<br />The audio is very clear the sound is very good overall but the bass may lack a little bit due to the size which is to be expected.<br />I found it interesting the typical double tapping of the phone button is not how you call the last caller, instead you must hold the button down which is different than what I'm used to but something worth noting.<br />It takes approximately two hours to charge after which you can expect 5-6 hours of playback from the 500mAh battery. When the battery is low it will beep to indicate that it's time for it to be recharged<br />The included user manual is very clear and very easy to read.<br />The charging ports is well covered so no issue there with water.<br />As you remember to wet the suction cup it will actually stick but if you do not it will probably only stick for a matter of minutes I found.<br />You can't submerged in water completely obviously but splashes here and there shouldn't be an issue.<br />Review sample provided free or at a discounted price for a fair, unbiased, and honest review.",
          "Love this small speaker with loud volume, great for the beach",
          "Looking to replace my iPod before it completely dies. I could not deal with the UI so I returned it. meant to by the newer version of this device but I am certain that was my fault.",
          "Junk - will play MP3, but not WMA, even though the instructions it comes with says it will.  When you try to play WMA, you get &#34;FORMAT ERROR!&#34;.  My wife bought for a birthday present, by the time I opened it, I can no longer return it.  Instructions do not match player, menu, like everyone else said, is not intuitive.  To select something, you push &#34;Menu&#34;, when you would expect to push the button in the middle.  Aggravated with this player AND Amazon!",
          "Nice player. A little difficult to learn how to power off but getting better at it.",
          "This player is an absolute fraud. the system is horrible to use you cant play playlists. its just a cheap knockoff, I hope apple sues them. I want my money back...",
          "Good sound quality.",
          "Good sound... stays in place when running",
          "When I see another component stacked on top of an amplifier, I ask myself - Do you not realize by blocking air movement, you are causing any amplifier to get many times hotter than it should. Effectively reducing it's lifespan considerably!",
          "Easy to use, good sound, great battery life, very portable, exceptional value.",
          "Best price and fast shipping. Great speaker. Very portable - nice to carry around. Try it - You'll like it!!",
          "Exactly what I was looking for - an inexpensive, light set of phones for listening to Pandora on iPad",
          "This had pretty good sound, but would not fit on my bike.  It requires you to have handlebars that are straight for at least the length of the speaker.  I didn't want to bend the cheap-looking clips too much, either.  However, the reason that I returned it was because it refused to charge out of the box.  Plugged in, it sounded rather nice, but that's kind of pointless for a bike speaker.",
          "So, I wouldn't have purchased this if it were not for my wife, who is infinitely frustrated with my audio setup.<br /><br />I needed something that would sit next to our TV, and be simple to use.  The fact that this has a remote is a nice bonus.  The fact that this can grab my local radio stations is a HUGE bonus - one which I didn't know it could do (does it via streaming).<br /><br />My problem is that I have this setup:<br /><br />Computer requests audio to be played from a Linux computer which uses a M2Tech Hiface to stream digital to my DAC (streamed lossless FLAC).  This then feeds into my preamp, and then amp and speakers.  To access the linux computer that runs the whole show, I have to have her use shell login to my linux host (not easy for most people, and if something goes wrong, she can't fix it).  You can then  from command line play pandora or music.<br /><br />So, those issues being stated, after plenty of research, I chose this.  I can connect this up right into my preamp, and she can use it pretty easily.  The setup was a snap, follow a few instructions, and I'm now linked up with my pandora account (I've got probably 40 stations I've been grooming for years).  Great.<br /><br />I had mistook the &#34;antenna&#34; in the product pictures for a coax hookup for an AM/FM antenna.  In fact this hookup is for the antenna to your wireless router.  Very fortunately, this nice box has the great feature of being able to pickup any radio station that streams their broadcasts (which as it turns out, is almost all of the local stations).  Not only that, but I can get stations that I would otherwise not be able to get at all (since I don't rely on an antenna, just whatever I choose to stream).  how do I get my local stations?  Simple !  you just set your location (enter your city I believe).  And it'll select the right stations for where you are.  It will also allow you to then progress outwards and grab more stations that you wouldn't otherwise be able to get with an antenna of probably any size.  I live in Baltimore, and it allows me to get stations hundreds of miles away!  Very slick!!<br /><br />The one downside to this product is that the built-in amplifier is really pretty poor quality.  However, I didn't buy this for that functionality anyway.  I only ended up using it, as my preamp crapped out, and I'm stuck using the built in amp for the time being.  It's nice that it's available, but don't think that if you have decent speakers, that you'll get very good sound quality.  You're much better off using the 'line out' and putting this into your favorite receiver or preamp, as the built in one just isn't so great, but it's functional.ith an antenna of probably any size.  I live in Baltimore, and it allows me to get stations hundreds of miles away!  Very slick!!<br /><br />The one downside to this product is that the built-in amplifier is really pretty poor quality.  However, I didn't buy this for that functionality anyway.  I only ended up using it, as my preamp crapped out, and I'm stuck using the built in amp for the time being.  It's nice that it's available, but don't think that if you have decent speakers, that you'll get very good sound quality.  You're much better off using the 'line out' and putting this into your favorite receiver or preamp, as the built in one just isn't so great, but it's functional.",
          "Has great features like iPod dock and USB port, but the sound is so unclear.<br />I am very disappointed",
          "Love clock radio & CD player.  Easy to operate.",
          "Quickly located the signal and connected.  Very surprised with the sound from such a small speaker.  It's strength is in it's size - easy to move around.  Redefines portable music.  Perfect for the deck, patio and pool.",
          "Very good speaker",
          "The sound quality is unbeatable.  I can't handle turning the volume as high as it can go, it is really a great system for any size room",
          "Awesome speaker! I take it everywhere. Charge really lasts. Sound is great. Range is fantastic. If you're in the market, get this one.",
          "Day 20 November 2014 acquired the JBL portable load Indoor / Outdoor Bluetooth Speaker | Black and hardly used it and 6.16.15 she has stopped working. Just take full charge when left more than 24 hours, yet their working time is no more than 2hs. The few times I used, was always loaded with accessories that accompanied it. I live in Brasilia-DF Brazil, not with the product warranty or aq even there in the USA. She when turned on, provides a noise as if in short circuit and after a while for the noise. only is working connected to the charger.<br /> It is expensive and that left me high and dry.<br /> Disappointed.",
          "The Speaker worked great.  After about 5 months of periodic use, it would not power on.  Omaker sent me a new speaker free of charge.",
          "I was not too that I needed another part to make it work on my new Bose radio not happy with the lack of information",
          "Best table radio ever, better than my Bose."
         ],
         "marker": {
          "opacity": 0.5,
          "size": 5
         },
         "mode": "markers+text",
         "name": "sound quality,bluetooth speakers,speaker",
         "text": [
          "",
          "",
          "",
          "",
          "",
          "",
          "",
          "",
          "",
          "",
          "",
          "",
          "",
          "",
          "",
          "",
          "",
          "",
          "",
          "",
          "",
          "",
          "",
          "",
          "",
          "",
          "",
          "",
          "",
          "",
          "",
          "",
          "",
          "",
          "",
          "",
          "",
          "",
          "",
          "",
          "",
          ""
         ],
         "textfont": {
          "size": 12
         },
         "type": "scattergl",
         "x": [
          13.659324645996094,
          14.769442558288574,
          15.035811424255371,
          14.567596435546875,
          14.37967300415039,
          14.56694507598877,
          13.531937599182129,
          13.84375,
          14.32357406616211,
          14.577147483825684,
          14.89979076385498,
          15.014719009399414,
          14.537363052368164,
          14.710179328918457,
          14.889707565307617,
          14.492680549621582,
          14.593791007995605,
          14.611964225769043,
          14.352069854736328,
          14.792752265930176,
          13.500886917114258,
          13.548039436340332,
          14.66623592376709,
          13.517256736755371,
          14.93264102935791,
          14.807332038879395,
          13.971473693847656,
          14.552002906799316,
          14.57604694366455,
          13.669326782226562,
          14.941845893859863,
          13.4987154006958,
          13.861139297485352,
          13.453500747680664,
          14.716205596923828,
          14.873702049255371,
          14.8439302444458,
          14.324592590332031,
          14.266087532043457,
          14.306328773498535,
          13.005212783813477,
          13.348361015319824
         ],
         "y": [
          8.465365409851074,
          9.750701904296875,
          8.527111053466797,
          8.876769065856934,
          8.662314414978027,
          9.386013984680176,
          8.72396469116211,
          9.11434555053711,
          8.141590118408203,
          9.256556510925293,
          8.965010643005371,
          9.526261329650879,
          9.131946563720703,
          8.561753273010254,
          8.884438514709473,
          8.294198036193848,
          8.69723129272461,
          8.714076042175293,
          9.252408981323242,
          8.85794734954834,
          8.403536796569824,
          8.374517440795898,
          8.48825740814209,
          8.45845890045166,
          9.315646171569824,
          9.77669620513916,
          8.184252738952637,
          8.44565486907959,
          8.369197845458984,
          9.042365074157715,
          8.735788345336914,
          9.250377655029297,
          8.790797233581543,
          8.799546241760254,
          8.834986686706543,
          8.772092819213867,
          9.073695182800293,
          8.476941108703613,
          8.915539741516113,
          8.338497161865234,
          9.117936134338379,
          8.889374732971191
         ]
        },
        {
         "hoverinfo": "text",
         "hovertext": [
          "[[VIDEOID:ca7421903fd1ad5c64ae1dc42a160649]] Earbuds have always been an issue for me. Mine is one of those stereotypical stories -- I can't find a pair that fits my ears well. I've tried so many types of earbuds and most of them give my ear canals some sort of fatigue. It's not that they sound bad, just that keeping them in my ears for more than 10 minutes is painful. The only ones I could tolerate were the Apple EarPods, and I have a love/hate relationship with them. Sure, they sit nicely in my ears, but them being fully open means I lose my music to the crickets of night and pelicans of day. Well, no more! I found the Flare R2A in-ear monitors, and seems my fear of earbuds is over.<br /><br />Disclaimer: This product was provided at a discounted price in exchange for an honest review.<br /><br />The R2s began their life on Kickstarter with a campaign that raised over $170,000. That's quite a lot for IEMs, which are a rather niche market. Flare is a British company that strives for excellence in sound, and hopes that the world can join them in this pursuit. Before the R2s, the company made loudspeakers, so in-ears is a bit of a different industry. I think they did a fine job of things.<br /><br />I listen to a lot of different genres of music, but mostly folk and dream pop lately. To test out the R2s, I listened to hip-hop, jazz, EDM, instrumental guitar and piano, rock, classical, and of course the aforementioned folk. They performed consistently well in every genre. They also look great.<br /><br />First, of course, the sound. These IEMs aren't active noise canceling or anything fancy, which is good because noise canceling often diminishes the sound quality. The R2s are still great for keeping outside noises to a minimum. They use the same plushy foam tips as earplugs, which makes for a comfortable and quiet listening environment. I tried them at work, in the bus, walking down a busy road, and even in a studio while recording. There's absolutely no sound leakage at all, which is great for quiet environments, and none of the quality seems to be lost when the environment is noisy.<br /><br />People sometimes rant about flat response and how it's better than everything else. Those people might be troubled by the R2s. They're warmer than most earbuds, but don't have muddy bass. The main issue with earbuds is always treble: there's way too much of it everywhere. Then Skullcandy wanted to have fun so they started adding a bunch of bass to the mix. Everything above 80Hz seemed to have been lost. The R2s have none of those problems -- highs are crisp, mids cut through well, and the lows of course deliver the much-needed punch, rather than a drone. The responsiveness of everything is very tight.<br /><br />As I said before, everything I listened to with these IEMs sounded wonderful. They revealed details in songs that I didn't know were there, while also being comfortable, affordable, and easy to use. The highs were not overbearing, but pronounced; the high-mids don't clutter the highs at all; the low-mids keep all the bass lines in check; and the lows make sure you remember that the bass drum exists without making you forget about the guitars in the mid-range. That's a great achievement. I really love the way these sound. Everything is balanced. Overall, it's a bit warm, but I would much rather it be warm than sound like tinny old Apple earbuds from the early 2000s, with their mesh and bass-less muddle.<br /><br />On to the design. These things are beautifully minimal, but aren't trying to be artistic, which is nice for a change. The earbuds themselves are black (or whatever color you chose), and the tips and cable match that. There's also a rectangular machined aluminum box that splits the stereo signal for the left and right channels. It doesn't need to be as big as it is, but it does add some pizzazz to things. Lastly, there's the 3.5mm connector, which on mine is black with two gold stripes running through it.<br /><br />I love the design, but there's one ergonomic inconsistency: The aluminum box. It looks cool, and I can see why the designer would have put it there. However, if you want to use these as a versatile pair of IEMs, you may walk with them once in a while, or just move around a bit. The latter is inevitable, and when you do choose to move around you'll hear some strange thudding sounds. That's the box attempting to defy gravity. Every time I hear this I tell myself it's cool to look at, but doesn't need to be so heavy and certainly doesn't add any special functionality. The heaviness, I suppose, adds value to the IEMs. I would just prefer it wasn't here, especially when I'm using these to perform.<br /><br />While these are \\\\\"reference\\\\\" series -- at least according to the marketing by Flare -- I don't recommend using them for referencing. The R2s don't produce a completely flat sound like Sonys do. They're amazing for listening to, but not necessarily for studio work. I tried mixing a few song using them just for fun, and I noticed that most of my mixes tended to lose the low-mid range on other speakers and headphones simply because the R2s are warm. This characteristic is great when listening to music, but not for mixing/producing it.<br /><br />If you're a musician, you'll find that these are great for monitoring (and thus they are named in-ear monitors). I used them to monitor my vocals and piano while recording an entire song and they worked great. The warmth helps make things less straining on the ears, and there's not so much bass that I get a headache using them after a while. I also used these to monitor my synth and the rest of the band while playing live, and the foam tips isolated the sound very well.<br /><br />It's worth noting that since these are in-ear monitors, there is no microphone. The aluminum block in the middle of the cable just acts as a splitter -- there's no hidden microphone. At first this bugged me, because I would receive a call and forget I couldn't use these headphones to talk. After a while, I just accepted it. There's no reason for IEMs to have a microphone since there's no way for you to use it as a talkback to your band or anything. It also goes against the way that Flare built these, which is to solely focus on recreating sound accurately, not adding more sound. Bottom line: A microphone would have been useful, but there isn't one, and that shouldn't be a deal breaker.<br /><br />Here's the verdict: The R2s made me like earbuds again. I was considering the Shure SE215s, but these reign superior. Once they're in my ears, I don't feel like I need to take them out. They feel at home. Even Apple's EarPods, which \\\\\"sit\\\\\" in my ears nicely, don't make me forget that I'm listening to music through small pieces of plastic in my ears. The R2s do, and they don't look ridiculous like some earbuds. My friend even told me he didn't notice I was wearing them because they're so small. That's awesome.e the design, but there's one ergonomic inconsistency: The aluminum box. It looks cool, and I can see why the designer would have put it there. However, if you want to use these as a versatile pair of IEMs, you may walk with them once in a while, or just move around a bit. The latter is inevitable, and when you do choose to move around you'll hear some strange thudding sounds. That's the box attempting to defy gravity. Every time I hear this I tell myself it's cool to look at, but doesn't need to be so heavy and certainly doesn't add any special functionality. The heaviness, I suppose, adds value to the IEMs. I would just prefer it wasn't here, especially when I'm using these to perform.<br /><br />While these are \\\\\"reference\\\\\" series -- at least according to the marketing by Flare -- I don't recommend using them for referencing. The R2s don't produce a completely flat sound like Sonys do. They're amazing for listening to, but not necessarily for studio work. I tried mixing a few song using them just for fun, and I noticed that most of my mixes tended to lose the low-mid range on other speakers and headphones simply because the R2s are warm. This characteristic is great when listening to music, but not for mixing/producing it.<br /><br />If you're a musician, you'll find that these are great for monitoring (and thus they are named in-ear monitors). I used them to monitor my vocals and piano while recording an entire song and they worked great. The warmth helps make things less straining on the ears, and there's not so much bass that I get a headache using them after a while. I also used these to monitor my synth and the rest of the band while playing live, and the foam tips isolated the sound very well.<br /><br />It's worth noting that since these are in-ear monitors, there is no microphone. The aluminum block in the middle of the cable just acts as a splitter -- there's no hidden microphone. At first this bugged me, because I would receive a call and forget I couldn't use these headphones to talk. After a while, I just accepted it. There's no reason for IEMs to have a microphone since there's no way for you to use it as a talkback to your band or anything. It also goes against the way that Flare built these, which is to solely focus on recreating sound accurately, not adding more sound. Bottom line: A microphone would have been useful, but there isn't one, and that shouldn't be a deal breaker.<br /><br />Here's the verdict: The R2s made me like earbuds again. I was considering the Shure SE215s, but these reign superior. Once they're in my ears, I don't feel like I need to take them out. They feel at home. Even Apple's EarPods, which \\\\\"sit\\\\\" in my ears nicely, don't make me forget that I'm listening to music through small pieces of plastic in my ears. The R2s do, and they don't look ridiculous like some earbuds. My friend even told me he didn't notice I was wearing them because they're so small. That's awesome.",
          "these have good bass, but at the same time, even as a basshead I found these to be a bit boomy, they almost have nothing but bass. I did however get them to sound great with the use of the PowerAmp App on my phone, but for the most part, it is honest difficult to find a good spot with the equalizer and if using it with a device that has no PowerAmp app, it will continue to sound boomy. the highs and upper mids are much quieter in comparison. the ear hooks in my opinion are uncomfortable. I really wanted to like these headphones, but they were just too &#34;high Maintenance&#34;. I felt like I was working too hard to be happy with them, I want something that sounds and works good out of the box. the customer buys and uses, they don't work to make the product meet their expectations. for these reasons I decided to return and Went with the Jaybirds Bluebuds x. They are more Portable, come with a hardshell case in comparison to the cheap mesh bag included with the photives, feature better battery life, sound better, and are far more comfortable. For me, it was worth it to pay the extra money, I hope they are durable enough to hold up, but only time will tell.",
          "Great pair of headphones for the price. If you've ever taken an overnight flight and had trouble sleeping because of the ambient noise, it's amazing what a little noise reduction can do. You can use these headphones without even plugging them in, just for the noise reduction. On the other hand, they sound pretty good as well. I found these phones comfortable enough to wear for several hours straight. All in all, a good investment in peace and quiet!",
          "I really like these headphones. Great excess noise canceling. comfortable to wear 5+hrs/day. Microphone works good.<br />I only rated 3 stars because the microphone just stopped working. Ive used this 15 months with no problem.<br />No accidents, no visible reason for it to stop working. Im really bummed. only recommend buying if you are fine with fact that<br />it may only last 1 yr or so.",
          "Trash, returned mine after 2 days. The pads are hard and very uncomfortable. It is completely plastic  and feels like it is  about to break. DONT BUY",
          "I was very dissapointed with the quality of the headphones they sound very low the battery dies in less then 2 hours which I find ironic because they are not even loud. The range from your phone to the actual headset is probably only like 2 feet because it disconnects everytime I got my phone in my pocket all around upset about the product especially for this price I could've bought any one of the 30 or 40 dollar headphone and it probably would've been the same or better",
          "This case is perfect for my Symphonized NRG Premium Headphones. It's small and the colors match the headphones perfectly",
          "I was unable to use them because they hurt my ears I used them for a total 30 min. and my ears felt like they were bruised.",
          "Good looking over the ear headphones that have a surprising deep bass response. I have noticed new bass notes on some of the songs I have been listening to for years. I use them at work to reduce the surrounding noise. A great value.",
          "I LOVE THESE HEADPHONES! I am totally satisfied with the sound and the fact that they stay in my ears! They are great...and I love the color of course. :)",
          "Comfortable, but terrible sound. Very tinny, with no bass at all.  I would return them and ask for my money back if I could.",
          "Nice design and works well in tandem with the bought ear phone.",
          "Happy For about 4 weeks using these in the gym. The tips then lost the sponginess and then teared over time. I kept my headphones in a case and yet they wear out when you use them after a few weeks.",
          "A little loose on me and they're not adjustable, but decent sound quality. Be careful of the headphone jack as it seems to bend easily.",
          "Product is just okay! Volume level is not very good, I am used to going louder. Charge only lasts for maybe 2.5 hours of continuous use. This is my first pair of bluetooth earbuds. I feel gullible because I was going to purchase a pair for around 20$ and I thought the price point was too low so instead I purchased these. I think maybe for a tryout pair I could have gone with the 20$ pair.",
          "My wife loves her new head phones.",
          "I bought these as a gift so I never wore them but they looked a little flimsy to me. I would not personally buy them for myself.",
          "I am loving the product! Comfortable fit. Good sound.",
          "I'm really not qualified to review headphones, but some members on head-fi gave them really good reviews and so far they're the best I've had or used.<br />They're extremely clear, and while somewhat lacking on bass, you still feel and hear it it's just not overpowering. Listening to these headphones is akin to the experience of eating Dark Chocolate.",
          "Best headphones I've ever had for this price.",
          "great for iPhone cable, earbuds and plug.",
          "These headphones are amazing!  The clarity is unreal.  I would highly recommend purchasing a pair!",
          "I bought these for my boyfriend, and they work for him because his ears are much bigger so the loop fits, although the sound quality is still just mediocre.",
          "Work great with my Jaybird headphones",
          "I love these headphones...they are alot better than skullcandy",
          "Bought these a year ago and being an active traveler they have held up pretty well. Comfortable for long flights and still have 100% noise cancellation",
          "I bought this to replace a lost neoprene case for my QC20i earbuds. This case is just ok.<br /><br />It seems very cheaply made and it's kind of hard to use because the zipper is a little stiff. If it was more expensive, I would have returned it but there's really no point (I'd get a buck or two back after return shipping).",
          "Ok but wouldn't buy another pair. Maybe a different model. I had a different model of Bob Marley headphones and absolutely loved them. I thought I would get the same out of these that a got out of my last pair but was disappointed",
          "Wonderful wonderful product, don't think it could be improved I used for motorcycle trip long continuous wear 14hr days cross country in comfort no wind noise and better than a pair of custom made ear gear I had with for comparison.",
          "Bought these headphones a week ago and I love them. These are the most comfortable headphones I've ever owned. Feels so comfortable even listening for many hours. I own a pair of Audio Technica M50x and these for me are much better. They are much more open and a pleasure to listen to any music. I listen to music mostly on my iPad and have a subscription to Tidal premium musi service right now. The clarity of the music is amazing. These headphones also are a great bargain at $108.99 on Amazon. I'm very happy with my purchase.",
          "Bearly open up the package and only 1 headphone works great.",
          "The quality on these speakers is insanely good and doesn't sound muddy when adjusting bass. Very happy with these.",
          "Awesome earphones! The sound is great and the ear pieces are very comfortable.  I use them at the golf range.  They are lightweight and don't fall out of my ear when I'm in motion.  Best of all, NO TANGLES even after being shoved in and out of my bag.",
          "Excellent sound. Good price. Ear pads are less expensive and non-breathable plastic and not very durable and they're somewhat uncomfortable when wearing over 1/2 hour at a sitting.<br /><br />These Sony headphones are comfortable and will last longer, but I think the sound of the monoprice headphones is slightly better. As grandpa said, &#34;You pays your money and you takes your choice.&#34;*  [[ASIN:B000092YPR Sony MDR-V150 Monitor Series Headphones]]<br /><br />1846 Punch, &#34;The Ministerial Crisis&#34;<br />1884 Huckleberry Finn (Mark Twain)<br /><br />*Thanks to the New York Times<br />ON LANGUAGE; You Pays Yer Money<br />By WILLIAM SAFIRE<br />Published: February 28, 1988"
         ],
         "marker": {
          "opacity": 0.5,
          "size": 5
         },
         "mode": "markers+text",
         "name": "headphones,headphone,speakers headphones",
         "text": [
          "",
          "",
          "",
          "",
          "",
          "",
          "",
          "",
          "",
          "",
          "",
          "",
          "",
          "",
          "",
          "",
          "",
          "",
          "",
          "",
          "",
          "",
          "",
          "",
          "",
          "",
          "",
          "",
          "",
          "",
          "",
          "",
          "",
          ""
         ],
         "textfont": {
          "size": 12
         },
         "type": "scattergl",
         "x": [
          14.033854484558105,
          14.033699035644531,
          13.735515594482422,
          13.642616271972656,
          13.95406723022461,
          13.580164909362793,
          13.384376525878906,
          14.05478572845459,
          14.179830551147461,
          13.561840057373047,
          13.883430480957031,
          13.413981437683105,
          14.013144493103027,
          13.922380447387695,
          13.89850902557373,
          13.2139253616333,
          14.076791763305664,
          13.725859642028809,
          13.987908363342285,
          13.247629165649414,
          13.132411003112793,
          13.923434257507324,
          13.976828575134277,
          13.13869571685791,
          13.411035537719727,
          13.803044319152832,
          13.421348571777344,
          13.027310371398926,
          13.977965354919434,
          13.6765775680542,
          12.95046329498291,
          14.137251853942871,
          13.833001136779785,
          13.544349670410156
         ],
         "y": [
          11.219168663024902,
          10.930935859680176,
          11.662731170654297,
          11.780570983886719,
          11.347001075744629,
          11.370604515075684,
          10.930307388305664,
          11.610962867736816,
          10.851900100708008,
          11.635199546813965,
          11.432089805603027,
          10.87863826751709,
          11.537291526794434,
          11.739577293395996,
          10.634343147277832,
          11.279851913452148,
          11.66943645477295,
          11.051383018493652,
          11.187612533569336,
          11.430818557739258,
          10.680500984191895,
          11.29468059539795,
          11.62640380859375,
          10.91060733795166,
          11.48958683013916,
          11.546992301940918,
          10.840394973754883,
          11.205866813659668,
          11.621725082397461,
          11.496872901916504,
          11.13676643371582,
          11.040800094604492,
          11.759289741516113,
          11.627873420715332
         ]
        },
        {
         "hoverinfo": "text",
         "hovertext": [
          "I bought this as a gift, and the recipient loves it.",
          "Great quality of the product and service.",
          "Wish I could give this product more than five stars. Lifesaver.",
          "Ok storage",
          "great",
          "LOVE IT !!!!<br />WILL PURCHASE MORE IN THE FUTURE  ; )",
          "Good product",
          "Gave as gift to my son.  He liked all the fuctnions.",
          "Good product, but took a week to receive.",
          "Excelent purchase.  I recomendm it.",
          "great item",
          "Great product.",
          "Product arrived in good packaging and worked well.",
          "Good for the price.",
          "Great. I like the triple flange ones even better.",
          "great product, great service.",
          "Great product.",
          "Changed my life.",
          "Solid product no complaints.",
          "Fell apart",
          "Great product to save money!  Product as described!  Fast delivery!",
          "great products! good buy! works great!",
          "Awesome product. Super fast delivery.",
          "Great product.",
          "Loved it",
          "Item as described , fast delivery",
          "Fast shipment, easy to install - no issues so far.",
          "good product good seller",
          "Alll good",
          "Love it",
          "Product was defective but the customer service was fantastic.."
         ],
         "marker": {
          "opacity": 0.5,
          "size": 5
         },
         "mode": "markers+text",
         "name": "great product,great quality,product",
         "text": [
          "",
          "",
          "",
          "",
          "",
          "",
          "",
          "",
          "",
          "",
          "",
          "",
          "",
          "",
          "",
          "",
          "",
          "",
          "",
          "",
          "",
          "",
          "",
          "",
          "",
          "",
          "",
          "",
          "",
          "",
          ""
         ],
         "textfont": {
          "size": 12
         },
         "type": "scattergl",
         "x": [
          11.05063533782959,
          11.556252479553223,
          10.817926406860352,
          10.194130897521973,
          10.197071075439453,
          11.04488468170166,
          10.649308204650879,
          10.942239761352539,
          11.200733184814453,
          11.653220176696777,
          10.456789016723633,
          10.677447319030762,
          11.25400447845459,
          12.138387680053711,
          11.573928833007812,
          10.86556625366211,
          10.648641586303711,
          10.728227615356445,
          11.50800609588623,
          10.709827423095703,
          11.316061973571777,
          10.94112777709961,
          11.318656921386719,
          10.605687141418457,
          10.379720687866211,
          11.431570053100586,
          11.462824821472168,
          11.042200088500977,
          10.319791793823242,
          10.33938217163086,
          11.23868179321289
         ],
         "y": [
          6.382523536682129,
          6.237248420715332,
          5.636122226715088,
          5.9954328536987305,
          6.02651834487915,
          5.852034091949463,
          5.708121299743652,
          6.560463905334473,
          5.725281238555908,
          6.117185115814209,
          5.837071418762207,
          5.733785152435303,
          5.772731304168701,
          6.435881614685059,
          6.269833087921143,
          5.851995468139648,
          5.784445762634277,
          6.826386451721191,
          6.356800079345703,
          6.837464809417725,
          5.80770206451416,
          5.991218090057373,
          5.676824569702148,
          5.715587615966797,
          5.553232669830322,
          5.697657108306885,
          5.757646083831787,
          5.775534629821777,
          5.949558734893799,
          5.562308311462402,
          6.609502792358398
         ]
        },
        {
         "hoverinfo": "text",
         "hovertext": [
          "works great",
          "Works great!",
          "Only lasted a few months then blew out.",
          "Did not last long,  Stop working within a year.",
          "They work",
          "Works pissa",
          "Did not work as expected, However this might be an issue with my application and not the part itself.",
          "This product worked just as advertised.",
          "It works! I got a muscle cramp, rub it on the area nd the pain was gone within a minute.",
          "This thing kicks buttttt!",
          "Did not work at all.",
          "Does the job.",
          "works as advertised.... nothing else to really say about it",
          "works great",
          "So far so good.  Will update if anything changes.",
          "No problems with using for its intended use.",
          "Does the job!",
          "I can't get it to work!",
          "Worked great at the cabin",
          "It's only been in use for a few weeks but so far it works fine. It was well priced and arrived promptly.",
          "Did not help my problem.",
          "It works as advertising.",
          "Works great. Had it quite some time, use it every week. Wish it had the functionality of the older one.. but what can you do when Sansa doesn't make it that way. Thanks!"
         ],
         "marker": {
          "opacity": 0.5,
          "size": 5
         },
         "mode": "markers+text",
         "name": "works great,worked great,works fine",
         "text": [
          "",
          "",
          "",
          "",
          "",
          "",
          "",
          "",
          "",
          "",
          "",
          "",
          "",
          "",
          "",
          "",
          "",
          "",
          "",
          "",
          "",
          "",
          ""
         ],
         "textfont": {
          "size": 12
         },
         "type": "scattergl",
         "x": [
          9.635685920715332,
          9.812958717346191,
          10.976430892944336,
          11.195347785949707,
          9.577000617980957,
          9.519588470458984,
          11.82851505279541,
          10.337660789489746,
          10.136392593383789,
          10.162489891052246,
          11.08415699005127,
          9.736844062805176,
          11.17334270477295,
          9.699389457702637,
          11.558388710021973,
          11.618525505065918,
          9.750523567199707,
          10.02206039428711,
          9.720539093017578,
          11.628610610961914,
          10.85267162322998,
          10.388458251953125,
          11.20931339263916
         ],
         "y": [
          6.614871025085449,
          6.537295818328857,
          7.012167930603027,
          7.162262916564941,
          6.679889678955078,
          6.641684532165527,
          8.039848327636719,
          7.3047027587890625,
          7.049241065979004,
          6.801205635070801,
          7.411378860473633,
          7.035004138946533,
          7.384322166442871,
          6.547555446624756,
          7.1636176109313965,
          7.223701000213623,
          7.008009433746338,
          6.721442699432373,
          7.03256368637085,
          7.14625883102417,
          7.459798812866211,
          7.395078659057617,
          7.399622917175293
         ]
        },
        {
         "hoverinfo": "text",
         "hovertext": [
          "Have a Panasonic plasma with side inputs and this helped hide the cable perfectly. Nice tight fit in connector as well.",
          "POE didn't run through it. I had to shorten it up 25 feet for it to work. The pairs are hardly twisted. In the end it worked for what I intended but it wasn't worth my time cutting and recrimping an end on it.",
          "These are like HDMI on steroids.  Very well constructed cables.  Nothing cheap about them and the price was really good too.  I'd buy more of these in a heartbeat",
          "Great little device if you need to convert micro and mini HDMI to full hdmi and down want to buy new cables.<br />So far mine has been working great.<br />Its small in size so its easy to carry with your computer or tablet.<br />It carries audio like all HDMI cables.",
          "This product works well. My only complaint is that the plug-in cord is a little short to use on my bedroom TV. I ended up hooking it up in my son's room. It was able to give it just enough boost he no longer has to move the antenna around to get the channel he wants. Installation is super simple. Basically it's a plug and play. Or better yet a plug and watch.<br />I received this product at a discount in exchange for my honest review.",
          "I bought this 10 days ago. It was relatively easy to hook up. The auto-calibration took a few tries to get right, but I was pleased with the outcome. The sound was fantastic and really enhanced the viewing experience of my new Sony 4k 70&#34; television.<br /><br />Today it died. I was watching Band of Brothers, and halfway through episode 3 the sound just died. I did my own troubleshooting (I have an advanced degree in electrical engineering) and then called Sony support. They ran me through a few steps, and then escalated me to another department. After being on hold for 40 minutes, the line kicked off and said that the office I was trying to reach was closed for the day.<br /><br />So I am now 10 days into a three thousand dollar investment with Sony, and I am watching a football game with no sound while I type this.<br /><br />My receiver was a poor product. And the support line was awful.<br /><br />I am not happy.",
          "I purchased the OUS00-0563 Super Thin Indoor HDTV and took it to Barbados where after installing it(simply tape to concrete block wall) I was pleasantly surprised by the difference in reception of the TV. I highly recommend this product.",
          "works as expected; well made cable.",
          "Great HDMI cable with signal amplifier built in. Make sure you run the cable the correct way as it is directional. I have used this at multiple locations.",
          "If there rca speakers don't buy!  I'm not huge on fashion so my vizio sound bar rear speakers just got tie wrapped to the back of the pole and clipped pole is solo small it will fit speaker wire only! And probably small gauge only",
          "after a lightening strike wiped out my old receiver along with my music streaming devices (Grace and Roku) I was looking for an all in one 2 channel receiver that would stream internet radio, play Pandora type services and stream from my 400GB music database.  After researching on line, I bought this unit.<br /><br />It arrived today.  Set up was easy. It took longer un untangle the rats nest of old wires than to set up the new unit.  I connected my wired network and started to play around.  The sound quality is excellent!  The choices of inputs are excellent as well.  The one great shortcoming is the display panel.  I cannot understand why Yamaha would put 1980's technology into this otherwise modern, high quality system.  It has a one line 13 character dot matrix display for alpha numeric messages, such as track name, station id etc.  beyond me why they cut this corner.<br /><br />What saves the day is the app.  Yamaha NP Controller allows you to pretty much do everything from your android or iOS device.  The app is smooth, fast and intuitive.  Ps: do not download the Yamaha AV Controller App as it does not apply to this unit.",
          "Love the fact they are only three feet!  Does not take up so much room behind TV",
          "Ordered to hookup a backup camera. This thing has different connectors on each end. I had one end hook up OK but had to find and RCA male to male adapter to make the other end right. I am not sure why they thought it was OK with differences from one end to the other.",
          "great product for the price.  TV works great and the picture quality is really nice and clear.",
          "Appears to work just great. Used it to connect my LG 55LB6100 TV (which only had digital optical out and poor speakers in the TV), to my Onkyo 8255 receiver (RCA inputs).  I connected the FiiO USB power connect into one of the USB ports on the TV so it only powers on when the TV is on; hopefully this will help with issues I read in other reviews with it dying early from being left on and overheating.",
          "Such a great option to extend those HDMI cords, instead of buying a super expensive longer cord. I connected 2 ten feet HDMI cords with one of these and i have not noticed any reduction in quality. This has allowed me to connect my PC and TV that is up on the wall.",
          "I've decided to keep the item.  the ezcast is not quite as good as Chromecast with most features, but it's cheaper and has a couple of features that I actually like a little better than Chromecast (actually works with Firefox for HTML 5 video).  Also, the setup goes pretty smoothly which is a plus (maybe even better than Chromecast).  Just how secure it is remains to be seen.  Something tells me that this Chinese company that manufactures it, lets the device be vulnerable to hacking, but we'll see.  The support site for the Windows app is in Chinese as best I can tell, and not conducive to North American customers, but hopefully that gets improved soon."
         ],
         "marker": {
          "opacity": 0.5,
          "size": 5
         },
         "mode": "markers+text",
         "name": "hdmi,tv,cable",
         "text": [
          "",
          "",
          "",
          "",
          "",
          "",
          "",
          "",
          "",
          "",
          "",
          "",
          "",
          "",
          "",
          "",
          ""
         ],
         "textfont": {
          "size": 12
         },
         "type": "scattergl",
         "x": [
          11.692126274108887,
          11.896827697753906,
          12.039088249206543,
          12.08902359008789,
          12.344504356384277,
          11.998597145080566,
          12.127543449401855,
          11.92766284942627,
          12.006529808044434,
          11.540298461914062,
          13.44446849822998,
          11.448308944702148,
          11.849709510803223,
          11.802934646606445,
          12.07149600982666,
          12.03495979309082,
          12.279014587402344
         ],
         "y": [
          10.328462600708008,
          10.334074974060059,
          10.280352592468262,
          10.091241836547852,
          8.985519409179688,
          9.577706336975098,
          9.245137214660645,
          10.383524894714355,
          10.147876739501953,
          10.045466423034668,
          9.171552658081055,
          9.514739036560059,
          10.261919021606445,
          9.156829833984375,
          9.08927059173584,
          10.520867347717285,
          8.767318725585938
         ]
        },
        {
         "hoverinfo": "text",
         "hovertext": [
          "Was exactly what I needed",
          "wasnt as loud as expected",
          "As described. Just what I wanted",
          "fit perfectly",
          "As Advertised",
          "As described.",
          "More or less.",
          "performed as expected",
          "better than expected",
          "As I expected",
          "this fits exactly i expectede.",
          "exactly as promised.",
          "Perfect fit. efficient."
         ],
         "marker": {
          "opacity": 0.5,
          "size": 5
         },
         "mode": "markers+text",
         "name": "better expected,expected,better",
         "text": [
          "",
          "",
          "",
          "",
          "",
          "",
          "",
          "",
          "",
          "",
          "",
          "",
          ""
         ],
         "textfont": {
          "size": 12
         },
         "type": "scattergl",
         "x": [
          9.675703048706055,
          9.205354690551758,
          9.527490615844727,
          10.399906158447266,
          9.418639183044434,
          9.532766342163086,
          9.528290748596191,
          9.325037956237793,
          9.23620319366455,
          9.290838241577148,
          10.317222595214844,
          9.526412963867188,
          10.316827774047852
         ],
         "y": [
          8.446897506713867,
          8.523510932922363,
          8.382898330688477,
          8.95709228515625,
          8.279417037963867,
          8.393701553344727,
          8.390134811401367,
          8.41806411743164,
          8.408214569091797,
          8.460118293762207,
          8.910581588745117,
          8.418381690979004,
          8.904877662658691
         ]
        }
       ],
       "layout": {
        "annotations": [
         {
          "showarrow": false,
          "text": "D1",
          "x": 7.8245514869689945,
          "y": 9.124167573451995,
          "yshift": 10
         },
         {
          "showarrow": false,
          "text": "D2",
          "x": 12.649548077583312,
          "xshift": 10,
          "y": 13.547656631469726
         }
        ],
        "height": 750,
        "shapes": [
         {
          "line": {
           "color": "#CFD8DC",
           "width": 2
          },
          "type": "line",
          "x0": 12.649548077583312,
          "x1": 12.649548077583312,
          "y0": 4.700678515434265,
          "y1": 13.547656631469726
         },
         {
          "line": {
           "color": "#9E9E9E",
           "width": 2
          },
          "type": "line",
          "x0": 7.8245514869689945,
          "x1": 17.47454466819763,
          "y0": 9.124167573451995,
          "y1": 9.124167573451995
         }
        ],
        "template": {
         "data": {
          "bar": [
           {
            "error_x": {
             "color": "rgb(36,36,36)"
            },
            "error_y": {
             "color": "rgb(36,36,36)"
            },
            "marker": {
             "line": {
              "color": "white",
              "width": 0.5
             },
             "pattern": {
              "fillmode": "overlay",
              "size": 10,
              "solidity": 0.2
             }
            },
            "type": "bar"
           }
          ],
          "barpolar": [
           {
            "marker": {
             "line": {
              "color": "white",
              "width": 0.5
             },
             "pattern": {
              "fillmode": "overlay",
              "size": 10,
              "solidity": 0.2
             }
            },
            "type": "barpolar"
           }
          ],
          "carpet": [
           {
            "aaxis": {
             "endlinecolor": "rgb(36,36,36)",
             "gridcolor": "white",
             "linecolor": "white",
             "minorgridcolor": "white",
             "startlinecolor": "rgb(36,36,36)"
            },
            "baxis": {
             "endlinecolor": "rgb(36,36,36)",
             "gridcolor": "white",
             "linecolor": "white",
             "minorgridcolor": "white",
             "startlinecolor": "rgb(36,36,36)"
            },
            "type": "carpet"
           }
          ],
          "choropleth": [
           {
            "colorbar": {
             "outlinewidth": 1,
             "tickcolor": "rgb(36,36,36)",
             "ticks": "outside"
            },
            "type": "choropleth"
           }
          ],
          "contour": [
           {
            "colorbar": {
             "outlinewidth": 1,
             "tickcolor": "rgb(36,36,36)",
             "ticks": "outside"
            },
            "colorscale": [
             [
              0,
              "#440154"
             ],
             [
              0.1111111111111111,
              "#482878"
             ],
             [
              0.2222222222222222,
              "#3e4989"
             ],
             [
              0.3333333333333333,
              "#31688e"
             ],
             [
              0.4444444444444444,
              "#26828e"
             ],
             [
              0.5555555555555556,
              "#1f9e89"
             ],
             [
              0.6666666666666666,
              "#35b779"
             ],
             [
              0.7777777777777778,
              "#6ece58"
             ],
             [
              0.8888888888888888,
              "#b5de2b"
             ],
             [
              1,
              "#fde725"
             ]
            ],
            "type": "contour"
           }
          ],
          "contourcarpet": [
           {
            "colorbar": {
             "outlinewidth": 1,
             "tickcolor": "rgb(36,36,36)",
             "ticks": "outside"
            },
            "type": "contourcarpet"
           }
          ],
          "heatmap": [
           {
            "colorbar": {
             "outlinewidth": 1,
             "tickcolor": "rgb(36,36,36)",
             "ticks": "outside"
            },
            "colorscale": [
             [
              0,
              "#440154"
             ],
             [
              0.1111111111111111,
              "#482878"
             ],
             [
              0.2222222222222222,
              "#3e4989"
             ],
             [
              0.3333333333333333,
              "#31688e"
             ],
             [
              0.4444444444444444,
              "#26828e"
             ],
             [
              0.5555555555555556,
              "#1f9e89"
             ],
             [
              0.6666666666666666,
              "#35b779"
             ],
             [
              0.7777777777777778,
              "#6ece58"
             ],
             [
              0.8888888888888888,
              "#b5de2b"
             ],
             [
              1,
              "#fde725"
             ]
            ],
            "type": "heatmap"
           }
          ],
          "heatmapgl": [
           {
            "colorbar": {
             "outlinewidth": 1,
             "tickcolor": "rgb(36,36,36)",
             "ticks": "outside"
            },
            "colorscale": [
             [
              0,
              "#440154"
             ],
             [
              0.1111111111111111,
              "#482878"
             ],
             [
              0.2222222222222222,
              "#3e4989"
             ],
             [
              0.3333333333333333,
              "#31688e"
             ],
             [
              0.4444444444444444,
              "#26828e"
             ],
             [
              0.5555555555555556,
              "#1f9e89"
             ],
             [
              0.6666666666666666,
              "#35b779"
             ],
             [
              0.7777777777777778,
              "#6ece58"
             ],
             [
              0.8888888888888888,
              "#b5de2b"
             ],
             [
              1,
              "#fde725"
             ]
            ],
            "type": "heatmapgl"
           }
          ],
          "histogram": [
           {
            "marker": {
             "line": {
              "color": "white",
              "width": 0.6
             }
            },
            "type": "histogram"
           }
          ],
          "histogram2d": [
           {
            "colorbar": {
             "outlinewidth": 1,
             "tickcolor": "rgb(36,36,36)",
             "ticks": "outside"
            },
            "colorscale": [
             [
              0,
              "#440154"
             ],
             [
              0.1111111111111111,
              "#482878"
             ],
             [
              0.2222222222222222,
              "#3e4989"
             ],
             [
              0.3333333333333333,
              "#31688e"
             ],
             [
              0.4444444444444444,
              "#26828e"
             ],
             [
              0.5555555555555556,
              "#1f9e89"
             ],
             [
              0.6666666666666666,
              "#35b779"
             ],
             [
              0.7777777777777778,
              "#6ece58"
             ],
             [
              0.8888888888888888,
              "#b5de2b"
             ],
             [
              1,
              "#fde725"
             ]
            ],
            "type": "histogram2d"
           }
          ],
          "histogram2dcontour": [
           {
            "colorbar": {
             "outlinewidth": 1,
             "tickcolor": "rgb(36,36,36)",
             "ticks": "outside"
            },
            "colorscale": [
             [
              0,
              "#440154"
             ],
             [
              0.1111111111111111,
              "#482878"
             ],
             [
              0.2222222222222222,
              "#3e4989"
             ],
             [
              0.3333333333333333,
              "#31688e"
             ],
             [
              0.4444444444444444,
              "#26828e"
             ],
             [
              0.5555555555555556,
              "#1f9e89"
             ],
             [
              0.6666666666666666,
              "#35b779"
             ],
             [
              0.7777777777777778,
              "#6ece58"
             ],
             [
              0.8888888888888888,
              "#b5de2b"
             ],
             [
              1,
              "#fde725"
             ]
            ],
            "type": "histogram2dcontour"
           }
          ],
          "mesh3d": [
           {
            "colorbar": {
             "outlinewidth": 1,
             "tickcolor": "rgb(36,36,36)",
             "ticks": "outside"
            },
            "type": "mesh3d"
           }
          ],
          "parcoords": [
           {
            "line": {
             "colorbar": {
              "outlinewidth": 1,
              "tickcolor": "rgb(36,36,36)",
              "ticks": "outside"
             }
            },
            "type": "parcoords"
           }
          ],
          "pie": [
           {
            "automargin": true,
            "type": "pie"
           }
          ],
          "scatter": [
           {
            "fillpattern": {
             "fillmode": "overlay",
             "size": 10,
             "solidity": 0.2
            },
            "type": "scatter"
           }
          ],
          "scatter3d": [
           {
            "line": {
             "colorbar": {
              "outlinewidth": 1,
              "tickcolor": "rgb(36,36,36)",
              "ticks": "outside"
             }
            },
            "marker": {
             "colorbar": {
              "outlinewidth": 1,
              "tickcolor": "rgb(36,36,36)",
              "ticks": "outside"
             }
            },
            "type": "scatter3d"
           }
          ],
          "scattercarpet": [
           {
            "marker": {
             "colorbar": {
              "outlinewidth": 1,
              "tickcolor": "rgb(36,36,36)",
              "ticks": "outside"
             }
            },
            "type": "scattercarpet"
           }
          ],
          "scattergeo": [
           {
            "marker": {
             "colorbar": {
              "outlinewidth": 1,
              "tickcolor": "rgb(36,36,36)",
              "ticks": "outside"
             }
            },
            "type": "scattergeo"
           }
          ],
          "scattergl": [
           {
            "marker": {
             "colorbar": {
              "outlinewidth": 1,
              "tickcolor": "rgb(36,36,36)",
              "ticks": "outside"
             }
            },
            "type": "scattergl"
           }
          ],
          "scattermapbox": [
           {
            "marker": {
             "colorbar": {
              "outlinewidth": 1,
              "tickcolor": "rgb(36,36,36)",
              "ticks": "outside"
             }
            },
            "type": "scattermapbox"
           }
          ],
          "scatterpolar": [
           {
            "marker": {
             "colorbar": {
              "outlinewidth": 1,
              "tickcolor": "rgb(36,36,36)",
              "ticks": "outside"
             }
            },
            "type": "scatterpolar"
           }
          ],
          "scatterpolargl": [
           {
            "marker": {
             "colorbar": {
              "outlinewidth": 1,
              "tickcolor": "rgb(36,36,36)",
              "ticks": "outside"
             }
            },
            "type": "scatterpolargl"
           }
          ],
          "scatterternary": [
           {
            "marker": {
             "colorbar": {
              "outlinewidth": 1,
              "tickcolor": "rgb(36,36,36)",
              "ticks": "outside"
             }
            },
            "type": "scatterternary"
           }
          ],
          "surface": [
           {
            "colorbar": {
             "outlinewidth": 1,
             "tickcolor": "rgb(36,36,36)",
             "ticks": "outside"
            },
            "colorscale": [
             [
              0,
              "#440154"
             ],
             [
              0.1111111111111111,
              "#482878"
             ],
             [
              0.2222222222222222,
              "#3e4989"
             ],
             [
              0.3333333333333333,
              "#31688e"
             ],
             [
              0.4444444444444444,
              "#26828e"
             ],
             [
              0.5555555555555556,
              "#1f9e89"
             ],
             [
              0.6666666666666666,
              "#35b779"
             ],
             [
              0.7777777777777778,
              "#6ece58"
             ],
             [
              0.8888888888888888,
              "#b5de2b"
             ],
             [
              1,
              "#fde725"
             ]
            ],
            "type": "surface"
           }
          ],
          "table": [
           {
            "cells": {
             "fill": {
              "color": "rgb(237,237,237)"
             },
             "line": {
              "color": "white"
             }
            },
            "header": {
             "fill": {
              "color": "rgb(217,217,217)"
             },
             "line": {
              "color": "white"
             }
            },
            "type": "table"
           }
          ]
         },
         "layout": {
          "annotationdefaults": {
           "arrowhead": 0,
           "arrowwidth": 1
          },
          "autotypenumbers": "strict",
          "coloraxis": {
           "colorbar": {
            "outlinewidth": 1,
            "tickcolor": "rgb(36,36,36)",
            "ticks": "outside"
           }
          },
          "colorscale": {
           "diverging": [
            [
             0,
             "rgb(103,0,31)"
            ],
            [
             0.1,
             "rgb(178,24,43)"
            ],
            [
             0.2,
             "rgb(214,96,77)"
            ],
            [
             0.3,
             "rgb(244,165,130)"
            ],
            [
             0.4,
             "rgb(253,219,199)"
            ],
            [
             0.5,
             "rgb(247,247,247)"
            ],
            [
             0.6,
             "rgb(209,229,240)"
            ],
            [
             0.7,
             "rgb(146,197,222)"
            ],
            [
             0.8,
             "rgb(67,147,195)"
            ],
            [
             0.9,
             "rgb(33,102,172)"
            ],
            [
             1,
             "rgb(5,48,97)"
            ]
           ],
           "sequential": [
            [
             0,
             "#440154"
            ],
            [
             0.1111111111111111,
             "#482878"
            ],
            [
             0.2222222222222222,
             "#3e4989"
            ],
            [
             0.3333333333333333,
             "#31688e"
            ],
            [
             0.4444444444444444,
             "#26828e"
            ],
            [
             0.5555555555555556,
             "#1f9e89"
            ],
            [
             0.6666666666666666,
             "#35b779"
            ],
            [
             0.7777777777777778,
             "#6ece58"
            ],
            [
             0.8888888888888888,
             "#b5de2b"
            ],
            [
             1,
             "#fde725"
            ]
           ],
           "sequentialminus": [
            [
             0,
             "#440154"
            ],
            [
             0.1111111111111111,
             "#482878"
            ],
            [
             0.2222222222222222,
             "#3e4989"
            ],
            [
             0.3333333333333333,
             "#31688e"
            ],
            [
             0.4444444444444444,
             "#26828e"
            ],
            [
             0.5555555555555556,
             "#1f9e89"
            ],
            [
             0.6666666666666666,
             "#35b779"
            ],
            [
             0.7777777777777778,
             "#6ece58"
            ],
            [
             0.8888888888888888,
             "#b5de2b"
            ],
            [
             1,
             "#fde725"
            ]
           ]
          },
          "colorway": [
           "#1F77B4",
           "#FF7F0E",
           "#2CA02C",
           "#D62728",
           "#9467BD",
           "#8C564B",
           "#E377C2",
           "#7F7F7F",
           "#BCBD22",
           "#17BECF"
          ],
          "font": {
           "color": "rgb(36,36,36)"
          },
          "geo": {
           "bgcolor": "white",
           "lakecolor": "white",
           "landcolor": "white",
           "showlakes": true,
           "showland": true,
           "subunitcolor": "white"
          },
          "hoverlabel": {
           "align": "left"
          },
          "hovermode": "closest",
          "mapbox": {
           "style": "light"
          },
          "paper_bgcolor": "white",
          "plot_bgcolor": "white",
          "polar": {
           "angularaxis": {
            "gridcolor": "rgb(232,232,232)",
            "linecolor": "rgb(36,36,36)",
            "showgrid": false,
            "showline": true,
            "ticks": "outside"
           },
           "bgcolor": "white",
           "radialaxis": {
            "gridcolor": "rgb(232,232,232)",
            "linecolor": "rgb(36,36,36)",
            "showgrid": false,
            "showline": true,
            "ticks": "outside"
           }
          },
          "scene": {
           "xaxis": {
            "backgroundcolor": "white",
            "gridcolor": "rgb(232,232,232)",
            "gridwidth": 2,
            "linecolor": "rgb(36,36,36)",
            "showbackground": true,
            "showgrid": false,
            "showline": true,
            "ticks": "outside",
            "zeroline": false,
            "zerolinecolor": "rgb(36,36,36)"
           },
           "yaxis": {
            "backgroundcolor": "white",
            "gridcolor": "rgb(232,232,232)",
            "gridwidth": 2,
            "linecolor": "rgb(36,36,36)",
            "showbackground": true,
            "showgrid": false,
            "showline": true,
            "ticks": "outside",
            "zeroline": false,
            "zerolinecolor": "rgb(36,36,36)"
           },
           "zaxis": {
            "backgroundcolor": "white",
            "gridcolor": "rgb(232,232,232)",
            "gridwidth": 2,
            "linecolor": "rgb(36,36,36)",
            "showbackground": true,
            "showgrid": false,
            "showline": true,
            "ticks": "outside",
            "zeroline": false,
            "zerolinecolor": "rgb(36,36,36)"
           }
          },
          "shapedefaults": {
           "fillcolor": "black",
           "line": {
            "width": 0
           },
           "opacity": 0.3
          },
          "ternary": {
           "aaxis": {
            "gridcolor": "rgb(232,232,232)",
            "linecolor": "rgb(36,36,36)",
            "showgrid": false,
            "showline": true,
            "ticks": "outside"
           },
           "baxis": {
            "gridcolor": "rgb(232,232,232)",
            "linecolor": "rgb(36,36,36)",
            "showgrid": false,
            "showline": true,
            "ticks": "outside"
           },
           "bgcolor": "white",
           "caxis": {
            "gridcolor": "rgb(232,232,232)",
            "linecolor": "rgb(36,36,36)",
            "showgrid": false,
            "showline": true,
            "ticks": "outside"
           }
          },
          "title": {
           "x": 0.05
          },
          "xaxis": {
           "automargin": true,
           "gridcolor": "rgb(232,232,232)",
           "linecolor": "rgb(36,36,36)",
           "showgrid": false,
           "showline": true,
           "ticks": "outside",
           "title": {
            "standoff": 15
           },
           "zeroline": false,
           "zerolinecolor": "rgb(36,36,36)"
          },
          "yaxis": {
           "automargin": true,
           "gridcolor": "rgb(232,232,232)",
           "linecolor": "rgb(36,36,36)",
           "showgrid": false,
           "showline": true,
           "ticks": "outside",
           "title": {
            "standoff": 15
           },
           "zeroline": false,
           "zerolinecolor": "rgb(36,36,36)"
          }
         }
        },
        "title": {
         "font": {
          "color": "Black",
          "size": 22
         },
         "text": "<b>Documents and Topics</b>",
         "x": 0.5,
         "xanchor": "center",
         "yanchor": "top"
        },
        "width": 1200,
        "xaxis": {
         "visible": false
        },
        "yaxis": {
         "visible": false
        }
       }
      },
      "text/html": [
       "<div>                        <script type=\"text/javascript\">window.PlotlyConfig = {MathJaxConfig: 'local'};</script>\n",
       "        <script charset=\"utf-8\" src=\"https://cdn.plot.ly/plotly-2.27.0.min.js\"></script>                <div id=\"e3675c2b-3504-46ef-84bb-e7f0dfa9cd89\" class=\"plotly-graph-div\" style=\"height:750px; width:1200px;\"></div>            <script type=\"text/javascript\">                                    window.PLOTLYENV=window.PLOTLYENV || {};                                    if (document.getElementById(\"e3675c2b-3504-46ef-84bb-e7f0dfa9cd89\")) {                    Plotly.newPlot(                        \"e3675c2b-3504-46ef-84bb-e7f0dfa9cd89\",                        [{\"hoverinfo\":\"text\",\"hovertext\":[\"I like it\",\"Really cool design and it goes up really easy.  The amount of adjustment is really nice as well.  It's been up for almost two months with our 55 inch TV and hasn't moved as all unless I'm the one to move it.\",\"Installation is doable and the cartridge and needle work. Four cables attach to it from the shell, and it took some persuasion to push them on.\\u003cbr \\u002f\\u003e\\u003cbr \\u002f\\u003eNeedle seems to have a slight angle (to the side, not the needle in the groove), but does play without ruing the LP.\",\"Exactly as described. The sleeves have helped to &#34;tidy up&#34; by work space. Thanks!\",\"Well, I purchased this Masione\\u00ae Surge Protector Strip 2500W 6 Outlet Black Power Socket With Lightningproof last week and since it arrived, it has changed names and has changed the description now not mentioning surge protection. I'm not sure if my computer and $200 router are safe with this outlet strip. It provides power and is compact. I chose it for its straight plug which was needed to go into a recessed floor outlet but wanted something that had surge protection because of its use under my desk.\",\"Horrible\",\"did not support my xm radio it does not produce 12 v dc more like 8.5 v dc. they also have a no return policy go figure.\",\"Fine item.  Best reception I've had since DTV became a reality several years ago.  Picked up more channels that previous antennas.\",\"Good quality Good Price!\",\"I bought this as a replacement for my Verizon FIOS backup battery. The original battery lasted over three years... this one lasted 8 months. The &#34;Designed for long life: 6 - 8 years&#34; statement is a joke.\\u003cbr \\u002f\\u003e\\u003cbr \\u002f\\u003eI finally contacted the company after a week of trying (even after a year, their website listed on the battery is not working) and they offered me a replacement, however I had to ship the battery back to them first at my expense. To pay $20 to return a $23 battery for replacement is ridiculous, so their &#34;3-year replacement warranty&#34; is absolutely worthless.\",\"The turntable do not work correctly.  It was dragging!  Otherwise, the sound and other features worked well!!\",\"Works great in Charlotte, NC. Received all the major networks crystal clear. Highly recommend :)\",\"My son gets 41 channels in Hickory NC. He is well pleased.\",\"well, it is a pain to have a odd charging cable and to also remember how to pair it to another phone.  Keep the instructions around, you will need them\",\"very good especially for notebooks with micro hdmi and you want to connect it to a computer screen\",\"Gave to husband and he likes them.\",\"I am having a hard time getting the nut tight behind the mount for the monitor. It seems tight, but the monitor still pivots left and right way to easy. I also see lots of people complaining whey they tried to get it really tight they broke the mount.  I have used better mounts that are only a few dollars more. Spend a little more and get a decent mount.\",\"I have ordered 3 packages of these over the past few weeks and all of them have been different sizes. The first 100 fit perfectly with about 1\\u002f4&#34; overhang at the top, I like that compared to the other sleeves that usually hang 1\\u002f2&#34;-3\\u002f4&#34; over the top of the record. The second 100 I received were cut incorrectly and I couldn't even get the record inside of them. I sent those back and re-ordered, when the 3rd shipment arrived they fit perfectly but some of them are cut too short and don't even reach the top of the record.\\u003cbr \\u002f\\u003e\\u003cbr \\u002f\\u003eThis would be a great product if the company had better quality control standards, as is I won't be using these in the future.\",\"While cord was shorter than I would have liked (3 ft.), The product shipped quickly for coming from China and works fine.\",\"Fits and functions perfectly for my printer. Not much else to say.\",\"I got these and used them a couple o times to swim. However, a few months after my purchase, I felt that one side was louder than the other. I turned them around and discovered that I'm not the one with a malfunction, but its this gadget somehow looses strength on one side. I bought these to replace my previous Sony Walkman, that suffered from the same malfunction. My conclusion is this: the Sony Walkman NWZW273S does NOT work!\",\"Great mounts worked perfectly for my surround sound. ....a must buy\",\"Great sound quality for the price, LOVE the matte finish and no logo. Great business model and exceptional customer service.\",\"Just bought my second and third one of these.  The first one backs up a desktop computer and monitor and easily runs it for 15 minutes after a power outage.  The new ones are to power my cable box (Comcast) because even the briefest flicker of power and the box goes through the whole five minutes restart procedure.  The other one is just for the modem\\u002frouter\\u002fVOIP\\u002fNAT devices.  We don't lose power very often or for very long periods of time but keeping all those devices from resetting and rebooting is worth the price of these inexpensive UPS devices (paid $45 each).  Batteries are easily replaceable and about $17 each for the generic brand.\",\"Works great, I wound up pairing this with a Sonos Connect, so I didn't have to but the Connect.Amp.  Puts out enough sound and works amazingly.\",\"I was so happy to get this little case, we have a DVD player in the car and I'm tired of having an endless array of Disney & Dreamworks DVD cases stuffed into my console.  Quality is good, the plastic sleeves seem like they will hold up.  The case is more rigid so it offers protection for your very valuable collection of the Planes series DVD's.\",\"We bought this for my daughter for her birthday in July.  She turned 13.  She played it 3 times with the new albums she got for her birthday.  She went to listen to some more new albums she bought and it didn't work.  The turntable would not turn!!!  I went to replace this item and I was literally 5 days from the last chance date that I had to return this item.  Not happy at all.  Now she is upset!!!\",\"now they tell me you can't split optical audio\",\"Great quality for the price.  I believe they will last the entire school year.  They do not look cheezy at all.\",\"A nice aid to fast-tuning the MP1 80, 60 & 40-10m coils.\",\"Great batteries,  highly recommend them.\",\"everything I expected for a great price\",\"This is less expensive than replacing the battery back up and also the battery fit fine.\",\"Great space saving solution for consolidating all your DVDs!\",\"I usually love cranking up the bass in my car stereo once i get a new car. After receiving a free trial of the TACO speaker well i don't have to crank it up lol, the bass sounds amazing. Every song with lots of bass i can think of sounds amazing through these red speakers.\",\"It does not copy CD-R s to USB as advertised. My CD's were recorded on a Sony machine and properly finalized. They copy on other machines.\\u003cbr \\u002f\\u003eIt repeatedly shows &#34;copy protected wait&#34;.\\u003cbr \\u002f\\u003eNone of my CD-R s are copy protected. I do want a machine that will copy my CD-R collection to USB.\",\"Makes a difference right out of the box. I have 4 mini usb's. One apple old\\u003cbr \\u002f\\u003eand one apple new style. I plugged this in and keep it hidden away with all\\u003cbr \\u002f\\u003eof my bluetooth speakers, headphones etc. Fantastic way to keep things\\u003cbr \\u002f\\u003echarged .....QUICKLY.. and out of place and organized. I like it first for making\\u003cbr \\u002f\\u003eme organize everything in place ..even though the super fast charge is a\\u003cbr \\u002f\\u003edefinite plus. Comes with sticky tape to hold into place ...so it doesn't move\\u003cbr \\u002f\\u003earound on shelf. Very happy with purchase.\",\"I ordered one, Loved it.  So I  gave the first one to my husband who was traveling for a month and ordered another for myself......wouldn't turn on after charging.  Returned for another one...same problem.  GRRRRRR!\",\"Can't get any simpler that this.  And it works just about anywhere you can find a flat lip or side panel.  Ideally the lip should be at least 1 3\\u002f8&#34; for best stability, but I got it to hold decently well on the short lip of my desk top, which is just 3\\u002f4&#34;.\\u003cbr \\u002f\\u003e\\u003cbr \\u002f\\u003eBecause the front hanger piece can be adjusted to hang parallel or perpendicular, (or any angle in between), to the clamping surface, I was able to get the firmest grip on the side of a bookcase.  My best idea, and where I use it now, is attached to the arm of my executive style office chair, near where it meets the chair back.  I don't knock it with my arm or elbow as I raise\\u002flower\\u002fturn in my chair.  It is really a nifty place to stow the headphones--within easy reach, but not a cumbersome location either.\\u003cbr \\u002f\\u003e\\u003cbr \\u002f\\u003eIt is well-constructed with  good layer of powder coating on the metal.  Hardware looks to be top quality, too.\\u003cbr \\u002f\\u003e\\u003cbr \\u002f\\u003e*I received a sample product from Brainwavz.\",\"Works well. Bass is somewhat lacking but is present. Overall pleased with the item.\",\"Cheap and good\",\"Wish I could tilt it more up & down, but it works fine especially considering the price. Great price, great product. we're going to buy another one for our upstairs TV.\",\"work great at the right bprice\",\"You won't be disappointed. The only draw back is that you can't change out batteries\",\"Love this radio. It alerts the whole family when any form of weather changes. Plus you can have one in each room.\",\"Bought Dec 6, 2014 and worked great until today... Now, the charger no longer charges and will not power the unit with the battery slide switch in OFF position. Checked the charger with a Volt Meter to be at 12.5 Vdc even with a 10 Ohm power resistor connected to it. Which means that the problem is in the Max A34. Not very easy to take apart as everything is glued with a soft glue gun. Now it is an expensive paper weight. Doubt 1 year warranty is worth anything, but will look into it. Cannot recommend this product based on this experience.\",\"I have 2 different things set up on here and it switches according to what is turned on.  No problems at all.\",\"I am extremely satisfied at the quality of these especially for the money. I was in need of longer headphone extension cables and these have not disappointed.\",\"Work good but could be better. Clear sound.\",\"gets every hot\",\"Phones were dead prior to replacing them with these new replacement batteries,\",\"Quality construction.  Small but heavy construction.  Works very well with my record player.\",\"Hard to beat the price. They all seem to work the same and be the same quality, why pay more?\",\"Great product, sturdy, works like a breeze and came very handy for my rack (attached picture). The two front receptacles are great when you work with a laptop in front of the rack and need to charge it, including your cell phone. I chose this version with and Amp meter, even though it still shows zero dot zero, but that's because I ended up plugging in very light applications like cable modem, IR repeater, USB fan, etc. Otherwise, if you plug in a hair dryer for testing purposes, you will start seeing the amps come up. So it does work, and very well. It is only a few inches deep. Few tips: always leave some space above or below the unit, so that if you plug in AC\\u002fDC adapters (those that come with small routers and modems), you will have enough clearance to plug the adapters in the back. Otherwise you can always buy those very short NEMA extensions to clear the path (http:\\u002f\\u002fwww.amazon.com\\u002fC2G-Cables-03114-Outlet-Extension\\u002fdp\\u002fB0002J1KRQ\\u002fref=sr_1_4?ie=UTF8&qid=1440983975&sr=8-4&keywords=nema+extension). On the negative side, I wish it had come with an ON\\u002fOFF switch in the front...\",\"Fairly sturdy, all metal construction, it did come with wall anchors, screws & straps to secure it upright if you need to do so. No missing parts, and the fit & finish are very good. Instructions are very basic, but it's easy tool free assembly means a 1 sheet instruction page is fine.\\u003cbr \\u002f\\u003e\\u003cbr \\u002f\\u003eAs the shelves are adjustable to wherever you want them to go, you may have extra shelves leftover depending on how and where you place them on the poles.  As I migrate my DVD collection to Blu-Ray, I'll shrink the space between shelves and add the extras later.\\u003cbr \\u002f\\u003e\\u003cbr \\u002f\\u003eOverall, very pleased with this product at this price point.\",\"The only batteries I buy for my DSLR Cameras.\",\"I've tried 2 of these and both screens failed in a year.\",\"Use along with the colored ones I also ordered.\",\"Fits my tv perfectly\",\"didn't really help with cable clutter\",\"It works well~~~\",\"Cord tooooo long and plus not cl\",\"Great product at a fair price. It was easy to install and has worked out just fine. I would recommend this product to another customer\",\"These do not hold as long of a charge as the green-capped compeditors, even though the MW\\u002fhr is advertised to be higher.  However these do work as batteries and will hold a 'decent' charge, however the charge is shorter lived than other batteries of the same type I have tried.  I do use these often.  Also these did fry one of my USB ports, so use ONLY in outlet-usb ports.\",\"Sorry, this cable worked for about a week then broke. I had ordered others before and same result. My fault for thinking things would change. Thought I had gotten a bad set, but that is the rule...not the exception. I'll try the more expensives ones from Bose.\",\"Good Quality. Good Price.\",\"Good unit...sturdy...easy to mount and at a value price.  What more could you ask for?  I recommend.\",\"I bought one of these radios from BiMart about 4 years ago without listening to it (the selection was very limited and I was in a big rush). I would not buy it again. The sound is tinny, it has no automatic shutoff (a must for me), and the station tuning knob makes a huge change with only the slightest turn of the knob; that shortcoming drives me nuts. I use it only on camping and hunting trips to receive the Weather Service weather reports and as a backup for my Sangean AM\\u002fFM portable radio (love that one). I never could get it to work with the hand crank; maybe I am not doing something right. I have several other Midland products (CB, FRS, GMRS radios) and they are all pretty good but Midland fumbled the ball with this one.\",\"Great Energy Level VI travel charger! Very compact and fast charging. It is the most convenient product I never seen before ! I like it. I am very happy with this seller . Order packed very well and ship fast .Great energy level VI slimmest travel charger . Courteous service !\",\"Hold TV very secure.\",\"Our family loves to go bike riding but i get bored after a while. I got a free trial of these Taco speakers and took them along one time when i rode for a while. Put on my favorite jam and jammed out to the amazing music.\",\"USELESS AND BROKEN...Didn't even get to use it once.  Just utter poo quality.\",\"Battery is much improved from earlier models.\",\"Installed and I was able to pull up all the public channels. To determine what this antenna will pickup you will need to plug your zipcode into the following site that will list available public TV channels: http:\\u002f\\u002fantennaweb.org\\u002f  The site takes into account terrain.\",\"It worked perfectly for my Samsung 46&#34;. It's affordable (I paid $15.66), has a great quality and it's easy to install! I'd recommend it.\",\"Watched a video on how to install it on YouTube and it was easy\",\"Excellent gain in radio frequency reception over the stock antenna that came with the radio.\",\"Excellent for my child's dorm room\",\"Too expensive & reception is not great. A $10 antenna does the same job.\",\"great quality for the price\",\"Breaks very easily, and takes a while to load music\",\"I put these in some VoIP\\u002fSIP Cordless Phones (Yealink). They really do hold their charge well.\",\"Very good built quality. I use this screen with a pocket sized projector and everyone is impressed with the utility value and the set up. The screen is perfect for a meeting where it is not possible to use a large screen. This screen fits inside my large suitcase and set ups in a snap. My colleagues were so impressed, they ordered it as well after seeing it.\",\"just what I needed only used one but do have more things to use on\",\"Excellent product, performs as advertised.  Receive, read instructions, connect to your audio system with included cables, sync to your Bluetooth device (iPhone 4S), play music, enjoy!  Thank you, enough said.\",\"this is worst, I test it when i got it since it arrived very very late..I charge it up within the 4 hours of charge time and tested it, it ok and then the next day it just malfunction\\u002fstop working till now..so this is just a garbage..\",\"Excellent!!\",\"Works fine for my application. Range is not the best but fine for my use\",\"Great charger.\",\"Use these in my RV on windows and doors for a bit of added security.  Stay put and do the job. Great Seller!\",null],\"marker\":{\"color\":\"#CFD8DC\",\"opacity\":0.5,\"size\":5},\"mode\":\"markers+text\",\"name\":\"other\",\"showlegend\":false,\"x\":[10.296674728393555,11.439470291137695,12.292699813842773,10.348685264587402,13.665024757385254,10.358283042907715,12.66073226928711,12.415650367736816,12.175204277038574,13.90302848815918,13.384193420410156,12.290321350097656,12.373075485229492,14.255172729492188,12.143964767456055,10.987573623657227,11.280815124511719,10.348746299743652,11.97976303100586,10.521507263183594,14.396224021911621,11.483625411987305,12.389898300170898,13.800657272338867,13.637260437011719,13.003358840942383,13.447590827941895,12.537442207336426,12.337162971496582,12.316591262817383,13.545635223388672,9.342109680175781,13.944287300109863,12.777233123779297,14.361431121826172,13.154298782348633,13.13267993927002,13.442307472229004,13.018179893493652,14.21225357055664,12.210731506347656,11.43811321258545,9.647565841674805,13.827152252197266,13.133152961730957,13.608890533447266,13.168285369873047,12.501323699951172,14.986655235290527,9.835437774658203,13.997416496276855,11.765582084655762,12.252493858337402,12.741744995117188,11.662200927734375,13.720003128051758,11.292293548583984,10.333307266235352,10.749459266662598,11.810897827148438,9.642534255981445,11.996251106262207,11.878891944885254,13.40575122833252,12.368159294128418,12.133854866027832,11.752641677856445,13.071677207946777,13.580982208251953,11.33471393585205,15.195256233215332,11.597970962524414,13.805767059326172,12.44866943359375,11.389178276062012,12.063582420349121,12.607651710510254,11.739181518554688,12.555707931518555,12.119558334350586,13.576419830322266,13.420661926269531,11.739877700805664,10.156293869018555,13.83420181274414,13.539045333862305,9.956048965454102,11.759058952331543,13.34698486328125,11.70616340637207,12.375625610351562],\"y\":[5.530210018157959,9.398043632507324,8.15518569946289,9.08538818359375,7.055150032043457,6.2271037101745605,9.112640380859375,9.0987548828125,6.505183696746826,7.157527446746826,8.080801010131836,9.134868621826172,9.14294147491455,9.278327941894531,9.905754089355469,6.66417932510376,9.656229019165039,9.072441101074219,10.66838264465332,9.036900520324707,9.306410789489746,9.783935546875,6.723379135131836,6.996338844299316,9.419937133789062,10.437708854675293,8.18772029876709,10.40914535522461,6.632264137268066,6.437877178192139,6.7799973487854,8.132981300354004,7.055302619934082,10.313797950744629,10.70252799987793,10.313849449157715,10.40481948852539,7.752137660980225,10.424609184265137,10.603059768676758,6.429459571838379,9.433128356933594,7.108416557312012,6.921703815460205,8.933062553405762,7.519355297088623,7.7908148765563965,10.75493049621582,9.576290130615234,7.118387222290039,7.155622959136963,8.776792526245117,9.607948303222656,10.20621395111084,8.949212074279785,6.802407741546631,7.441699981689453,7.812014579772949,9.193394660949707,10.372912406921387,6.617710113525391,10.659460067749023,8.193930625915527,10.296343803405762,10.362838745117188,6.45544958114624,8.755781173706055,8.99432373046875,7.026165008544922,9.603461265563965,8.98526382446289,6.804322719573975,6.9310407638549805,9.128373146057129,9.13287353515625,8.137397766113281,8.98943042755127,8.419976234436035,9.053570747375488,6.4384894371032715,8.153884887695312,10.31418228149414,9.1417236328125,8.0521821975708,9.157658576965332,7.7284016609191895,6.2278571128845215,7.5126142501831055,6.897024154663086,8.254286766052246,8.479040145874023],\"type\":\"scattergl\"},{\"hoverinfo\":\"text\",\"hovertext\":[\"When I bought this speaker, I had one request.... I want to be able to wake up to the music of the Harry Potter Intro in mp3 with a soft wake up (volume gradually going up (which I emulated in audacity)).... Which I recommend to anyone with a relative light sleep, it really is magical.\\u003cbr \\u002f\\u003e\\u003cbr \\u002f\\u003eAnyway...the mp3 alarm is not reliable... worked fine for 3 days then doesn't start\\u003cbr \\u002f\\u003eI don't know if it's related to the way you previously stopped the music....unclear....\\u003cbr \\u002f\\u003eThe screen is also way too bright (and quite small) to be used as a clock in a dark room (I put papers on top to soften it a little bit)\\u003cbr \\u002f\\u003e\\u003cbr \\u002f\\u003eI tried all buttons and buttons combinations to fix my alarm problem and nothing worked....\\u003cbr \\u002f\\u003eonly unplug, turning off, turning back on fixed it....for one day....\",\"Use this everyday at work..  Great noise cancellation.  Wonderful product.\",\"Easy set up! Us it on long rides while training on road bikes. Only had a short time, but happy with purchase so far1\",\"The rather small but I guess if I read the description better I would've noticed that.\",\"1.The exact colour as the picture.\\u003cbr \\u002f\\u003e2. Easy to set up especially for a beginner.\\u003cbr \\u002f\\u003e3.I like the fact that I can also use an aux cord for songs I don't have on vinyl.\",\"I really enjoy the the skip and pause functions. Only things I would change is being able to adjust the volume on the speaker itself, and for it to have a better stick, had trouble getting it on the shower. But it was loud enough and easy to use. So ultimately happy with it.\",\"Replaced a Logitech wireless radio with this in my bathroom - sounds so much better!\",\"I bought this adapter to stream my music from my Samsung Note Edge smart phone to my Nissan Murano 2014. My 2014 Murano doesn't come with streaming music so I had to figure out a way to listen to my music on my smart phone.\\u003cbr \\u002f\\u003e\\u003cbr \\u002f\\u003eMy car does come with a DVD audio-visual' adaptor so I was able to use the Monster MusicConnect Portable Audio Player to connect my phone to my car and it works awesome.\",\"I use this all the time now.  Works great, battery lasts a long time, great sound.\",\"First off, I bought this product on sale for $25 off of Amazon. What a great deal, this bluetooth speaker is LOUD! It's got fair bass levels for the size and price point. Both front and back of the device emit sound, though front is louder. I think this gives it better quality and more range. I use this out by the pool and plan on using for fishing trips and tailgates. The only reason i did not give it 5 stars, when pressing the volume +\\u002f- the music stops for a &#34;boop&#34; noise. Also, when powering on, changing modes, or pairing a device, the speaker plays a womens voice that sounds almost comical. It's a little goofy, but at this price point who cares. This speaker is comparable to high end units of the same size, with just slightly less bass.\\u003cbr \\u002f\\u003e\\u003cbr \\u002f\\u003eThanks Amazon!\",\"I appreciate my speaker, it's loud and clear\",\"Enjoy crystal clear clarity sound with this product!  Super great quality! Highly recommended! Would make a perfect gift for anyone or for yourself!!\",\"[[VIDEOID:3bdd17778455ef097fcffb1d018022b6]] There is a good variance in Bluetooth speakers, from physical design, extras in the box and sound quality. Not all speakers are worth your time and money. This little Cube speaker by iGadgitz is a very interesting speaker; it may be little but it has big sound and it works very well. I did find one potential issue when it comes to the range of operation that I will describe below.\\u003cbr \\u002f\\u003e\\u003cbr \\u002f\\u003eThis is one of the smallest speakers I have seen and used. In spite of its size, it is a solid and hefty little speaker, weighing more than you'd expect. In my mind this is a good sign: it means that there is more to this little speaker than a cheap little speaker and a sub-par receiver. To be honest I was a little skeptical that it would put out good sound when I first saw this speaker. It has pleasantly surprised me (more on that shortly).\\u003cbr \\u002f\\u003e\\u003cbr \\u002f\\u003eThis speaker pairs and connects very easily. When it is in discoverable mode it identifies itself as \\\\\\\\\\\"Xquare 2\\\\\\\\\\\". I had no issue with it pairing to my phone and once connected it remained connected without issue.\\u003cbr \\u002f\\u003e\\u003cbr \\u002f\\u003eThe range on this speaker is good and I have been able to carry it from the source to a distance between 20' - 30' before it began to stutter or cut out. I have seen speakers that have more range but the majority of them fall into this threshold. Now, that said I need to mention an issue that came up in testing that should be kept in mind. If the speaker is sitting such that the switch and controls are facing down (that is, the control side is on the flat surface where it is sitting) the range is cut very dramatically. With the speaker sitting that way the range dropped to about 6' before it started cutting out. It did not seem to matter if it was the speaker that was moving away from the source or the other way around.\\u003cbr \\u002f\\u003e\\u003cbr \\u002f\\u003eI loaded up some music and played it through this speaker and was pleased with the outcome. The speaker has no problem with playing at higher volume, without distortion or \\\\\\\\\\\"washing out\\\\\\\\\\\". The profile is very good too - the bass is strong and slightly elevated but not overkill, the midrange is very good and the music has depth as a result, and the highs are bright and crisp. For such a small speaker, this one produces better-than-expected sound.\\u003cbr \\u002f\\u003e\\u003cbr \\u002f\\u003eThis is one of my favorite Bluetooth speakers. It is very small but it has excellent sound and is made very well. The size makes it placeable in areas where other speakers are too bulky to fit. This speaker proves that smaller speakers can have great sound and it's worth its asking price.\\u003cbr \\u002f\\u003e\\u003cbr \\u002f\\u003eDisclaimer: I was provided a sample of this product in exchange for a fair, honest and thorough review. Even though I received this product at no cost I have rated and reviewed this product without bias, based solely on my experience with it.er volume, without distortion or \\\\\\\\\\\"washing out\\\\\\\\\\\". The profile is very good too - the bass is strong and slightly elevated but not overkill, the midrange is very good and the music has depth as a result, and the highs are bright and crisp. For such a small speaker, this one produces better-than-expected sound.\\u003cbr \\u002f\\u003e\\u003cbr \\u002f\\u003eThis is one of my favorite Bluetooth speakers. It is very small but it has excellent sound and is made very well. The size makes it placeable in areas where other speakers are too bulky to fit. This speaker proves that smaller speakers can have great sound and it's worth its asking price.\\u003cbr \\u002f\\u003e\\u003cbr \\u002f\\u003eDisclaimer: I was provided a sample of this product in exchange for a fair, honest and thorough review. Even though I received this product at no cost I have rated and reviewed this product without bias, based solely on my experience with it.\",\"Great speaker, especially for the price.  Use it as an alternative to a computer monitor speaker.  Keep it plugged into the monitor & computer, has great sound and I can take it with me whenever I want to.  Great buy\",\"For a speaker its size the sound and volume are great. I would recommend this little speaker\",\"Great sound and compact. Battery life seems good. Happy with this product.\",\"I like this device.  The sound is clear and it carries well.  It is so convenient to carry only this speaker.  I can use it through wi-fi or I can plug it in to my laptop and play my playlist.  It has a rechargeable battery and lets you know when the battery is low so you can plug it in and charge it. I am pleased with this purchase.\",\"Nice sound for what it is \\u2013 a small Bluetooth speaker.  Syncs easily with my iPad.  Good clear sound, decent bass.  Sounds great on talk radio stations.  Nice little unit for the price.\",\"[[VIDEOID:46129030a61a028dbd8e69c13b30606]] Please watch the video for more specifics.\\u003cbr \\u002f\\u003eI enjoyed using this Bluetooth speaker from TaoTronics.\\u003cbr \\u002f\\u003eYou should wet the suction cup or else it will not stick very, once you do that you should be fine.\\u003cbr \\u002f\\u003eThe audio is very clear the sound is very good overall but the bass may lack a little bit due to the size which is to be expected.\\u003cbr \\u002f\\u003eI found it interesting the typical double tapping of the phone button is not how you call the last caller, instead you must hold the button down which is different than what I'm used to but something worth noting.\\u003cbr \\u002f\\u003eIt takes approximately two hours to charge after which you can expect 5-6 hours of playback from the 500mAh battery. When the battery is low it will beep to indicate that it's time for it to be recharged\\u003cbr \\u002f\\u003eThe included user manual is very clear and very easy to read.\\u003cbr \\u002f\\u003eThe charging ports is well covered so no issue there with water.\\u003cbr \\u002f\\u003eAs you remember to wet the suction cup it will actually stick but if you do not it will probably only stick for a matter of minutes I found.\\u003cbr \\u002f\\u003eYou can't submerged in water completely obviously but splashes here and there shouldn't be an issue.\\u003cbr \\u002f\\u003eReview sample provided free or at a discounted price for a fair, unbiased, and honest review.\",\"Love this small speaker with loud volume, great for the beach\",\"Looking to replace my iPod before it completely dies. I could not deal with the UI so I returned it. meant to by the newer version of this device but I am certain that was my fault.\",\"Junk - will play MP3, but not WMA, even though the instructions it comes with says it will.  When you try to play WMA, you get &#34;FORMAT ERROR!&#34;.  My wife bought for a birthday present, by the time I opened it, I can no longer return it.  Instructions do not match player, menu, like everyone else said, is not intuitive.  To select something, you push &#34;Menu&#34;, when you would expect to push the button in the middle.  Aggravated with this player AND Amazon!\",\"Nice player. A little difficult to learn how to power off but getting better at it.\",\"This player is an absolute fraud. the system is horrible to use you cant play playlists. its just a cheap knockoff, I hope apple sues them. I want my money back...\",\"Good sound quality.\",\"Good sound... stays in place when running\",\"When I see another component stacked on top of an amplifier, I ask myself - Do you not realize by blocking air movement, you are causing any amplifier to get many times hotter than it should. Effectively reducing it's lifespan considerably!\",\"Easy to use, good sound, great battery life, very portable, exceptional value.\",\"Best price and fast shipping. Great speaker. Very portable - nice to carry around. Try it - You'll like it!!\",\"Exactly what I was looking for - an inexpensive, light set of phones for listening to Pandora on iPad\",\"This had pretty good sound, but would not fit on my bike.  It requires you to have handlebars that are straight for at least the length of the speaker.  I didn't want to bend the cheap-looking clips too much, either.  However, the reason that I returned it was because it refused to charge out of the box.  Plugged in, it sounded rather nice, but that's kind of pointless for a bike speaker.\",\"So, I wouldn't have purchased this if it were not for my wife, who is infinitely frustrated with my audio setup.\\u003cbr \\u002f\\u003e\\u003cbr \\u002f\\u003eI needed something that would sit next to our TV, and be simple to use.  The fact that this has a remote is a nice bonus.  The fact that this can grab my local radio stations is a HUGE bonus - one which I didn't know it could do (does it via streaming).\\u003cbr \\u002f\\u003e\\u003cbr \\u002f\\u003eMy problem is that I have this setup:\\u003cbr \\u002f\\u003e\\u003cbr \\u002f\\u003eComputer requests audio to be played from a Linux computer which uses a M2Tech Hiface to stream digital to my DAC (streamed lossless FLAC).  This then feeds into my preamp, and then amp and speakers.  To access the linux computer that runs the whole show, I have to have her use shell login to my linux host (not easy for most people, and if something goes wrong, she can't fix it).  You can then  from command line play pandora or music.\\u003cbr \\u002f\\u003e\\u003cbr \\u002f\\u003eSo, those issues being stated, after plenty of research, I chose this.  I can connect this up right into my preamp, and she can use it pretty easily.  The setup was a snap, follow a few instructions, and I'm now linked up with my pandora account (I've got probably 40 stations I've been grooming for years).  Great.\\u003cbr \\u002f\\u003e\\u003cbr \\u002f\\u003eI had mistook the &#34;antenna&#34; in the product pictures for a coax hookup for an AM\\u002fFM antenna.  In fact this hookup is for the antenna to your wireless router.  Very fortunately, this nice box has the great feature of being able to pickup any radio station that streams their broadcasts (which as it turns out, is almost all of the local stations).  Not only that, but I can get stations that I would otherwise not be able to get at all (since I don't rely on an antenna, just whatever I choose to stream).  how do I get my local stations?  Simple !  you just set your location (enter your city I believe).  And it'll select the right stations for where you are.  It will also allow you to then progress outwards and grab more stations that you wouldn't otherwise be able to get with an antenna of probably any size.  I live in Baltimore, and it allows me to get stations hundreds of miles away!  Very slick!!\\u003cbr \\u002f\\u003e\\u003cbr \\u002f\\u003eThe one downside to this product is that the built-in amplifier is really pretty poor quality.  However, I didn't buy this for that functionality anyway.  I only ended up using it, as my preamp crapped out, and I'm stuck using the built in amp for the time being.  It's nice that it's available, but don't think that if you have decent speakers, that you'll get very good sound quality.  You're much better off using the 'line out' and putting this into your favorite receiver or preamp, as the built in one just isn't so great, but it's functional.ith an antenna of probably any size.  I live in Baltimore, and it allows me to get stations hundreds of miles away!  Very slick!!\\u003cbr \\u002f\\u003e\\u003cbr \\u002f\\u003eThe one downside to this product is that the built-in amplifier is really pretty poor quality.  However, I didn't buy this for that functionality anyway.  I only ended up using it, as my preamp crapped out, and I'm stuck using the built in amp for the time being.  It's nice that it's available, but don't think that if you have decent speakers, that you'll get very good sound quality.  You're much better off using the 'line out' and putting this into your favorite receiver or preamp, as the built in one just isn't so great, but it's functional.\",\"Has great features like iPod dock and USB port, but the sound is so unclear.\\u003cbr \\u002f\\u003eI am very disappointed\",\"Love clock radio & CD player.  Easy to operate.\",\"Quickly located the signal and connected.  Very surprised with the sound from such a small speaker.  It's strength is in it's size - easy to move around.  Redefines portable music.  Perfect for the deck, patio and pool.\",\"Very good speaker\",\"The sound quality is unbeatable.  I can't handle turning the volume as high as it can go, it is really a great system for any size room\",\"Awesome speaker! I take it everywhere. Charge really lasts. Sound is great. Range is fantastic. If you're in the market, get this one.\",\"Day 20 November 2014 acquired the JBL portable load Indoor \\u002f Outdoor Bluetooth Speaker | Black and hardly used it and 6.16.15 she has stopped working. Just take full charge when left more than 24 hours, yet their working time is no more than 2hs. The few times I used, was always loaded with accessories that accompanied it. I live in Brasilia-DF Brazil, not with the product warranty or aq even there in the USA. She when turned on, provides a noise as if in short circuit and after a while for the noise. only is working connected to the charger.\\u003cbr \\u002f\\u003e It is expensive and that left me high and dry.\\u003cbr \\u002f\\u003e Disappointed.\",\"The Speaker worked great.  After about 5 months of periodic use, it would not power on.  Omaker sent me a new speaker free of charge.\",\"I was not too that I needed another part to make it work on my new Bose radio not happy with the lack of information\",\"Best table radio ever, better than my Bose.\"],\"marker\":{\"opacity\":0.5,\"size\":5},\"mode\":\"markers+text\",\"name\":\"sound quality,bluetooth speakers,speaker\",\"text\":[\"\",\"\",\"\",\"\",\"\",\"\",\"\",\"\",\"\",\"\",\"\",\"\",\"\",\"\",\"\",\"\",\"\",\"\",\"\",\"\",\"\",\"\",\"\",\"\",\"\",\"\",\"\",\"\",\"\",\"\",\"\",\"\",\"\",\"\",\"\",\"\",\"\",\"\",\"\",\"\",\"\",\"\"],\"textfont\":{\"size\":12},\"x\":[13.659324645996094,14.769442558288574,15.035811424255371,14.567596435546875,14.37967300415039,14.56694507598877,13.531937599182129,13.84375,14.32357406616211,14.577147483825684,14.89979076385498,15.014719009399414,14.537363052368164,14.710179328918457,14.889707565307617,14.492680549621582,14.593791007995605,14.611964225769043,14.352069854736328,14.792752265930176,13.500886917114258,13.548039436340332,14.66623592376709,13.517256736755371,14.93264102935791,14.807332038879395,13.971473693847656,14.552002906799316,14.57604694366455,13.669326782226562,14.941845893859863,13.4987154006958,13.861139297485352,13.453500747680664,14.716205596923828,14.873702049255371,14.8439302444458,14.324592590332031,14.266087532043457,14.306328773498535,13.005212783813477,13.348361015319824],\"y\":[8.465365409851074,9.750701904296875,8.527111053466797,8.876769065856934,8.662314414978027,9.386013984680176,8.72396469116211,9.11434555053711,8.141590118408203,9.256556510925293,8.965010643005371,9.526261329650879,9.131946563720703,8.561753273010254,8.884438514709473,8.294198036193848,8.69723129272461,8.714076042175293,9.252408981323242,8.85794734954834,8.403536796569824,8.374517440795898,8.48825740814209,8.45845890045166,9.315646171569824,9.77669620513916,8.184252738952637,8.44565486907959,8.369197845458984,9.042365074157715,8.735788345336914,9.250377655029297,8.790797233581543,8.799546241760254,8.834986686706543,8.772092819213867,9.073695182800293,8.476941108703613,8.915539741516113,8.338497161865234,9.117936134338379,8.889374732971191],\"type\":\"scattergl\"},{\"hoverinfo\":\"text\",\"hovertext\":[\"[[VIDEOID:ca7421903fd1ad5c64ae1dc42a160649]] Earbuds have always been an issue for me. Mine is one of those stereotypical stories -- I can't find a pair that fits my ears well. I've tried so many types of earbuds and most of them give my ear canals some sort of fatigue. It's not that they sound bad, just that keeping them in my ears for more than 10 minutes is painful. The only ones I could tolerate were the Apple EarPods, and I have a love\\u002fhate relationship with them. Sure, they sit nicely in my ears, but them being fully open means I lose my music to the crickets of night and pelicans of day. Well, no more! I found the Flare R2A in-ear monitors, and seems my fear of earbuds is over.\\u003cbr \\u002f\\u003e\\u003cbr \\u002f\\u003eDisclaimer: This product was provided at a discounted price in exchange for an honest review.\\u003cbr \\u002f\\u003e\\u003cbr \\u002f\\u003eThe R2s began their life on Kickstarter with a campaign that raised over $170,000. That's quite a lot for IEMs, which are a rather niche market. Flare is a British company that strives for excellence in sound, and hopes that the world can join them in this pursuit. Before the R2s, the company made loudspeakers, so in-ears is a bit of a different industry. I think they did a fine job of things.\\u003cbr \\u002f\\u003e\\u003cbr \\u002f\\u003eI listen to a lot of different genres of music, but mostly folk and dream pop lately. To test out the R2s, I listened to hip-hop, jazz, EDM, instrumental guitar and piano, rock, classical, and of course the aforementioned folk. They performed consistently well in every genre. They also look great.\\u003cbr \\u002f\\u003e\\u003cbr \\u002f\\u003eFirst, of course, the sound. These IEMs aren't active noise canceling or anything fancy, which is good because noise canceling often diminishes the sound quality. The R2s are still great for keeping outside noises to a minimum. They use the same plushy foam tips as earplugs, which makes for a comfortable and quiet listening environment. I tried them at work, in the bus, walking down a busy road, and even in a studio while recording. There's absolutely no sound leakage at all, which is great for quiet environments, and none of the quality seems to be lost when the environment is noisy.\\u003cbr \\u002f\\u003e\\u003cbr \\u002f\\u003ePeople sometimes rant about flat response and how it's better than everything else. Those people might be troubled by the R2s. They're warmer than most earbuds, but don't have muddy bass. The main issue with earbuds is always treble: there's way too much of it everywhere. Then Skullcandy wanted to have fun so they started adding a bunch of bass to the mix. Everything above 80Hz seemed to have been lost. The R2s have none of those problems -- highs are crisp, mids cut through well, and the lows of course deliver the much-needed punch, rather than a drone. The responsiveness of everything is very tight.\\u003cbr \\u002f\\u003e\\u003cbr \\u002f\\u003eAs I said before, everything I listened to with these IEMs sounded wonderful. They revealed details in songs that I didn't know were there, while also being comfortable, affordable, and easy to use. The highs were not overbearing, but pronounced; the high-mids don't clutter the highs at all; the low-mids keep all the bass lines in check; and the lows make sure you remember that the bass drum exists without making you forget about the guitars in the mid-range. That's a great achievement. I really love the way these sound. Everything is balanced. Overall, it's a bit warm, but I would much rather it be warm than sound like tinny old Apple earbuds from the early 2000s, with their mesh and bass-less muddle.\\u003cbr \\u002f\\u003e\\u003cbr \\u002f\\u003eOn to the design. These things are beautifully minimal, but aren't trying to be artistic, which is nice for a change. The earbuds themselves are black (or whatever color you chose), and the tips and cable match that. There's also a rectangular machined aluminum box that splits the stereo signal for the left and right channels. It doesn't need to be as big as it is, but it does add some pizzazz to things. Lastly, there's the 3.5mm connector, which on mine is black with two gold stripes running through it.\\u003cbr \\u002f\\u003e\\u003cbr \\u002f\\u003eI love the design, but there's one ergonomic inconsistency: The aluminum box. It looks cool, and I can see why the designer would have put it there. However, if you want to use these as a versatile pair of IEMs, you may walk with them once in a while, or just move around a bit. The latter is inevitable, and when you do choose to move around you'll hear some strange thudding sounds. That's the box attempting to defy gravity. Every time I hear this I tell myself it's cool to look at, but doesn't need to be so heavy and certainly doesn't add any special functionality. The heaviness, I suppose, adds value to the IEMs. I would just prefer it wasn't here, especially when I'm using these to perform.\\u003cbr \\u002f\\u003e\\u003cbr \\u002f\\u003eWhile these are \\\\\\\\\\\"reference\\\\\\\\\\\" series -- at least according to the marketing by Flare -- I don't recommend using them for referencing. The R2s don't produce a completely flat sound like Sonys do. They're amazing for listening to, but not necessarily for studio work. I tried mixing a few song using them just for fun, and I noticed that most of my mixes tended to lose the low-mid range on other speakers and headphones simply because the R2s are warm. This characteristic is great when listening to music, but not for mixing\\u002fproducing it.\\u003cbr \\u002f\\u003e\\u003cbr \\u002f\\u003eIf you're a musician, you'll find that these are great for monitoring (and thus they are named in-ear monitors). I used them to monitor my vocals and piano while recording an entire song and they worked great. The warmth helps make things less straining on the ears, and there's not so much bass that I get a headache using them after a while. I also used these to monitor my synth and the rest of the band while playing live, and the foam tips isolated the sound very well.\\u003cbr \\u002f\\u003e\\u003cbr \\u002f\\u003eIt's worth noting that since these are in-ear monitors, there is no microphone. The aluminum block in the middle of the cable just acts as a splitter -- there's no hidden microphone. At first this bugged me, because I would receive a call and forget I couldn't use these headphones to talk. After a while, I just accepted it. There's no reason for IEMs to have a microphone since there's no way for you to use it as a talkback to your band or anything. It also goes against the way that Flare built these, which is to solely focus on recreating sound accurately, not adding more sound. Bottom line: A microphone would have been useful, but there isn't one, and that shouldn't be a deal breaker.\\u003cbr \\u002f\\u003e\\u003cbr \\u002f\\u003eHere's the verdict: The R2s made me like earbuds again. I was considering the Shure SE215s, but these reign superior. Once they're in my ears, I don't feel like I need to take them out. They feel at home. Even Apple's EarPods, which \\\\\\\\\\\"sit\\\\\\\\\\\" in my ears nicely, don't make me forget that I'm listening to music through small pieces of plastic in my ears. The R2s do, and they don't look ridiculous like some earbuds. My friend even told me he didn't notice I was wearing them because they're so small. That's awesome.e the design, but there's one ergonomic inconsistency: The aluminum box. It looks cool, and I can see why the designer would have put it there. However, if you want to use these as a versatile pair of IEMs, you may walk with them once in a while, or just move around a bit. The latter is inevitable, and when you do choose to move around you'll hear some strange thudding sounds. That's the box attempting to defy gravity. Every time I hear this I tell myself it's cool to look at, but doesn't need to be so heavy and certainly doesn't add any special functionality. The heaviness, I suppose, adds value to the IEMs. I would just prefer it wasn't here, especially when I'm using these to perform.\\u003cbr \\u002f\\u003e\\u003cbr \\u002f\\u003eWhile these are \\\\\\\\\\\"reference\\\\\\\\\\\" series -- at least according to the marketing by Flare -- I don't recommend using them for referencing. The R2s don't produce a completely flat sound like Sonys do. They're amazing for listening to, but not necessarily for studio work. I tried mixing a few song using them just for fun, and I noticed that most of my mixes tended to lose the low-mid range on other speakers and headphones simply because the R2s are warm. This characteristic is great when listening to music, but not for mixing\\u002fproducing it.\\u003cbr \\u002f\\u003e\\u003cbr \\u002f\\u003eIf you're a musician, you'll find that these are great for monitoring (and thus they are named in-ear monitors). I used them to monitor my vocals and piano while recording an entire song and they worked great. The warmth helps make things less straining on the ears, and there's not so much bass that I get a headache using them after a while. I also used these to monitor my synth and the rest of the band while playing live, and the foam tips isolated the sound very well.\\u003cbr \\u002f\\u003e\\u003cbr \\u002f\\u003eIt's worth noting that since these are in-ear monitors, there is no microphone. The aluminum block in the middle of the cable just acts as a splitter -- there's no hidden microphone. At first this bugged me, because I would receive a call and forget I couldn't use these headphones to talk. After a while, I just accepted it. There's no reason for IEMs to have a microphone since there's no way for you to use it as a talkback to your band or anything. It also goes against the way that Flare built these, which is to solely focus on recreating sound accurately, not adding more sound. Bottom line: A microphone would have been useful, but there isn't one, and that shouldn't be a deal breaker.\\u003cbr \\u002f\\u003e\\u003cbr \\u002f\\u003eHere's the verdict: The R2s made me like earbuds again. I was considering the Shure SE215s, but these reign superior. Once they're in my ears, I don't feel like I need to take them out. They feel at home. Even Apple's EarPods, which \\\\\\\\\\\"sit\\\\\\\\\\\" in my ears nicely, don't make me forget that I'm listening to music through small pieces of plastic in my ears. The R2s do, and they don't look ridiculous like some earbuds. My friend even told me he didn't notice I was wearing them because they're so small. That's awesome.\",\"these have good bass, but at the same time, even as a basshead I found these to be a bit boomy, they almost have nothing but bass. I did however get them to sound great with the use of the PowerAmp App on my phone, but for the most part, it is honest difficult to find a good spot with the equalizer and if using it with a device that has no PowerAmp app, it will continue to sound boomy. the highs and upper mids are much quieter in comparison. the ear hooks in my opinion are uncomfortable. I really wanted to like these headphones, but they were just too &#34;high Maintenance&#34;. I felt like I was working too hard to be happy with them, I want something that sounds and works good out of the box. the customer buys and uses, they don't work to make the product meet their expectations. for these reasons I decided to return and Went with the Jaybirds Bluebuds x. They are more Portable, come with a hardshell case in comparison to the cheap mesh bag included with the photives, feature better battery life, sound better, and are far more comfortable. For me, it was worth it to pay the extra money, I hope they are durable enough to hold up, but only time will tell.\",\"Great pair of headphones for the price. If you've ever taken an overnight flight and had trouble sleeping because of the ambient noise, it's amazing what a little noise reduction can do. You can use these headphones without even plugging them in, just for the noise reduction. On the other hand, they sound pretty good as well. I found these phones comfortable enough to wear for several hours straight. All in all, a good investment in peace and quiet!\",\"I really like these headphones. Great excess noise canceling. comfortable to wear 5+hrs\\u002fday. Microphone works good.\\u003cbr \\u002f\\u003eI only rated 3 stars because the microphone just stopped working. Ive used this 15 months with no problem.\\u003cbr \\u002f\\u003eNo accidents, no visible reason for it to stop working. Im really bummed. only recommend buying if you are fine with fact that\\u003cbr \\u002f\\u003eit may only last 1 yr or so.\",\"Trash, returned mine after 2 days. The pads are hard and very uncomfortable. It is completely plastic  and feels like it is  about to break. DONT BUY\",\"I was very dissapointed with the quality of the headphones they sound very low the battery dies in less then 2 hours which I find ironic because they are not even loud. The range from your phone to the actual headset is probably only like 2 feet because it disconnects everytime I got my phone in my pocket all around upset about the product especially for this price I could've bought any one of the 30 or 40 dollar headphone and it probably would've been the same or better\",\"This case is perfect for my Symphonized NRG Premium Headphones. It's small and the colors match the headphones perfectly\",\"I was unable to use them because they hurt my ears I used them for a total 30 min. and my ears felt like they were bruised.\",\"Good looking over the ear headphones that have a surprising deep bass response. I have noticed new bass notes on some of the songs I have been listening to for years. I use them at work to reduce the surrounding noise. A great value.\",\"I LOVE THESE HEADPHONES! I am totally satisfied with the sound and the fact that they stay in my ears! They are great...and I love the color of course. :)\",\"Comfortable, but terrible sound. Very tinny, with no bass at all.  I would return them and ask for my money back if I could.\",\"Nice design and works well in tandem with the bought ear phone.\",\"Happy For about 4 weeks using these in the gym. The tips then lost the sponginess and then teared over time. I kept my headphones in a case and yet they wear out when you use them after a few weeks.\",\"A little loose on me and they're not adjustable, but decent sound quality. Be careful of the headphone jack as it seems to bend easily.\",\"Product is just okay! Volume level is not very good, I am used to going louder. Charge only lasts for maybe 2.5 hours of continuous use. This is my first pair of bluetooth earbuds. I feel gullible because I was going to purchase a pair for around 20$ and I thought the price point was too low so instead I purchased these. I think maybe for a tryout pair I could have gone with the 20$ pair.\",\"My wife loves her new head phones.\",\"I bought these as a gift so I never wore them but they looked a little flimsy to me. I would not personally buy them for myself.\",\"I am loving the product! Comfortable fit. Good sound.\",\"I'm really not qualified to review headphones, but some members on head-fi gave them really good reviews and so far they're the best I've had or used.\\u003cbr \\u002f\\u003eThey're extremely clear, and while somewhat lacking on bass, you still feel and hear it it's just not overpowering. Listening to these headphones is akin to the experience of eating Dark Chocolate.\",\"Best headphones I've ever had for this price.\",\"great for iPhone cable, earbuds and plug.\",\"These headphones are amazing!  The clarity is unreal.  I would highly recommend purchasing a pair!\",\"I bought these for my boyfriend, and they work for him because his ears are much bigger so the loop fits, although the sound quality is still just mediocre.\",\"Work great with my Jaybird headphones\",\"I love these headphones...they are alot better than skullcandy\",\"Bought these a year ago and being an active traveler they have held up pretty well. Comfortable for long flights and still have 100% noise cancellation\",\"I bought this to replace a lost neoprene case for my QC20i earbuds. This case is just ok.\\u003cbr \\u002f\\u003e\\u003cbr \\u002f\\u003eIt seems very cheaply made and it's kind of hard to use because the zipper is a little stiff. If it was more expensive, I would have returned it but there's really no point (I'd get a buck or two back after return shipping).\",\"Ok but wouldn't buy another pair. Maybe a different model. I had a different model of Bob Marley headphones and absolutely loved them. I thought I would get the same out of these that a got out of my last pair but was disappointed\",\"Wonderful wonderful product, don't think it could be improved I used for motorcycle trip long continuous wear 14hr days cross country in comfort no wind noise and better than a pair of custom made ear gear I had with for comparison.\",\"Bought these headphones a week ago and I love them. These are the most comfortable headphones I've ever owned. Feels so comfortable even listening for many hours. I own a pair of Audio Technica M50x and these for me are much better. They are much more open and a pleasure to listen to any music. I listen to music mostly on my iPad and have a subscription to Tidal premium musi service right now. The clarity of the music is amazing. These headphones also are a great bargain at $108.99 on Amazon. I'm very happy with my purchase.\",\"Bearly open up the package and only 1 headphone works great.\",\"The quality on these speakers is insanely good and doesn't sound muddy when adjusting bass. Very happy with these.\",\"Awesome earphones! The sound is great and the ear pieces are very comfortable.  I use them at the golf range.  They are lightweight and don't fall out of my ear when I'm in motion.  Best of all, NO TANGLES even after being shoved in and out of my bag.\",\"Excellent sound. Good price. Ear pads are less expensive and non-breathable plastic and not very durable and they're somewhat uncomfortable when wearing over 1\\u002f2 hour at a sitting.\\u003cbr \\u002f\\u003e\\u003cbr \\u002f\\u003eThese Sony headphones are comfortable and will last longer, but I think the sound of the monoprice headphones is slightly better. As grandpa said, &#34;You pays your money and you takes your choice.&#34;*  [[ASIN:B000092YPR Sony MDR-V150 Monitor Series Headphones]]\\u003cbr \\u002f\\u003e\\u003cbr \\u002f\\u003e1846 Punch, &#34;The Ministerial Crisis&#34;\\u003cbr \\u002f\\u003e1884 Huckleberry Finn (Mark Twain)\\u003cbr \\u002f\\u003e\\u003cbr \\u002f\\u003e*Thanks to the New York Times\\u003cbr \\u002f\\u003eON LANGUAGE; You Pays Yer Money\\u003cbr \\u002f\\u003eBy WILLIAM SAFIRE\\u003cbr \\u002f\\u003ePublished: February 28, 1988\"],\"marker\":{\"opacity\":0.5,\"size\":5},\"mode\":\"markers+text\",\"name\":\"headphones,headphone,speakers headphones\",\"text\":[\"\",\"\",\"\",\"\",\"\",\"\",\"\",\"\",\"\",\"\",\"\",\"\",\"\",\"\",\"\",\"\",\"\",\"\",\"\",\"\",\"\",\"\",\"\",\"\",\"\",\"\",\"\",\"\",\"\",\"\",\"\",\"\",\"\",\"\"],\"textfont\":{\"size\":12},\"x\":[14.033854484558105,14.033699035644531,13.735515594482422,13.642616271972656,13.95406723022461,13.580164909362793,13.384376525878906,14.05478572845459,14.179830551147461,13.561840057373047,13.883430480957031,13.413981437683105,14.013144493103027,13.922380447387695,13.89850902557373,13.2139253616333,14.076791763305664,13.725859642028809,13.987908363342285,13.247629165649414,13.132411003112793,13.923434257507324,13.976828575134277,13.13869571685791,13.411035537719727,13.803044319152832,13.421348571777344,13.027310371398926,13.977965354919434,13.6765775680542,12.95046329498291,14.137251853942871,13.833001136779785,13.544349670410156],\"y\":[11.219168663024902,10.930935859680176,11.662731170654297,11.780570983886719,11.347001075744629,11.370604515075684,10.930307388305664,11.610962867736816,10.851900100708008,11.635199546813965,11.432089805603027,10.87863826751709,11.537291526794434,11.739577293395996,10.634343147277832,11.279851913452148,11.66943645477295,11.051383018493652,11.187612533569336,11.430818557739258,10.680500984191895,11.29468059539795,11.62640380859375,10.91060733795166,11.48958683013916,11.546992301940918,10.840394973754883,11.205866813659668,11.621725082397461,11.496872901916504,11.13676643371582,11.040800094604492,11.759289741516113,11.627873420715332],\"type\":\"scattergl\"},{\"hoverinfo\":\"text\",\"hovertext\":[\"I bought this as a gift, and the recipient loves it.\",\"Great quality of the product and service.\",\"Wish I could give this product more than five stars. Lifesaver.\",\"Ok storage\",\"great\",\"LOVE IT !!!!\\u003cbr \\u002f\\u003eWILL PURCHASE MORE IN THE FUTURE  ; )\",\"Good product\",\"Gave as gift to my son.  He liked all the fuctnions.\",\"Good product, but took a week to receive.\",\"Excelent purchase.  I recomendm it.\",\"great item\",\"Great product.\",\"Product arrived in good packaging and worked well.\",\"Good for the price.\",\"Great. I like the triple flange ones even better.\",\"great product, great service.\",\"Great product.\",\"Changed my life.\",\"Solid product no complaints.\",\"Fell apart\",\"Great product to save money!  Product as described!  Fast delivery!\",\"great products! good buy! works great!\",\"Awesome product. Super fast delivery.\",\"Great product.\",\"Loved it\",\"Item as described , fast delivery\",\"Fast shipment, easy to install - no issues so far.\",\"good product good seller\",\"Alll good\",\"Love it\",\"Product was defective but the customer service was fantastic..\"],\"marker\":{\"opacity\":0.5,\"size\":5},\"mode\":\"markers+text\",\"name\":\"great product,great quality,product\",\"text\":[\"\",\"\",\"\",\"\",\"\",\"\",\"\",\"\",\"\",\"\",\"\",\"\",\"\",\"\",\"\",\"\",\"\",\"\",\"\",\"\",\"\",\"\",\"\",\"\",\"\",\"\",\"\",\"\",\"\",\"\",\"\"],\"textfont\":{\"size\":12},\"x\":[11.05063533782959,11.556252479553223,10.817926406860352,10.194130897521973,10.197071075439453,11.04488468170166,10.649308204650879,10.942239761352539,11.200733184814453,11.653220176696777,10.456789016723633,10.677447319030762,11.25400447845459,12.138387680053711,11.573928833007812,10.86556625366211,10.648641586303711,10.728227615356445,11.50800609588623,10.709827423095703,11.316061973571777,10.94112777709961,11.318656921386719,10.605687141418457,10.379720687866211,11.431570053100586,11.462824821472168,11.042200088500977,10.319791793823242,10.33938217163086,11.23868179321289],\"y\":[6.382523536682129,6.237248420715332,5.636122226715088,5.9954328536987305,6.02651834487915,5.852034091949463,5.708121299743652,6.560463905334473,5.725281238555908,6.117185115814209,5.837071418762207,5.733785152435303,5.772731304168701,6.435881614685059,6.269833087921143,5.851995468139648,5.784445762634277,6.826386451721191,6.356800079345703,6.837464809417725,5.80770206451416,5.991218090057373,5.676824569702148,5.715587615966797,5.553232669830322,5.697657108306885,5.757646083831787,5.775534629821777,5.949558734893799,5.562308311462402,6.609502792358398],\"type\":\"scattergl\"},{\"hoverinfo\":\"text\",\"hovertext\":[\"works great\",\"Works great!\",\"Only lasted a few months then blew out.\",\"Did not last long,  Stop working within a year.\",\"They work\",\"Works pissa\",\"Did not work as expected, However this might be an issue with my application and not the part itself.\",\"This product worked just as advertised.\",\"It works! I got a muscle cramp, rub it on the area nd the pain was gone within a minute.\",\"This thing kicks buttttt!\",\"Did not work at all.\",\"Does the job.\",\"works as advertised.... nothing else to really say about it\",\"works great\",\"So far so good.  Will update if anything changes.\",\"No problems with using for its intended use.\",\"Does the job!\",\"I can't get it to work!\",\"Worked great at the cabin\",\"It's only been in use for a few weeks but so far it works fine. It was well priced and arrived promptly.\",\"Did not help my problem.\",\"It works as advertising.\",\"Works great. Had it quite some time, use it every week. Wish it had the functionality of the older one.. but what can you do when Sansa doesn't make it that way. Thanks!\"],\"marker\":{\"opacity\":0.5,\"size\":5},\"mode\":\"markers+text\",\"name\":\"works great,worked great,works fine\",\"text\":[\"\",\"\",\"\",\"\",\"\",\"\",\"\",\"\",\"\",\"\",\"\",\"\",\"\",\"\",\"\",\"\",\"\",\"\",\"\",\"\",\"\",\"\",\"\"],\"textfont\":{\"size\":12},\"x\":[9.635685920715332,9.812958717346191,10.976430892944336,11.195347785949707,9.577000617980957,9.519588470458984,11.82851505279541,10.337660789489746,10.136392593383789,10.162489891052246,11.08415699005127,9.736844062805176,11.17334270477295,9.699389457702637,11.558388710021973,11.618525505065918,9.750523567199707,10.02206039428711,9.720539093017578,11.628610610961914,10.85267162322998,10.388458251953125,11.20931339263916],\"y\":[6.614871025085449,6.537295818328857,7.012167930603027,7.162262916564941,6.679889678955078,6.641684532165527,8.039848327636719,7.3047027587890625,7.049241065979004,6.801205635070801,7.411378860473633,7.035004138946533,7.384322166442871,6.547555446624756,7.1636176109313965,7.223701000213623,7.008009433746338,6.721442699432373,7.03256368637085,7.14625883102417,7.459798812866211,7.395078659057617,7.399622917175293],\"type\":\"scattergl\"},{\"hoverinfo\":\"text\",\"hovertext\":[\"Have a Panasonic plasma with side inputs and this helped hide the cable perfectly. Nice tight fit in connector as well.\",\"POE didn't run through it. I had to shorten it up 25 feet for it to work. The pairs are hardly twisted. In the end it worked for what I intended but it wasn't worth my time cutting and recrimping an end on it.\",\"These are like HDMI on steroids.  Very well constructed cables.  Nothing cheap about them and the price was really good too.  I'd buy more of these in a heartbeat\",\"Great little device if you need to convert micro and mini HDMI to full hdmi and down want to buy new cables.\\u003cbr \\u002f\\u003eSo far mine has been working great.\\u003cbr \\u002f\\u003eIts small in size so its easy to carry with your computer or tablet.\\u003cbr \\u002f\\u003eIt carries audio like all HDMI cables.\",\"This product works well. My only complaint is that the plug-in cord is a little short to use on my bedroom TV. I ended up hooking it up in my son's room. It was able to give it just enough boost he no longer has to move the antenna around to get the channel he wants. Installation is super simple. Basically it's a plug and play. Or better yet a plug and watch.\\u003cbr \\u002f\\u003eI received this product at a discount in exchange for my honest review.\",\"I bought this 10 days ago. It was relatively easy to hook up. The auto-calibration took a few tries to get right, but I was pleased with the outcome. The sound was fantastic and really enhanced the viewing experience of my new Sony 4k 70&#34; television.\\u003cbr \\u002f\\u003e\\u003cbr \\u002f\\u003eToday it died. I was watching Band of Brothers, and halfway through episode 3 the sound just died. I did my own troubleshooting (I have an advanced degree in electrical engineering) and then called Sony support. They ran me through a few steps, and then escalated me to another department. After being on hold for 40 minutes, the line kicked off and said that the office I was trying to reach was closed for the day.\\u003cbr \\u002f\\u003e\\u003cbr \\u002f\\u003eSo I am now 10 days into a three thousand dollar investment with Sony, and I am watching a football game with no sound while I type this.\\u003cbr \\u002f\\u003e\\u003cbr \\u002f\\u003eMy receiver was a poor product. And the support line was awful.\\u003cbr \\u002f\\u003e\\u003cbr \\u002f\\u003eI am not happy.\",\"I purchased the OUS00-0563 Super Thin Indoor HDTV and took it to Barbados where after installing it(simply tape to concrete block wall) I was pleasantly surprised by the difference in reception of the TV. I highly recommend this product.\",\"works as expected; well made cable.\",\"Great HDMI cable with signal amplifier built in. Make sure you run the cable the correct way as it is directional. I have used this at multiple locations.\",\"If there rca speakers don't buy!  I'm not huge on fashion so my vizio sound bar rear speakers just got tie wrapped to the back of the pole and clipped pole is solo small it will fit speaker wire only! And probably small gauge only\",\"after a lightening strike wiped out my old receiver along with my music streaming devices (Grace and Roku) I was looking for an all in one 2 channel receiver that would stream internet radio, play Pandora type services and stream from my 400GB music database.  After researching on line, I bought this unit.\\u003cbr \\u002f\\u003e\\u003cbr \\u002f\\u003eIt arrived today.  Set up was easy. It took longer un untangle the rats nest of old wires than to set up the new unit.  I connected my wired network and started to play around.  The sound quality is excellent!  The choices of inputs are excellent as well.  The one great shortcoming is the display panel.  I cannot understand why Yamaha would put 1980's technology into this otherwise modern, high quality system.  It has a one line 13 character dot matrix display for alpha numeric messages, such as track name, station id etc.  beyond me why they cut this corner.\\u003cbr \\u002f\\u003e\\u003cbr \\u002f\\u003eWhat saves the day is the app.  Yamaha NP Controller allows you to pretty much do everything from your android or iOS device.  The app is smooth, fast and intuitive.  Ps: do not download the Yamaha AV Controller App as it does not apply to this unit.\",\"Love the fact they are only three feet!  Does not take up so much room behind TV\",\"Ordered to hookup a backup camera. This thing has different connectors on each end. I had one end hook up OK but had to find and RCA male to male adapter to make the other end right. I am not sure why they thought it was OK with differences from one end to the other.\",\"great product for the price.  TV works great and the picture quality is really nice and clear.\",\"Appears to work just great. Used it to connect my LG 55LB6100 TV (which only had digital optical out and poor speakers in the TV), to my Onkyo 8255 receiver (RCA inputs).  I connected the FiiO USB power connect into one of the USB ports on the TV so it only powers on when the TV is on; hopefully this will help with issues I read in other reviews with it dying early from being left on and overheating.\",\"Such a great option to extend those HDMI cords, instead of buying a super expensive longer cord. I connected 2 ten feet HDMI cords with one of these and i have not noticed any reduction in quality. This has allowed me to connect my PC and TV that is up on the wall.\",\"I've decided to keep the item.  the ezcast is not quite as good as Chromecast with most features, but it's cheaper and has a couple of features that I actually like a little better than Chromecast (actually works with Firefox for HTML 5 video).  Also, the setup goes pretty smoothly which is a plus (maybe even better than Chromecast).  Just how secure it is remains to be seen.  Something tells me that this Chinese company that manufactures it, lets the device be vulnerable to hacking, but we'll see.  The support site for the Windows app is in Chinese as best I can tell, and not conducive to North American customers, but hopefully that gets improved soon.\"],\"marker\":{\"opacity\":0.5,\"size\":5},\"mode\":\"markers+text\",\"name\":\"hdmi,tv,cable\",\"text\":[\"\",\"\",\"\",\"\",\"\",\"\",\"\",\"\",\"\",\"\",\"\",\"\",\"\",\"\",\"\",\"\",\"\"],\"textfont\":{\"size\":12},\"x\":[11.692126274108887,11.896827697753906,12.039088249206543,12.08902359008789,12.344504356384277,11.998597145080566,12.127543449401855,11.92766284942627,12.006529808044434,11.540298461914062,13.44446849822998,11.448308944702148,11.849709510803223,11.802934646606445,12.07149600982666,12.03495979309082,12.279014587402344],\"y\":[10.328462600708008,10.334074974060059,10.280352592468262,10.091241836547852,8.985519409179688,9.577706336975098,9.245137214660645,10.383524894714355,10.147876739501953,10.045466423034668,9.171552658081055,9.514739036560059,10.261919021606445,9.156829833984375,9.08927059173584,10.520867347717285,8.767318725585938],\"type\":\"scattergl\"},{\"hoverinfo\":\"text\",\"hovertext\":[\"Was exactly what I needed\",\"wasnt as loud as expected\",\"As described. Just what I wanted\",\"fit perfectly\",\"As Advertised\",\"As described.\",\"More or less.\",\"performed as expected\",\"better than expected\",\"As I expected\",\"this fits exactly i expectede.\",\"exactly as promised.\",\"Perfect fit. efficient.\"],\"marker\":{\"opacity\":0.5,\"size\":5},\"mode\":\"markers+text\",\"name\":\"better expected,expected,better\",\"text\":[\"\",\"\",\"\",\"\",\"\",\"\",\"\",\"\",\"\",\"\",\"\",\"\",\"\"],\"textfont\":{\"size\":12},\"x\":[9.675703048706055,9.205354690551758,9.527490615844727,10.399906158447266,9.418639183044434,9.532766342163086,9.528290748596191,9.325037956237793,9.23620319366455,9.290838241577148,10.317222595214844,9.526412963867188,10.316827774047852],\"y\":[8.446897506713867,8.523510932922363,8.382898330688477,8.95709228515625,8.279417037963867,8.393701553344727,8.390134811401367,8.41806411743164,8.408214569091797,8.460118293762207,8.910581588745117,8.418381690979004,8.904877662658691],\"type\":\"scattergl\"}],                        {\"template\":{\"data\":{\"barpolar\":[{\"marker\":{\"line\":{\"color\":\"white\",\"width\":0.5},\"pattern\":{\"fillmode\":\"overlay\",\"size\":10,\"solidity\":0.2}},\"type\":\"barpolar\"}],\"bar\":[{\"error_x\":{\"color\":\"rgb(36,36,36)\"},\"error_y\":{\"color\":\"rgb(36,36,36)\"},\"marker\":{\"line\":{\"color\":\"white\",\"width\":0.5},\"pattern\":{\"fillmode\":\"overlay\",\"size\":10,\"solidity\":0.2}},\"type\":\"bar\"}],\"carpet\":[{\"aaxis\":{\"endlinecolor\":\"rgb(36,36,36)\",\"gridcolor\":\"white\",\"linecolor\":\"white\",\"minorgridcolor\":\"white\",\"startlinecolor\":\"rgb(36,36,36)\"},\"baxis\":{\"endlinecolor\":\"rgb(36,36,36)\",\"gridcolor\":\"white\",\"linecolor\":\"white\",\"minorgridcolor\":\"white\",\"startlinecolor\":\"rgb(36,36,36)\"},\"type\":\"carpet\"}],\"choropleth\":[{\"colorbar\":{\"outlinewidth\":1,\"tickcolor\":\"rgb(36,36,36)\",\"ticks\":\"outside\"},\"type\":\"choropleth\"}],\"contourcarpet\":[{\"colorbar\":{\"outlinewidth\":1,\"tickcolor\":\"rgb(36,36,36)\",\"ticks\":\"outside\"},\"type\":\"contourcarpet\"}],\"contour\":[{\"colorbar\":{\"outlinewidth\":1,\"tickcolor\":\"rgb(36,36,36)\",\"ticks\":\"outside\"},\"colorscale\":[[0.0,\"#440154\"],[0.1111111111111111,\"#482878\"],[0.2222222222222222,\"#3e4989\"],[0.3333333333333333,\"#31688e\"],[0.4444444444444444,\"#26828e\"],[0.5555555555555556,\"#1f9e89\"],[0.6666666666666666,\"#35b779\"],[0.7777777777777778,\"#6ece58\"],[0.8888888888888888,\"#b5de2b\"],[1.0,\"#fde725\"]],\"type\":\"contour\"}],\"heatmapgl\":[{\"colorbar\":{\"outlinewidth\":1,\"tickcolor\":\"rgb(36,36,36)\",\"ticks\":\"outside\"},\"colorscale\":[[0.0,\"#440154\"],[0.1111111111111111,\"#482878\"],[0.2222222222222222,\"#3e4989\"],[0.3333333333333333,\"#31688e\"],[0.4444444444444444,\"#26828e\"],[0.5555555555555556,\"#1f9e89\"],[0.6666666666666666,\"#35b779\"],[0.7777777777777778,\"#6ece58\"],[0.8888888888888888,\"#b5de2b\"],[1.0,\"#fde725\"]],\"type\":\"heatmapgl\"}],\"heatmap\":[{\"colorbar\":{\"outlinewidth\":1,\"tickcolor\":\"rgb(36,36,36)\",\"ticks\":\"outside\"},\"colorscale\":[[0.0,\"#440154\"],[0.1111111111111111,\"#482878\"],[0.2222222222222222,\"#3e4989\"],[0.3333333333333333,\"#31688e\"],[0.4444444444444444,\"#26828e\"],[0.5555555555555556,\"#1f9e89\"],[0.6666666666666666,\"#35b779\"],[0.7777777777777778,\"#6ece58\"],[0.8888888888888888,\"#b5de2b\"],[1.0,\"#fde725\"]],\"type\":\"heatmap\"}],\"histogram2dcontour\":[{\"colorbar\":{\"outlinewidth\":1,\"tickcolor\":\"rgb(36,36,36)\",\"ticks\":\"outside\"},\"colorscale\":[[0.0,\"#440154\"],[0.1111111111111111,\"#482878\"],[0.2222222222222222,\"#3e4989\"],[0.3333333333333333,\"#31688e\"],[0.4444444444444444,\"#26828e\"],[0.5555555555555556,\"#1f9e89\"],[0.6666666666666666,\"#35b779\"],[0.7777777777777778,\"#6ece58\"],[0.8888888888888888,\"#b5de2b\"],[1.0,\"#fde725\"]],\"type\":\"histogram2dcontour\"}],\"histogram2d\":[{\"colorbar\":{\"outlinewidth\":1,\"tickcolor\":\"rgb(36,36,36)\",\"ticks\":\"outside\"},\"colorscale\":[[0.0,\"#440154\"],[0.1111111111111111,\"#482878\"],[0.2222222222222222,\"#3e4989\"],[0.3333333333333333,\"#31688e\"],[0.4444444444444444,\"#26828e\"],[0.5555555555555556,\"#1f9e89\"],[0.6666666666666666,\"#35b779\"],[0.7777777777777778,\"#6ece58\"],[0.8888888888888888,\"#b5de2b\"],[1.0,\"#fde725\"]],\"type\":\"histogram2d\"}],\"histogram\":[{\"marker\":{\"line\":{\"color\":\"white\",\"width\":0.6}},\"type\":\"histogram\"}],\"mesh3d\":[{\"colorbar\":{\"outlinewidth\":1,\"tickcolor\":\"rgb(36,36,36)\",\"ticks\":\"outside\"},\"type\":\"mesh3d\"}],\"parcoords\":[{\"line\":{\"colorbar\":{\"outlinewidth\":1,\"tickcolor\":\"rgb(36,36,36)\",\"ticks\":\"outside\"}},\"type\":\"parcoords\"}],\"pie\":[{\"automargin\":true,\"type\":\"pie\"}],\"scatter3d\":[{\"line\":{\"colorbar\":{\"outlinewidth\":1,\"tickcolor\":\"rgb(36,36,36)\",\"ticks\":\"outside\"}},\"marker\":{\"colorbar\":{\"outlinewidth\":1,\"tickcolor\":\"rgb(36,36,36)\",\"ticks\":\"outside\"}},\"type\":\"scatter3d\"}],\"scattercarpet\":[{\"marker\":{\"colorbar\":{\"outlinewidth\":1,\"tickcolor\":\"rgb(36,36,36)\",\"ticks\":\"outside\"}},\"type\":\"scattercarpet\"}],\"scattergeo\":[{\"marker\":{\"colorbar\":{\"outlinewidth\":1,\"tickcolor\":\"rgb(36,36,36)\",\"ticks\":\"outside\"}},\"type\":\"scattergeo\"}],\"scattergl\":[{\"marker\":{\"colorbar\":{\"outlinewidth\":1,\"tickcolor\":\"rgb(36,36,36)\",\"ticks\":\"outside\"}},\"type\":\"scattergl\"}],\"scattermapbox\":[{\"marker\":{\"colorbar\":{\"outlinewidth\":1,\"tickcolor\":\"rgb(36,36,36)\",\"ticks\":\"outside\"}},\"type\":\"scattermapbox\"}],\"scatterpolargl\":[{\"marker\":{\"colorbar\":{\"outlinewidth\":1,\"tickcolor\":\"rgb(36,36,36)\",\"ticks\":\"outside\"}},\"type\":\"scatterpolargl\"}],\"scatterpolar\":[{\"marker\":{\"colorbar\":{\"outlinewidth\":1,\"tickcolor\":\"rgb(36,36,36)\",\"ticks\":\"outside\"}},\"type\":\"scatterpolar\"}],\"scatter\":[{\"fillpattern\":{\"fillmode\":\"overlay\",\"size\":10,\"solidity\":0.2},\"type\":\"scatter\"}],\"scatterternary\":[{\"marker\":{\"colorbar\":{\"outlinewidth\":1,\"tickcolor\":\"rgb(36,36,36)\",\"ticks\":\"outside\"}},\"type\":\"scatterternary\"}],\"surface\":[{\"colorbar\":{\"outlinewidth\":1,\"tickcolor\":\"rgb(36,36,36)\",\"ticks\":\"outside\"},\"colorscale\":[[0.0,\"#440154\"],[0.1111111111111111,\"#482878\"],[0.2222222222222222,\"#3e4989\"],[0.3333333333333333,\"#31688e\"],[0.4444444444444444,\"#26828e\"],[0.5555555555555556,\"#1f9e89\"],[0.6666666666666666,\"#35b779\"],[0.7777777777777778,\"#6ece58\"],[0.8888888888888888,\"#b5de2b\"],[1.0,\"#fde725\"]],\"type\":\"surface\"}],\"table\":[{\"cells\":{\"fill\":{\"color\":\"rgb(237,237,237)\"},\"line\":{\"color\":\"white\"}},\"header\":{\"fill\":{\"color\":\"rgb(217,217,217)\"},\"line\":{\"color\":\"white\"}},\"type\":\"table\"}]},\"layout\":{\"annotationdefaults\":{\"arrowhead\":0,\"arrowwidth\":1},\"autotypenumbers\":\"strict\",\"coloraxis\":{\"colorbar\":{\"outlinewidth\":1,\"tickcolor\":\"rgb(36,36,36)\",\"ticks\":\"outside\"}},\"colorscale\":{\"diverging\":[[0.0,\"rgb(103,0,31)\"],[0.1,\"rgb(178,24,43)\"],[0.2,\"rgb(214,96,77)\"],[0.3,\"rgb(244,165,130)\"],[0.4,\"rgb(253,219,199)\"],[0.5,\"rgb(247,247,247)\"],[0.6,\"rgb(209,229,240)\"],[0.7,\"rgb(146,197,222)\"],[0.8,\"rgb(67,147,195)\"],[0.9,\"rgb(33,102,172)\"],[1.0,\"rgb(5,48,97)\"]],\"sequential\":[[0.0,\"#440154\"],[0.1111111111111111,\"#482878\"],[0.2222222222222222,\"#3e4989\"],[0.3333333333333333,\"#31688e\"],[0.4444444444444444,\"#26828e\"],[0.5555555555555556,\"#1f9e89\"],[0.6666666666666666,\"#35b779\"],[0.7777777777777778,\"#6ece58\"],[0.8888888888888888,\"#b5de2b\"],[1.0,\"#fde725\"]],\"sequentialminus\":[[0.0,\"#440154\"],[0.1111111111111111,\"#482878\"],[0.2222222222222222,\"#3e4989\"],[0.3333333333333333,\"#31688e\"],[0.4444444444444444,\"#26828e\"],[0.5555555555555556,\"#1f9e89\"],[0.6666666666666666,\"#35b779\"],[0.7777777777777778,\"#6ece58\"],[0.8888888888888888,\"#b5de2b\"],[1.0,\"#fde725\"]]},\"colorway\":[\"#1F77B4\",\"#FF7F0E\",\"#2CA02C\",\"#D62728\",\"#9467BD\",\"#8C564B\",\"#E377C2\",\"#7F7F7F\",\"#BCBD22\",\"#17BECF\"],\"font\":{\"color\":\"rgb(36,36,36)\"},\"geo\":{\"bgcolor\":\"white\",\"lakecolor\":\"white\",\"landcolor\":\"white\",\"showlakes\":true,\"showland\":true,\"subunitcolor\":\"white\"},\"hoverlabel\":{\"align\":\"left\"},\"hovermode\":\"closest\",\"mapbox\":{\"style\":\"light\"},\"paper_bgcolor\":\"white\",\"plot_bgcolor\":\"white\",\"polar\":{\"angularaxis\":{\"gridcolor\":\"rgb(232,232,232)\",\"linecolor\":\"rgb(36,36,36)\",\"showgrid\":false,\"showline\":true,\"ticks\":\"outside\"},\"bgcolor\":\"white\",\"radialaxis\":{\"gridcolor\":\"rgb(232,232,232)\",\"linecolor\":\"rgb(36,36,36)\",\"showgrid\":false,\"showline\":true,\"ticks\":\"outside\"}},\"scene\":{\"xaxis\":{\"backgroundcolor\":\"white\",\"gridcolor\":\"rgb(232,232,232)\",\"gridwidth\":2,\"linecolor\":\"rgb(36,36,36)\",\"showbackground\":true,\"showgrid\":false,\"showline\":true,\"ticks\":\"outside\",\"zeroline\":false,\"zerolinecolor\":\"rgb(36,36,36)\"},\"yaxis\":{\"backgroundcolor\":\"white\",\"gridcolor\":\"rgb(232,232,232)\",\"gridwidth\":2,\"linecolor\":\"rgb(36,36,36)\",\"showbackground\":true,\"showgrid\":false,\"showline\":true,\"ticks\":\"outside\",\"zeroline\":false,\"zerolinecolor\":\"rgb(36,36,36)\"},\"zaxis\":{\"backgroundcolor\":\"white\",\"gridcolor\":\"rgb(232,232,232)\",\"gridwidth\":2,\"linecolor\":\"rgb(36,36,36)\",\"showbackground\":true,\"showgrid\":false,\"showline\":true,\"ticks\":\"outside\",\"zeroline\":false,\"zerolinecolor\":\"rgb(36,36,36)\"}},\"shapedefaults\":{\"fillcolor\":\"black\",\"line\":{\"width\":0},\"opacity\":0.3},\"ternary\":{\"aaxis\":{\"gridcolor\":\"rgb(232,232,232)\",\"linecolor\":\"rgb(36,36,36)\",\"showgrid\":false,\"showline\":true,\"ticks\":\"outside\"},\"baxis\":{\"gridcolor\":\"rgb(232,232,232)\",\"linecolor\":\"rgb(36,36,36)\",\"showgrid\":false,\"showline\":true,\"ticks\":\"outside\"},\"bgcolor\":\"white\",\"caxis\":{\"gridcolor\":\"rgb(232,232,232)\",\"linecolor\":\"rgb(36,36,36)\",\"showgrid\":false,\"showline\":true,\"ticks\":\"outside\"}},\"title\":{\"x\":0.05},\"xaxis\":{\"automargin\":true,\"gridcolor\":\"rgb(232,232,232)\",\"linecolor\":\"rgb(36,36,36)\",\"showgrid\":false,\"showline\":true,\"ticks\":\"outside\",\"title\":{\"standoff\":15},\"zeroline\":false,\"zerolinecolor\":\"rgb(36,36,36)\"},\"yaxis\":{\"automargin\":true,\"gridcolor\":\"rgb(232,232,232)\",\"linecolor\":\"rgb(36,36,36)\",\"showgrid\":false,\"showline\":true,\"ticks\":\"outside\",\"title\":{\"standoff\":15},\"zeroline\":false,\"zerolinecolor\":\"rgb(36,36,36)\"}}},\"shapes\":[{\"line\":{\"color\":\"#CFD8DC\",\"width\":2},\"type\":\"line\",\"x0\":12.649548077583312,\"x1\":12.649548077583312,\"y0\":4.700678515434265,\"y1\":13.547656631469726},{\"line\":{\"color\":\"#9E9E9E\",\"width\":2},\"type\":\"line\",\"x0\":7.8245514869689945,\"x1\":17.47454466819763,\"y0\":9.124167573451995,\"y1\":9.124167573451995}],\"annotations\":[{\"showarrow\":false,\"text\":\"D1\",\"x\":7.8245514869689945,\"y\":9.124167573451995,\"yshift\":10},{\"showarrow\":false,\"text\":\"D2\",\"x\":12.649548077583312,\"xshift\":10,\"y\":13.547656631469726}],\"title\":{\"font\":{\"size\":22,\"color\":\"Black\"},\"text\":\"\\u003cb\\u003eDocuments and Topics\\u003c\\u002fb\\u003e\",\"x\":0.5,\"xanchor\":\"center\",\"yanchor\":\"top\"},\"width\":1200,\"height\":750,\"xaxis\":{\"visible\":false},\"yaxis\":{\"visible\":false}},                        {\"responsive\": true}                    )                };                            </script>        </div>"
      ],
      "text/plain": [
       "Figure({\n",
       "    'data': [{'hoverinfo': 'text',\n",
       "              'hovertext': array(['I like it',\n",
       "                                  \"Really cool design and it goes up really easy.  The amount of adjustment is really nice as well.  It's been up for almost two months with our 55 inch TV and hasn't moved as all unless I'm the one to move it.\",\n",
       "                                  'Installation is doable and the cartridge and needle work. Four cables attach to it from the shell, and it took some persuasion to push them on.<br /><br />Needle seems to have a slight angle (to the side, not the needle in the groove), but does play without ruing the LP.',\n",
       "                                  'Exactly as described. The sleeves have helped to &#34;tidy up&#34; by work space. Thanks!',\n",
       "                                  \"Well, I purchased this Masione® Surge Protector Strip 2500W 6 Outlet Black Power Socket With Lightningproof last week and since it arrived, it has changed names and has changed the description now not mentioning surge protection. I'm not sure if my computer and $200 router are safe with this outlet strip. It provides power and is compact. I chose it for its straight plug which was needed to go into a recessed floor outlet but wanted something that had surge protection because of its use under my desk.\",\n",
       "                                  'Horrible',\n",
       "                                  'did not support my xm radio it does not produce 12 v dc more like 8.5 v dc. they also have a no return policy go figure.',\n",
       "                                  \"Fine item.  Best reception I've had since DTV became a reality several years ago.  Picked up more channels that previous antennas.\",\n",
       "                                  'Good quality Good Price!',\n",
       "                                  'I bought this as a replacement for my Verizon FIOS backup battery. The original battery lasted over three years... this one lasted 8 months. The &#34;Designed for long life: 6 - 8 years&#34; statement is a joke.<br /><br />I finally contacted the company after a week of trying (even after a year, their website listed on the battery is not working) and they offered me a replacement, however I had to ship the battery back to them first at my expense. To pay $20 to return a $23 battery for replacement is ridiculous, so their &#34;3-year replacement warranty&#34; is absolutely worthless.',\n",
       "                                  'The turntable do not work correctly.  It was dragging!  Otherwise, the sound and other features worked well!!',\n",
       "                                  'Works great in Charlotte, NC. Received all the major networks crystal clear. Highly recommend :)',\n",
       "                                  'My son gets 41 channels in Hickory NC. He is well pleased.',\n",
       "                                  'well, it is a pain to have a odd charging cable and to also remember how to pair it to another phone.  Keep the instructions around, you will need them',\n",
       "                                  'very good especially for notebooks with micro hdmi and you want to connect it to a computer screen',\n",
       "                                  'Gave to husband and he likes them.',\n",
       "                                  'I am having a hard time getting the nut tight behind the mount for the monitor. It seems tight, but the monitor still pivots left and right way to easy. I also see lots of people complaining whey they tried to get it really tight they broke the mount.  I have used better mounts that are only a few dollars more. Spend a little more and get a decent mount.',\n",
       "                                  \"I have ordered 3 packages of these over the past few weeks and all of them have been different sizes. The first 100 fit perfectly with about 1/4&#34; overhang at the top, I like that compared to the other sleeves that usually hang 1/2&#34;-3/4&#34; over the top of the record. The second 100 I received were cut incorrectly and I couldn't even get the record inside of them. I sent those back and re-ordered, when the 3rd shipment arrived they fit perfectly but some of them are cut too short and don't even reach the top of the record.<br /><br />This would be a great product if the company had better quality control standards, as is I won't be using these in the future.\",\n",
       "                                  'While cord was shorter than I would have liked (3 ft.), The product shipped quickly for coming from China and works fine.',\n",
       "                                  'Fits and functions perfectly for my printer. Not much else to say.',\n",
       "                                  \"I got these and used them a couple o times to swim. However, a few months after my purchase, I felt that one side was louder than the other. I turned them around and discovered that I'm not the one with a malfunction, but its this gadget somehow looses strength on one side. I bought these to replace my previous Sony Walkman, that suffered from the same malfunction. My conclusion is this: the Sony Walkman NWZW273S does NOT work!\",\n",
       "                                  'Great mounts worked perfectly for my surround sound. ....a must buy',\n",
       "                                  'Great sound quality for the price, LOVE the matte finish and no logo. Great business model and exceptional customer service.',\n",
       "                                  \"Just bought my second and third one of these.  The first one backs up a desktop computer and monitor and easily runs it for 15 minutes after a power outage.  The new ones are to power my cable box (Comcast) because even the briefest flicker of power and the box goes through the whole five minutes restart procedure.  The other one is just for the modem/router/VOIP/NAT devices.  We don't lose power very often or for very long periods of time but keeping all those devices from resetting and rebooting is worth the price of these inexpensive UPS devices (paid $45 each).  Batteries are easily replaceable and about $17 each for the generic brand.\",\n",
       "                                  \"Works great, I wound up pairing this with a Sonos Connect, so I didn't have to but the Connect.Amp.  Puts out enough sound and works amazingly.\",\n",
       "                                  \"I was so happy to get this little case, we have a DVD player in the car and I'm tired of having an endless array of Disney & Dreamworks DVD cases stuffed into my console.  Quality is good, the plastic sleeves seem like they will hold up.  The case is more rigid so it offers protection for your very valuable collection of the Planes series DVD's.\",\n",
       "                                  \"We bought this for my daughter for her birthday in July.  She turned 13.  She played it 3 times with the new albums she got for her birthday.  She went to listen to some more new albums she bought and it didn't work.  The turntable would not turn!!!  I went to replace this item and I was literally 5 days from the last chance date that I had to return this item.  Not happy at all.  Now she is upset!!!\",\n",
       "                                  \"now they tell me you can't split optical audio\",\n",
       "                                  'Great quality for the price.  I believe they will last the entire school year.  They do not look cheezy at all.',\n",
       "                                  'A nice aid to fast-tuning the MP1 80, 60 & 40-10m coils.',\n",
       "                                  'Great batteries,  highly recommend them.',\n",
       "                                  'everything I expected for a great price',\n",
       "                                  'This is less expensive than replacing the battery back up and also the battery fit fine.',\n",
       "                                  'Great space saving solution for consolidating all your DVDs!',\n",
       "                                  \"I usually love cranking up the bass in my car stereo once i get a new car. After receiving a free trial of the TACO speaker well i don't have to crank it up lol, the bass sounds amazing. Every song with lots of bass i can think of sounds amazing through these red speakers.\",\n",
       "                                  \"It does not copy CD-R s to USB as advertised. My CD's were recorded on a Sony machine and properly finalized. They copy on other machines.<br />It repeatedly shows &#34;copy protected wait&#34;.<br />None of my CD-R s are copy protected. I do want a machine that will copy my CD-R collection to USB.\",\n",
       "                                  \"Makes a difference right out of the box. I have 4 mini usb's. One apple old<br />and one apple new style. I plugged this in and keep it hidden away with all<br />of my bluetooth speakers, headphones etc. Fantastic way to keep things<br />charged .....QUICKLY.. and out of place and organized. I like it first for making<br />me organize everything in place ..even though the super fast charge is a<br />definite plus. Comes with sticky tape to hold into place ...so it doesn't move<br />around on shelf. Very happy with purchase.\",\n",
       "                                  \"I ordered one, Loved it.  So I  gave the first one to my husband who was traveling for a month and ordered another for myself......wouldn't turn on after charging.  Returned for another one...same problem.  GRRRRRR!\",\n",
       "                                  \"Can't get any simpler that this.  And it works just about anywhere you can find a flat lip or side panel.  Ideally the lip should be at least 1 3/8&#34; for best stability, but I got it to hold decently well on the short lip of my desk top, which is just 3/4&#34;.<br /><br />Because the front hanger piece can be adjusted to hang parallel or perpendicular, (or any angle in between), to the clamping surface, I was able to get the firmest grip on the side of a bookcase.  My best idea, and where I use it now, is attached to the arm of my executive style office chair, near where it meets the chair back.  I don't knock it with my arm or elbow as I raise/lower/turn in my chair.  It is really a nifty place to stow the headphones--within easy reach, but not a cumbersome location either.<br /><br />It is well-constructed with  good layer of powder coating on the metal.  Hardware looks to be top quality, too.<br /><br />*I received a sample product from Brainwavz.\",\n",
       "                                  'Works well. Bass is somewhat lacking but is present. Overall pleased with the item.',\n",
       "                                  'Cheap and good',\n",
       "                                  \"Wish I could tilt it more up & down, but it works fine especially considering the price. Great price, great product. we're going to buy another one for our upstairs TV.\",\n",
       "                                  'work great at the right bprice',\n",
       "                                  \"You won't be disappointed. The only draw back is that you can't change out batteries\",\n",
       "                                  'Love this radio. It alerts the whole family when any form of weather changes. Plus you can have one in each room.',\n",
       "                                  'Bought Dec 6, 2014 and worked great until today... Now, the charger no longer charges and will not power the unit with the battery slide switch in OFF position. Checked the charger with a Volt Meter to be at 12.5 Vdc even with a 10 Ohm power resistor connected to it. Which means that the problem is in the Max A34. Not very easy to take apart as everything is glued with a soft glue gun. Now it is an expensive paper weight. Doubt 1 year warranty is worth anything, but will look into it. Cannot recommend this product based on this experience.',\n",
       "                                  'I have 2 different things set up on here and it switches according to what is turned on.  No problems at all.',\n",
       "                                  'I am extremely satisfied at the quality of these especially for the money. I was in need of longer headphone extension cables and these have not disappointed.',\n",
       "                                  'Work good but could be better. Clear sound.', 'gets every hot',\n",
       "                                  'Phones were dead prior to replacing them with these new replacement batteries,',\n",
       "                                  'Quality construction.  Small but heavy construction.  Works very well with my record player.',\n",
       "                                  'Hard to beat the price. They all seem to work the same and be the same quality, why pay more?',\n",
       "                                  \"Great product, sturdy, works like a breeze and came very handy for my rack (attached picture). The two front receptacles are great when you work with a laptop in front of the rack and need to charge it, including your cell phone. I chose this version with and Amp meter, even though it still shows zero dot zero, but that's because I ended up plugging in very light applications like cable modem, IR repeater, USB fan, etc. Otherwise, if you plug in a hair dryer for testing purposes, you will start seeing the amps come up. So it does work, and very well. It is only a few inches deep. Few tips: always leave some space above or below the unit, so that if you plug in AC/DC adapters (those that come with small routers and modems), you will have enough clearance to plug the adapters in the back. Otherwise you can always buy those very short NEMA extensions to clear the path (http://www.amazon.com/C2G-Cables-03114-Outlet-Extension/dp/B0002J1KRQ/ref=sr_1_4?ie=UTF8&qid=1440983975&sr=8-4&keywords=nema+extension). On the negative side, I wish it had come with an ON/OFF switch in the front...\",\n",
       "                                  \"Fairly sturdy, all metal construction, it did come with wall anchors, screws & straps to secure it upright if you need to do so. No missing parts, and the fit & finish are very good. Instructions are very basic, but it's easy tool free assembly means a 1 sheet instruction page is fine.<br /><br />As the shelves are adjustable to wherever you want them to go, you may have extra shelves leftover depending on how and where you place them on the poles.  As I migrate my DVD collection to Blu-Ray, I'll shrink the space between shelves and add the extras later.<br /><br />Overall, very pleased with this product at this price point.\",\n",
       "                                  'The only batteries I buy for my DSLR Cameras.',\n",
       "                                  \"I've tried 2 of these and both screens failed in a year.\",\n",
       "                                  'Use along with the colored ones I also ordered.',\n",
       "                                  'Fits my tv perfectly', \"didn't really help with cable clutter\",\n",
       "                                  'It works well~~~', 'Cord tooooo long and plus not cl',\n",
       "                                  'Great product at a fair price. It was easy to install and has worked out just fine. I would recommend this product to another customer',\n",
       "                                  \"These do not hold as long of a charge as the green-capped compeditors, even though the MW/hr is advertised to be higher.  However these do work as batteries and will hold a 'decent' charge, however the charge is shorter lived than other batteries of the same type I have tried.  I do use these often.  Also these did fry one of my USB ports, so use ONLY in outlet-usb ports.\",\n",
       "                                  \"Sorry, this cable worked for about a week then broke. I had ordered others before and same result. My fault for thinking things would change. Thought I had gotten a bad set, but that is the rule...not the exception. I'll try the more expensives ones from Bose.\",\n",
       "                                  'Good Quality. Good Price.',\n",
       "                                  'Good unit...sturdy...easy to mount and at a value price.  What more could you ask for?  I recommend.',\n",
       "                                  'I bought one of these radios from BiMart about 4 years ago without listening to it (the selection was very limited and I was in a big rush). I would not buy it again. The sound is tinny, it has no automatic shutoff (a must for me), and the station tuning knob makes a huge change with only the slightest turn of the knob; that shortcoming drives me nuts. I use it only on camping and hunting trips to receive the Weather Service weather reports and as a backup for my Sangean AM/FM portable radio (love that one). I never could get it to work with the hand crank; maybe I am not doing something right. I have several other Midland products (CB, FRS, GMRS radios) and they are all pretty good but Midland fumbled the ball with this one.',\n",
       "                                  'Great Energy Level VI travel charger! Very compact and fast charging. It is the most convenient product I never seen before ! I like it. I am very happy with this seller . Order packed very well and ship fast .Great energy level VI slimmest travel charger . Courteous service !',\n",
       "                                  'Hold TV very secure.',\n",
       "                                  'Our family loves to go bike riding but i get bored after a while. I got a free trial of these Taco speakers and took them along one time when i rode for a while. Put on my favorite jam and jammed out to the amazing music.',\n",
       "                                  \"USELESS AND BROKEN...Didn't even get to use it once.  Just utter poo quality.\",\n",
       "                                  'Battery is much improved from earlier models.',\n",
       "                                  'Installed and I was able to pull up all the public channels. To determine what this antenna will pickup you will need to plug your zipcode into the following site that will list available public TV channels: http://antennaweb.org/  The site takes into account terrain.',\n",
       "                                  \"It worked perfectly for my Samsung 46&#34;. It's affordable (I paid $15.66), has a great quality and it's easy to install! I'd recommend it.\",\n",
       "                                  'Watched a video on how to install it on YouTube and it was easy',\n",
       "                                  'Excellent gain in radio frequency reception over the stock antenna that came with the radio.',\n",
       "                                  \"Excellent for my child's dorm room\",\n",
       "                                  'Too expensive & reception is not great. A $10 antenna does the same job.',\n",
       "                                  'great quality for the price',\n",
       "                                  'Breaks very easily, and takes a while to load music',\n",
       "                                  'I put these in some VoIP/SIP Cordless Phones (Yealink). They really do hold their charge well.',\n",
       "                                  'Very good built quality. I use this screen with a pocket sized projector and everyone is impressed with the utility value and the set up. The screen is perfect for a meeting where it is not possible to use a large screen. This screen fits inside my large suitcase and set ups in a snap. My colleagues were so impressed, they ordered it as well after seeing it.',\n",
       "                                  'just what I needed only used one but do have more things to use on',\n",
       "                                  'Excellent product, performs as advertised.  Receive, read instructions, connect to your audio system with included cables, sync to your Bluetooth device (iPhone 4S), play music, enjoy!  Thank you, enough said.',\n",
       "                                  'this is worst, I test it when i got it since it arrived very very late..I charge it up within the 4 hours of charge time and tested it, it ok and then the next day it just malfunction/stop working till now..so this is just a garbage..',\n",
       "                                  'Excellent!!',\n",
       "                                  'Works fine for my application. Range is not the best but fine for my use',\n",
       "                                  'Great charger.',\n",
       "                                  'Use these in my RV on windows and doors for a bit of added security.  Stay put and do the job. Great Seller!',\n",
       "                                  None], dtype=object),\n",
       "              'marker': {'color': '#CFD8DC', 'opacity': 0.5, 'size': 5},\n",
       "              'mode': 'markers+text',\n",
       "              'name': 'other',\n",
       "              'showlegend': False,\n",
       "              'type': 'scattergl',\n",
       "              'x': array([10.296675 , 11.43947  , 12.2927   , 10.348685 , 13.665025 , 10.358283 ,\n",
       "                          12.660732 , 12.41565  , 12.175204 , 13.9030285, 13.384193 , 12.290321 ,\n",
       "                          12.3730755, 14.255173 , 12.143965 , 10.987574 , 11.280815 , 10.348746 ,\n",
       "                          11.979763 , 10.521507 , 14.396224 , 11.483625 , 12.389898 , 13.800657 ,\n",
       "                          13.63726  , 13.003359 , 13.447591 , 12.537442 , 12.337163 , 12.316591 ,\n",
       "                          13.545635 ,  9.34211  , 13.944287 , 12.777233 , 14.361431 , 13.154299 ,\n",
       "                          13.13268  , 13.442307 , 13.01818  , 14.212254 , 12.2107315, 11.438113 ,\n",
       "                           9.647566 , 13.827152 , 13.133153 , 13.608891 , 13.168285 , 12.501324 ,\n",
       "                          14.986655 ,  9.835438 , 13.9974165, 11.765582 , 12.252494 , 12.741745 ,\n",
       "                          11.662201 , 13.720003 , 11.292294 , 10.333307 , 10.749459 , 11.810898 ,\n",
       "                           9.642534 , 11.996251 , 11.878892 , 13.405751 , 12.368159 , 12.133855 ,\n",
       "                          11.752642 , 13.071677 , 13.580982 , 11.334714 , 15.195256 , 11.597971 ,\n",
       "                          13.805767 , 12.448669 , 11.389178 , 12.063582 , 12.607652 , 11.7391815,\n",
       "                          12.555708 , 12.119558 , 13.57642  , 13.420662 , 11.739878 , 10.156294 ,\n",
       "                          13.834202 , 13.539045 ,  9.956049 , 11.759059 , 13.346985 , 11.706163 ,\n",
       "                          12.375626 ], dtype=float32),\n",
       "              'y': array([ 5.53021  ,  9.398044 ,  8.155186 ,  9.085388 ,  7.05515  ,  6.2271037,\n",
       "                           9.11264  ,  9.098755 ,  6.5051837,  7.1575274,  8.080801 ,  9.134869 ,\n",
       "                           9.142941 ,  9.278328 ,  9.905754 ,  6.6641793,  9.656229 ,  9.072441 ,\n",
       "                          10.668383 ,  9.0369005,  9.306411 ,  9.783936 ,  6.723379 ,  6.996339 ,\n",
       "                           9.419937 , 10.437709 ,  8.18772  , 10.409145 ,  6.632264 ,  6.437877 ,\n",
       "                           6.7799973,  8.132981 ,  7.0553026, 10.313798 , 10.702528 , 10.313849 ,\n",
       "                          10.4048195,  7.7521377, 10.424609 , 10.60306  ,  6.4294596,  9.433128 ,\n",
       "                           7.1084166,  6.921704 ,  8.933063 ,  7.5193553,  7.790815 , 10.7549305,\n",
       "                           9.57629  ,  7.118387 ,  7.155623 ,  8.776793 ,  9.607948 , 10.206214 ,\n",
       "                           8.949212 ,  6.8024077,  7.4417   ,  7.8120146,  9.193395 , 10.372912 ,\n",
       "                           6.61771  , 10.65946  ,  8.193931 , 10.296344 , 10.362839 ,  6.4554496,\n",
       "                           8.755781 ,  8.994324 ,  7.026165 ,  9.603461 ,  8.985264 ,  6.8043227,\n",
       "                           6.931041 ,  9.128373 ,  9.132874 ,  8.137398 ,  8.98943  ,  8.419976 ,\n",
       "                           9.053571 ,  6.4384894,  8.153885 , 10.314182 ,  9.141724 ,  8.052182 ,\n",
       "                           9.157659 ,  7.7284017,  6.227857 ,  7.5126143,  6.897024 ,  8.254287 ,\n",
       "                           8.47904  ], dtype=float32)},\n",
       "             {'hoverinfo': 'text',\n",
       "              'hovertext': array([\"When I bought this speaker, I had one request.... I want to be able to wake up to the music of the Harry Potter Intro in mp3 with a soft wake up (volume gradually going up (which I emulated in audacity)).... Which I recommend to anyone with a relative light sleep, it really is magical.<br /><br />Anyway...the mp3 alarm is not reliable... worked fine for 3 days then doesn't start<br />I don't know if it's related to the way you previously stopped the music....unclear....<br />The screen is also way too bright (and quite small) to be used as a clock in a dark room (I put papers on top to soften it a little bit)<br /><br />I tried all buttons and buttons combinations to fix my alarm problem and nothing worked....<br />only unplug, turning off, turning back on fixed it....for one day....\",\n",
       "                                  'Use this everyday at work..  Great noise cancellation.  Wonderful product.',\n",
       "                                  'Easy set up! Us it on long rides while training on road bikes. Only had a short time, but happy with purchase so far1',\n",
       "                                  \"The rather small but I guess if I read the description better I would've noticed that.\",\n",
       "                                  \"1.The exact colour as the picture.<br />2. Easy to set up especially for a beginner.<br />3.I like the fact that I can also use an aux cord for songs I don't have on vinyl.\",\n",
       "                                  'I really enjoy the the skip and pause functions. Only things I would change is being able to adjust the volume on the speaker itself, and for it to have a better stick, had trouble getting it on the shower. But it was loud enough and easy to use. So ultimately happy with it.',\n",
       "                                  'Replaced a Logitech wireless radio with this in my bathroom - sounds so much better!',\n",
       "                                  \"I bought this adapter to stream my music from my Samsung Note Edge smart phone to my Nissan Murano 2014. My 2014 Murano doesn't come with streaming music so I had to figure out a way to listen to my music on my smart phone.<br /><br />My car does come with a DVD audio-visual' adaptor so I was able to use the Monster MusicConnect Portable Audio Player to connect my phone to my car and it works awesome.\",\n",
       "                                  'I use this all the time now.  Works great, battery lasts a long time, great sound.',\n",
       "                                  \"First off, I bought this product on sale for $25 off of Amazon. What a great deal, this bluetooth speaker is LOUD! It's got fair bass levels for the size and price point. Both front and back of the device emit sound, though front is louder. I think this gives it better quality and more range. I use this out by the pool and plan on using for fishing trips and tailgates. The only reason i did not give it 5 stars, when pressing the volume +/- the music stops for a &#34;boop&#34; noise. Also, when powering on, changing modes, or pairing a device, the speaker plays a womens voice that sounds almost comical. It's a little goofy, but at this price point who cares. This speaker is comparable to high end units of the same size, with just slightly less bass.<br /><br />Thanks Amazon!\",\n",
       "                                  \"I appreciate my speaker, it's loud and clear\",\n",
       "                                  'Enjoy crystal clear clarity sound with this product!  Super great quality! Highly recommended! Would make a perfect gift for anyone or for yourself!!',\n",
       "                                  '[[VIDEOID:3bdd17778455ef097fcffb1d018022b6]] There is a good variance in Bluetooth speakers, from physical design, extras in the box and sound quality. Not all speakers are worth your time and money. This little Cube speaker by iGadgitz is a very interesting speaker; it may be little but it has big sound and it works very well. I did find one potential issue when it comes to the range of operation that I will describe below.<br /><br />This is one of the smallest speakers I have seen and used. In spite of its size, it is a solid and hefty little speaker, weighing more than you\\'d expect. In my mind this is a good sign: it means that there is more to this little speaker than a cheap little speaker and a sub-par receiver. To be honest I was a little skeptical that it would put out good sound when I first saw this speaker. It has pleasantly surprised me (more on that shortly).<br /><br />This speaker pairs and connects very easily. When it is in discoverable mode it identifies itself as \\\\\\\\\"Xquare 2\\\\\\\\\". I had no issue with it pairing to my phone and once connected it remained connected without issue.<br /><br />The range on this speaker is good and I have been able to carry it from the source to a distance between 20\\' - 30\\' before it began to stutter or cut out. I have seen speakers that have more range but the majority of them fall into this threshold. Now, that said I need to mention an issue that came up in testing that should be kept in mind. If the speaker is sitting such that the switch and controls are facing down (that is, the control side is on the flat surface where it is sitting) the range is cut very dramatically. With the speaker sitting that way the range dropped to about 6\\' before it started cutting out. It did not seem to matter if it was the speaker that was moving away from the source or the other way around.<br /><br />I loaded up some music and played it through this speaker and was pleased with the outcome. The speaker has no problem with playing at higher volume, without distortion or \\\\\\\\\"washing out\\\\\\\\\". The profile is very good too - the bass is strong and slightly elevated but not overkill, the midrange is very good and the music has depth as a result, and the highs are bright and crisp. For such a small speaker, this one produces better-than-expected sound.<br /><br />This is one of my favorite Bluetooth speakers. It is very small but it has excellent sound and is made very well. The size makes it placeable in areas where other speakers are too bulky to fit. This speaker proves that smaller speakers can have great sound and it\\'s worth its asking price.<br /><br />Disclaimer: I was provided a sample of this product in exchange for a fair, honest and thorough review. Even though I received this product at no cost I have rated and reviewed this product without bias, based solely on my experience with it.er volume, without distortion or \\\\\\\\\"washing out\\\\\\\\\". The profile is very good too - the bass is strong and slightly elevated but not overkill, the midrange is very good and the music has depth as a result, and the highs are bright and crisp. For such a small speaker, this one produces better-than-expected sound.<br /><br />This is one of my favorite Bluetooth speakers. It is very small but it has excellent sound and is made very well. The size makes it placeable in areas where other speakers are too bulky to fit. This speaker proves that smaller speakers can have great sound and it\\'s worth its asking price.<br /><br />Disclaimer: I was provided a sample of this product in exchange for a fair, honest and thorough review. Even though I received this product at no cost I have rated and reviewed this product without bias, based solely on my experience with it.',\n",
       "                                  'Great speaker, especially for the price.  Use it as an alternative to a computer monitor speaker.  Keep it plugged into the monitor & computer, has great sound and I can take it with me whenever I want to.  Great buy',\n",
       "                                  'For a speaker its size the sound and volume are great. I would recommend this little speaker',\n",
       "                                  'Great sound and compact. Battery life seems good. Happy with this product.',\n",
       "                                  'I like this device.  The sound is clear and it carries well.  It is so convenient to carry only this speaker.  I can use it through wi-fi or I can plug it in to my laptop and play my playlist.  It has a rechargeable battery and lets you know when the battery is low so you can plug it in and charge it. I am pleased with this purchase.',\n",
       "                                  'Nice sound for what it is – a small Bluetooth speaker.  Syncs easily with my iPad.  Good clear sound, decent bass.  Sounds great on talk radio stations.  Nice little unit for the price.',\n",
       "                                  \"[[VIDEOID:46129030a61a028dbd8e69c13b30606]] Please watch the video for more specifics.<br />I enjoyed using this Bluetooth speaker from TaoTronics.<br />You should wet the suction cup or else it will not stick very, once you do that you should be fine.<br />The audio is very clear the sound is very good overall but the bass may lack a little bit due to the size which is to be expected.<br />I found it interesting the typical double tapping of the phone button is not how you call the last caller, instead you must hold the button down which is different than what I'm used to but something worth noting.<br />It takes approximately two hours to charge after which you can expect 5-6 hours of playback from the 500mAh battery. When the battery is low it will beep to indicate that it's time for it to be recharged<br />The included user manual is very clear and very easy to read.<br />The charging ports is well covered so no issue there with water.<br />As you remember to wet the suction cup it will actually stick but if you do not it will probably only stick for a matter of minutes I found.<br />You can't submerged in water completely obviously but splashes here and there shouldn't be an issue.<br />Review sample provided free or at a discounted price for a fair, unbiased, and honest review.\",\n",
       "                                  'Love this small speaker with loud volume, great for the beach',\n",
       "                                  'Looking to replace my iPod before it completely dies. I could not deal with the UI so I returned it. meant to by the newer version of this device but I am certain that was my fault.',\n",
       "                                  'Junk - will play MP3, but not WMA, even though the instructions it comes with says it will.  When you try to play WMA, you get &#34;FORMAT ERROR!&#34;.  My wife bought for a birthday present, by the time I opened it, I can no longer return it.  Instructions do not match player, menu, like everyone else said, is not intuitive.  To select something, you push &#34;Menu&#34;, when you would expect to push the button in the middle.  Aggravated with this player AND Amazon!',\n",
       "                                  'Nice player. A little difficult to learn how to power off but getting better at it.',\n",
       "                                  'This player is an absolute fraud. the system is horrible to use you cant play playlists. its just a cheap knockoff, I hope apple sues them. I want my money back...',\n",
       "                                  'Good sound quality.', 'Good sound... stays in place when running',\n",
       "                                  \"When I see another component stacked on top of an amplifier, I ask myself - Do you not realize by blocking air movement, you are causing any amplifier to get many times hotter than it should. Effectively reducing it's lifespan considerably!\",\n",
       "                                  'Easy to use, good sound, great battery life, very portable, exceptional value.',\n",
       "                                  \"Best price and fast shipping. Great speaker. Very portable - nice to carry around. Try it - You'll like it!!\",\n",
       "                                  'Exactly what I was looking for - an inexpensive, light set of phones for listening to Pandora on iPad',\n",
       "                                  \"This had pretty good sound, but would not fit on my bike.  It requires you to have handlebars that are straight for at least the length of the speaker.  I didn't want to bend the cheap-looking clips too much, either.  However, the reason that I returned it was because it refused to charge out of the box.  Plugged in, it sounded rather nice, but that's kind of pointless for a bike speaker.\",\n",
       "                                  \"So, I wouldn't have purchased this if it were not for my wife, who is infinitely frustrated with my audio setup.<br /><br />I needed something that would sit next to our TV, and be simple to use.  The fact that this has a remote is a nice bonus.  The fact that this can grab my local radio stations is a HUGE bonus - one which I didn't know it could do (does it via streaming).<br /><br />My problem is that I have this setup:<br /><br />Computer requests audio to be played from a Linux computer which uses a M2Tech Hiface to stream digital to my DAC (streamed lossless FLAC).  This then feeds into my preamp, and then amp and speakers.  To access the linux computer that runs the whole show, I have to have her use shell login to my linux host (not easy for most people, and if something goes wrong, she can't fix it).  You can then  from command line play pandora or music.<br /><br />So, those issues being stated, after plenty of research, I chose this.  I can connect this up right into my preamp, and she can use it pretty easily.  The setup was a snap, follow a few instructions, and I'm now linked up with my pandora account (I've got probably 40 stations I've been grooming for years).  Great.<br /><br />I had mistook the &#34;antenna&#34; in the product pictures for a coax hookup for an AM/FM antenna.  In fact this hookup is for the antenna to your wireless router.  Very fortunately, this nice box has the great feature of being able to pickup any radio station that streams their broadcasts (which as it turns out, is almost all of the local stations).  Not only that, but I can get stations that I would otherwise not be able to get at all (since I don't rely on an antenna, just whatever I choose to stream).  how do I get my local stations?  Simple !  you just set your location (enter your city I believe).  And it'll select the right stations for where you are.  It will also allow you to then progress outwards and grab more stations that you wouldn't otherwise be able to get with an antenna of probably any size.  I live in Baltimore, and it allows me to get stations hundreds of miles away!  Very slick!!<br /><br />The one downside to this product is that the built-in amplifier is really pretty poor quality.  However, I didn't buy this for that functionality anyway.  I only ended up using it, as my preamp crapped out, and I'm stuck using the built in amp for the time being.  It's nice that it's available, but don't think that if you have decent speakers, that you'll get very good sound quality.  You're much better off using the 'line out' and putting this into your favorite receiver or preamp, as the built in one just isn't so great, but it's functional.ith an antenna of probably any size.  I live in Baltimore, and it allows me to get stations hundreds of miles away!  Very slick!!<br /><br />The one downside to this product is that the built-in amplifier is really pretty poor quality.  However, I didn't buy this for that functionality anyway.  I only ended up using it, as my preamp crapped out, and I'm stuck using the built in amp for the time being.  It's nice that it's available, but don't think that if you have decent speakers, that you'll get very good sound quality.  You're much better off using the 'line out' and putting this into your favorite receiver or preamp, as the built in one just isn't so great, but it's functional.\",\n",
       "                                  'Has great features like iPod dock and USB port, but the sound is so unclear.<br />I am very disappointed',\n",
       "                                  'Love clock radio & CD player.  Easy to operate.',\n",
       "                                  \"Quickly located the signal and connected.  Very surprised with the sound from such a small speaker.  It's strength is in it's size - easy to move around.  Redefines portable music.  Perfect for the deck, patio and pool.\",\n",
       "                                  'Very good speaker',\n",
       "                                  \"The sound quality is unbeatable.  I can't handle turning the volume as high as it can go, it is really a great system for any size room\",\n",
       "                                  \"Awesome speaker! I take it everywhere. Charge really lasts. Sound is great. Range is fantastic. If you're in the market, get this one.\",\n",
       "                                  'Day 20 November 2014 acquired the JBL portable load Indoor / Outdoor Bluetooth Speaker | Black and hardly used it and 6.16.15 she has stopped working. Just take full charge when left more than 24 hours, yet their working time is no more than 2hs. The few times I used, was always loaded with accessories that accompanied it. I live in Brasilia-DF Brazil, not with the product warranty or aq even there in the USA. She when turned on, provides a noise as if in short circuit and after a while for the noise. only is working connected to the charger.<br /> It is expensive and that left me high and dry.<br /> Disappointed.',\n",
       "                                  'The Speaker worked great.  After about 5 months of periodic use, it would not power on.  Omaker sent me a new speaker free of charge.',\n",
       "                                  'I was not too that I needed another part to make it work on my new Bose radio not happy with the lack of information',\n",
       "                                  'Best table radio ever, better than my Bose.'], dtype=object),\n",
       "              'marker': {'opacity': 0.5, 'size': 5},\n",
       "              'mode': 'markers+text',\n",
       "              'name': 'sound quality,bluetooth speakers,speaker',\n",
       "              'text': array(['', '', '', '', '', '', '', '', '', '', '', '', '', '', '', '', '', '',\n",
       "                             '', '', '', '', '', '', '', '', '', '', '', '', '', '', '', '', '', '',\n",
       "                             '', '', '', '', '', ''], dtype=object),\n",
       "              'textfont': {'size': 12},\n",
       "              'type': 'scattergl',\n",
       "              'x': array([13.659325 , 14.769443 , 15.035811 , 14.567596 , 14.379673 , 14.566945 ,\n",
       "                          13.531938 , 13.84375  , 14.323574 , 14.5771475, 14.899791 , 15.014719 ,\n",
       "                          14.537363 , 14.710179 , 14.889708 , 14.492681 , 14.593791 , 14.611964 ,\n",
       "                          14.35207  , 14.792752 , 13.500887 , 13.548039 , 14.666236 , 13.517257 ,\n",
       "                          14.932641 , 14.807332 , 13.971474 , 14.552003 , 14.576047 , 13.669327 ,\n",
       "                          14.941846 , 13.498715 , 13.861139 , 13.453501 , 14.716206 , 14.873702 ,\n",
       "                          14.84393  , 14.324593 , 14.266088 , 14.306329 , 13.005213 , 13.348361 ],\n",
       "                         dtype=float32),\n",
       "              'y': array([8.465365 , 9.750702 , 8.527111 , 8.876769 , 8.662314 , 9.386014 ,\n",
       "                          8.723965 , 9.114346 , 8.14159  , 9.2565565, 8.965011 , 9.526261 ,\n",
       "                          9.131947 , 8.561753 , 8.8844385, 8.294198 , 8.697231 , 8.714076 ,\n",
       "                          9.252409 , 8.857947 , 8.403537 , 8.374517 , 8.488257 , 8.458459 ,\n",
       "                          9.315646 , 9.776696 , 8.184253 , 8.445655 , 8.369198 , 9.042365 ,\n",
       "                          8.735788 , 9.250378 , 8.790797 , 8.799546 , 8.834987 , 8.772093 ,\n",
       "                          9.073695 , 8.476941 , 8.91554  , 8.338497 , 9.117936 , 8.889375 ],\n",
       "                         dtype=float32)},\n",
       "             {'hoverinfo': 'text',\n",
       "              'hovertext': array(['[[VIDEOID:ca7421903fd1ad5c64ae1dc42a160649]] Earbuds have always been an issue for me. Mine is one of those stereotypical stories -- I can\\'t find a pair that fits my ears well. I\\'ve tried so many types of earbuds and most of them give my ear canals some sort of fatigue. It\\'s not that they sound bad, just that keeping them in my ears for more than 10 minutes is painful. The only ones I could tolerate were the Apple EarPods, and I have a love/hate relationship with them. Sure, they sit nicely in my ears, but them being fully open means I lose my music to the crickets of night and pelicans of day. Well, no more! I found the Flare R2A in-ear monitors, and seems my fear of earbuds is over.<br /><br />Disclaimer: This product was provided at a discounted price in exchange for an honest review.<br /><br />The R2s began their life on Kickstarter with a campaign that raised over $170,000. That\\'s quite a lot for IEMs, which are a rather niche market. Flare is a British company that strives for excellence in sound, and hopes that the world can join them in this pursuit. Before the R2s, the company made loudspeakers, so in-ears is a bit of a different industry. I think they did a fine job of things.<br /><br />I listen to a lot of different genres of music, but mostly folk and dream pop lately. To test out the R2s, I listened to hip-hop, jazz, EDM, instrumental guitar and piano, rock, classical, and of course the aforementioned folk. They performed consistently well in every genre. They also look great.<br /><br />First, of course, the sound. These IEMs aren\\'t active noise canceling or anything fancy, which is good because noise canceling often diminishes the sound quality. The R2s are still great for keeping outside noises to a minimum. They use the same plushy foam tips as earplugs, which makes for a comfortable and quiet listening environment. I tried them at work, in the bus, walking down a busy road, and even in a studio while recording. There\\'s absolutely no sound leakage at all, which is great for quiet environments, and none of the quality seems to be lost when the environment is noisy.<br /><br />People sometimes rant about flat response and how it\\'s better than everything else. Those people might be troubled by the R2s. They\\'re warmer than most earbuds, but don\\'t have muddy bass. The main issue with earbuds is always treble: there\\'s way too much of it everywhere. Then Skullcandy wanted to have fun so they started adding a bunch of bass to the mix. Everything above 80Hz seemed to have been lost. The R2s have none of those problems -- highs are crisp, mids cut through well, and the lows of course deliver the much-needed punch, rather than a drone. The responsiveness of everything is very tight.<br /><br />As I said before, everything I listened to with these IEMs sounded wonderful. They revealed details in songs that I didn\\'t know were there, while also being comfortable, affordable, and easy to use. The highs were not overbearing, but pronounced; the high-mids don\\'t clutter the highs at all; the low-mids keep all the bass lines in check; and the lows make sure you remember that the bass drum exists without making you forget about the guitars in the mid-range. That\\'s a great achievement. I really love the way these sound. Everything is balanced. Overall, it\\'s a bit warm, but I would much rather it be warm than sound like tinny old Apple earbuds from the early 2000s, with their mesh and bass-less muddle.<br /><br />On to the design. These things are beautifully minimal, but aren\\'t trying to be artistic, which is nice for a change. The earbuds themselves are black (or whatever color you chose), and the tips and cable match that. There\\'s also a rectangular machined aluminum box that splits the stereo signal for the left and right channels. It doesn\\'t need to be as big as it is, but it does add some pizzazz to things. Lastly, there\\'s the 3.5mm connector, which on mine is black with two gold stripes running through it.<br /><br />I love the design, but there\\'s one ergonomic inconsistency: The aluminum box. It looks cool, and I can see why the designer would have put it there. However, if you want to use these as a versatile pair of IEMs, you may walk with them once in a while, or just move around a bit. The latter is inevitable, and when you do choose to move around you\\'ll hear some strange thudding sounds. That\\'s the box attempting to defy gravity. Every time I hear this I tell myself it\\'s cool to look at, but doesn\\'t need to be so heavy and certainly doesn\\'t add any special functionality. The heaviness, I suppose, adds value to the IEMs. I would just prefer it wasn\\'t here, especially when I\\'m using these to perform.<br /><br />While these are \\\\\\\\\"reference\\\\\\\\\" series -- at least according to the marketing by Flare -- I don\\'t recommend using them for referencing. The R2s don\\'t produce a completely flat sound like Sonys do. They\\'re amazing for listening to, but not necessarily for studio work. I tried mixing a few song using them just for fun, and I noticed that most of my mixes tended to lose the low-mid range on other speakers and headphones simply because the R2s are warm. This characteristic is great when listening to music, but not for mixing/producing it.<br /><br />If you\\'re a musician, you\\'ll find that these are great for monitoring (and thus they are named in-ear monitors). I used them to monitor my vocals and piano while recording an entire song and they worked great. The warmth helps make things less straining on the ears, and there\\'s not so much bass that I get a headache using them after a while. I also used these to monitor my synth and the rest of the band while playing live, and the foam tips isolated the sound very well.<br /><br />It\\'s worth noting that since these are in-ear monitors, there is no microphone. The aluminum block in the middle of the cable just acts as a splitter -- there\\'s no hidden microphone. At first this bugged me, because I would receive a call and forget I couldn\\'t use these headphones to talk. After a while, I just accepted it. There\\'s no reason for IEMs to have a microphone since there\\'s no way for you to use it as a talkback to your band or anything. It also goes against the way that Flare built these, which is to solely focus on recreating sound accurately, not adding more sound. Bottom line: A microphone would have been useful, but there isn\\'t one, and that shouldn\\'t be a deal breaker.<br /><br />Here\\'s the verdict: The R2s made me like earbuds again. I was considering the Shure SE215s, but these reign superior. Once they\\'re in my ears, I don\\'t feel like I need to take them out. They feel at home. Even Apple\\'s EarPods, which \\\\\\\\\"sit\\\\\\\\\" in my ears nicely, don\\'t make me forget that I\\'m listening to music through small pieces of plastic in my ears. The R2s do, and they don\\'t look ridiculous like some earbuds. My friend even told me he didn\\'t notice I was wearing them because they\\'re so small. That\\'s awesome.e the design, but there\\'s one ergonomic inconsistency: The aluminum box. It looks cool, and I can see why the designer would have put it there. However, if you want to use these as a versatile pair of IEMs, you may walk with them once in a while, or just move around a bit. The latter is inevitable, and when you do choose to move around you\\'ll hear some strange thudding sounds. That\\'s the box attempting to defy gravity. Every time I hear this I tell myself it\\'s cool to look at, but doesn\\'t need to be so heavy and certainly doesn\\'t add any special functionality. The heaviness, I suppose, adds value to the IEMs. I would just prefer it wasn\\'t here, especially when I\\'m using these to perform.<br /><br />While these are \\\\\\\\\"reference\\\\\\\\\" series -- at least according to the marketing by Flare -- I don\\'t recommend using them for referencing. The R2s don\\'t produce a completely flat sound like Sonys do. They\\'re amazing for listening to, but not necessarily for studio work. I tried mixing a few song using them just for fun, and I noticed that most of my mixes tended to lose the low-mid range on other speakers and headphones simply because the R2s are warm. This characteristic is great when listening to music, but not for mixing/producing it.<br /><br />If you\\'re a musician, you\\'ll find that these are great for monitoring (and thus they are named in-ear monitors). I used them to monitor my vocals and piano while recording an entire song and they worked great. The warmth helps make things less straining on the ears, and there\\'s not so much bass that I get a headache using them after a while. I also used these to monitor my synth and the rest of the band while playing live, and the foam tips isolated the sound very well.<br /><br />It\\'s worth noting that since these are in-ear monitors, there is no microphone. The aluminum block in the middle of the cable just acts as a splitter -- there\\'s no hidden microphone. At first this bugged me, because I would receive a call and forget I couldn\\'t use these headphones to talk. After a while, I just accepted it. There\\'s no reason for IEMs to have a microphone since there\\'s no way for you to use it as a talkback to your band or anything. It also goes against the way that Flare built these, which is to solely focus on recreating sound accurately, not adding more sound. Bottom line: A microphone would have been useful, but there isn\\'t one, and that shouldn\\'t be a deal breaker.<br /><br />Here\\'s the verdict: The R2s made me like earbuds again. I was considering the Shure SE215s, but these reign superior. Once they\\'re in my ears, I don\\'t feel like I need to take them out. They feel at home. Even Apple\\'s EarPods, which \\\\\\\\\"sit\\\\\\\\\" in my ears nicely, don\\'t make me forget that I\\'m listening to music through small pieces of plastic in my ears. The R2s do, and they don\\'t look ridiculous like some earbuds. My friend even told me he didn\\'t notice I was wearing them because they\\'re so small. That\\'s awesome.',\n",
       "                                  \"these have good bass, but at the same time, even as a basshead I found these to be a bit boomy, they almost have nothing but bass. I did however get them to sound great with the use of the PowerAmp App on my phone, but for the most part, it is honest difficult to find a good spot with the equalizer and if using it with a device that has no PowerAmp app, it will continue to sound boomy. the highs and upper mids are much quieter in comparison. the ear hooks in my opinion are uncomfortable. I really wanted to like these headphones, but they were just too &#34;high Maintenance&#34;. I felt like I was working too hard to be happy with them, I want something that sounds and works good out of the box. the customer buys and uses, they don't work to make the product meet their expectations. for these reasons I decided to return and Went with the Jaybirds Bluebuds x. They are more Portable, come with a hardshell case in comparison to the cheap mesh bag included with the photives, feature better battery life, sound better, and are far more comfortable. For me, it was worth it to pay the extra money, I hope they are durable enough to hold up, but only time will tell.\",\n",
       "                                  \"Great pair of headphones for the price. If you've ever taken an overnight flight and had trouble sleeping because of the ambient noise, it's amazing what a little noise reduction can do. You can use these headphones without even plugging them in, just for the noise reduction. On the other hand, they sound pretty good as well. I found these phones comfortable enough to wear for several hours straight. All in all, a good investment in peace and quiet!\",\n",
       "                                  'I really like these headphones. Great excess noise canceling. comfortable to wear 5+hrs/day. Microphone works good.<br />I only rated 3 stars because the microphone just stopped working. Ive used this 15 months with no problem.<br />No accidents, no visible reason for it to stop working. Im really bummed. only recommend buying if you are fine with fact that<br />it may only last 1 yr or so.',\n",
       "                                  'Trash, returned mine after 2 days. The pads are hard and very uncomfortable. It is completely plastic  and feels like it is  about to break. DONT BUY',\n",
       "                                  \"I was very dissapointed with the quality of the headphones they sound very low the battery dies in less then 2 hours which I find ironic because they are not even loud. The range from your phone to the actual headset is probably only like 2 feet because it disconnects everytime I got my phone in my pocket all around upset about the product especially for this price I could've bought any one of the 30 or 40 dollar headphone and it probably would've been the same or better\",\n",
       "                                  \"This case is perfect for my Symphonized NRG Premium Headphones. It's small and the colors match the headphones perfectly\",\n",
       "                                  'I was unable to use them because they hurt my ears I used them for a total 30 min. and my ears felt like they were bruised.',\n",
       "                                  'Good looking over the ear headphones that have a surprising deep bass response. I have noticed new bass notes on some of the songs I have been listening to for years. I use them at work to reduce the surrounding noise. A great value.',\n",
       "                                  'I LOVE THESE HEADPHONES! I am totally satisfied with the sound and the fact that they stay in my ears! They are great...and I love the color of course. :)',\n",
       "                                  'Comfortable, but terrible sound. Very tinny, with no bass at all.  I would return them and ask for my money back if I could.',\n",
       "                                  'Nice design and works well in tandem with the bought ear phone.',\n",
       "                                  'Happy For about 4 weeks using these in the gym. The tips then lost the sponginess and then teared over time. I kept my headphones in a case and yet they wear out when you use them after a few weeks.',\n",
       "                                  \"A little loose on me and they're not adjustable, but decent sound quality. Be careful of the headphone jack as it seems to bend easily.\",\n",
       "                                  'Product is just okay! Volume level is not very good, I am used to going louder. Charge only lasts for maybe 2.5 hours of continuous use. This is my first pair of bluetooth earbuds. I feel gullible because I was going to purchase a pair for around 20$ and I thought the price point was too low so instead I purchased these. I think maybe for a tryout pair I could have gone with the 20$ pair.',\n",
       "                                  'My wife loves her new head phones.',\n",
       "                                  'I bought these as a gift so I never wore them but they looked a little flimsy to me. I would not personally buy them for myself.',\n",
       "                                  'I am loving the product! Comfortable fit. Good sound.',\n",
       "                                  \"I'm really not qualified to review headphones, but some members on head-fi gave them really good reviews and so far they're the best I've had or used.<br />They're extremely clear, and while somewhat lacking on bass, you still feel and hear it it's just not overpowering. Listening to these headphones is akin to the experience of eating Dark Chocolate.\",\n",
       "                                  \"Best headphones I've ever had for this price.\",\n",
       "                                  'great for iPhone cable, earbuds and plug.',\n",
       "                                  'These headphones are amazing!  The clarity is unreal.  I would highly recommend purchasing a pair!',\n",
       "                                  'I bought these for my boyfriend, and they work for him because his ears are much bigger so the loop fits, although the sound quality is still just mediocre.',\n",
       "                                  'Work great with my Jaybird headphones',\n",
       "                                  'I love these headphones...they are alot better than skullcandy',\n",
       "                                  'Bought these a year ago and being an active traveler they have held up pretty well. Comfortable for long flights and still have 100% noise cancellation',\n",
       "                                  \"I bought this to replace a lost neoprene case for my QC20i earbuds. This case is just ok.<br /><br />It seems very cheaply made and it's kind of hard to use because the zipper is a little stiff. If it was more expensive, I would have returned it but there's really no point (I'd get a buck or two back after return shipping).\",\n",
       "                                  \"Ok but wouldn't buy another pair. Maybe a different model. I had a different model of Bob Marley headphones and absolutely loved them. I thought I would get the same out of these that a got out of my last pair but was disappointed\",\n",
       "                                  \"Wonderful wonderful product, don't think it could be improved I used for motorcycle trip long continuous wear 14hr days cross country in comfort no wind noise and better than a pair of custom made ear gear I had with for comparison.\",\n",
       "                                  \"Bought these headphones a week ago and I love them. These are the most comfortable headphones I've ever owned. Feels so comfortable even listening for many hours. I own a pair of Audio Technica M50x and these for me are much better. They are much more open and a pleasure to listen to any music. I listen to music mostly on my iPad and have a subscription to Tidal premium musi service right now. The clarity of the music is amazing. These headphones also are a great bargain at $108.99 on Amazon. I'm very happy with my purchase.\",\n",
       "                                  'Bearly open up the package and only 1 headphone works great.',\n",
       "                                  \"The quality on these speakers is insanely good and doesn't sound muddy when adjusting bass. Very happy with these.\",\n",
       "                                  \"Awesome earphones! The sound is great and the ear pieces are very comfortable.  I use them at the golf range.  They are lightweight and don't fall out of my ear when I'm in motion.  Best of all, NO TANGLES even after being shoved in and out of my bag.\",\n",
       "                                  \"Excellent sound. Good price. Ear pads are less expensive and non-breathable plastic and not very durable and they're somewhat uncomfortable when wearing over 1/2 hour at a sitting.<br /><br />These Sony headphones are comfortable and will last longer, but I think the sound of the monoprice headphones is slightly better. As grandpa said, &#34;You pays your money and you takes your choice.&#34;*  [[ASIN:B000092YPR Sony MDR-V150 Monitor Series Headphones]]<br /><br />1846 Punch, &#34;The Ministerial Crisis&#34;<br />1884 Huckleberry Finn (Mark Twain)<br /><br />*Thanks to the New York Times<br />ON LANGUAGE; You Pays Yer Money<br />By WILLIAM SAFIRE<br />Published: February 28, 1988\"],\n",
       "                                 dtype=object),\n",
       "              'marker': {'opacity': 0.5, 'size': 5},\n",
       "              'mode': 'markers+text',\n",
       "              'name': 'headphones,headphone,speakers headphones',\n",
       "              'text': array(['', '', '', '', '', '', '', '', '', '', '', '', '', '', '', '', '', '',\n",
       "                             '', '', '', '', '', '', '', '', '', '', '', '', '', '', '', ''],\n",
       "                            dtype=object),\n",
       "              'textfont': {'size': 12},\n",
       "              'type': 'scattergl',\n",
       "              'x': array([14.0338545, 14.033699 , 13.735516 , 13.642616 , 13.954067 , 13.580165 ,\n",
       "                          13.384377 , 14.054786 , 14.179831 , 13.56184  , 13.8834305, 13.413981 ,\n",
       "                          14.0131445, 13.92238  , 13.898509 , 13.213925 , 14.076792 , 13.72586  ,\n",
       "                          13.987908 , 13.247629 , 13.132411 , 13.923434 , 13.976829 , 13.138696 ,\n",
       "                          13.411036 , 13.803044 , 13.421349 , 13.02731  , 13.977965 , 13.676578 ,\n",
       "                          12.950463 , 14.137252 , 13.833001 , 13.54435  ], dtype=float32),\n",
       "              'y': array([11.219169 , 10.930936 , 11.662731 , 11.780571 , 11.347001 , 11.3706045,\n",
       "                          10.930307 , 11.610963 , 10.8519   , 11.6352   , 11.43209  , 10.878638 ,\n",
       "                          11.537292 , 11.739577 , 10.634343 , 11.279852 , 11.669436 , 11.051383 ,\n",
       "                          11.187613 , 11.430819 , 10.680501 , 11.294681 , 11.626404 , 10.910607 ,\n",
       "                          11.489587 , 11.546992 , 10.840395 , 11.205867 , 11.621725 , 11.496873 ,\n",
       "                          11.136766 , 11.0408   , 11.75929  , 11.627873 ], dtype=float32)},\n",
       "             {'hoverinfo': 'text',\n",
       "              'hovertext': array(['I bought this as a gift, and the recipient loves it.',\n",
       "                                  'Great quality of the product and service.',\n",
       "                                  'Wish I could give this product more than five stars. Lifesaver.',\n",
       "                                  'Ok storage', 'great',\n",
       "                                  'LOVE IT !!!!<br />WILL PURCHASE MORE IN THE FUTURE  ; )',\n",
       "                                  'Good product', 'Gave as gift to my son.  He liked all the fuctnions.',\n",
       "                                  'Good product, but took a week to receive.',\n",
       "                                  'Excelent purchase.  I recomendm it.', 'great item', 'Great product.',\n",
       "                                  'Product arrived in good packaging and worked well.',\n",
       "                                  'Good for the price.',\n",
       "                                  'Great. I like the triple flange ones even better.',\n",
       "                                  'great product, great service.', 'Great product.', 'Changed my life.',\n",
       "                                  'Solid product no complaints.', 'Fell apart',\n",
       "                                  'Great product to save money!  Product as described!  Fast delivery!',\n",
       "                                  'great products! good buy! works great!',\n",
       "                                  'Awesome product. Super fast delivery.', 'Great product.', 'Loved it',\n",
       "                                  'Item as described , fast delivery',\n",
       "                                  'Fast shipment, easy to install - no issues so far.',\n",
       "                                  'good product good seller', 'Alll good', 'Love it',\n",
       "                                  'Product was defective but the customer service was fantastic..'],\n",
       "                                 dtype=object),\n",
       "              'marker': {'opacity': 0.5, 'size': 5},\n",
       "              'mode': 'markers+text',\n",
       "              'name': 'great product,great quality,product',\n",
       "              'text': array(['', '', '', '', '', '', '', '', '', '', '', '', '', '', '', '', '', '',\n",
       "                             '', '', '', '', '', '', '', '', '', '', '', '', ''], dtype=object),\n",
       "              'textfont': {'size': 12},\n",
       "              'type': 'scattergl',\n",
       "              'x': array([11.050635 , 11.5562525, 10.817926 , 10.194131 , 10.197071 , 11.044885 ,\n",
       "                          10.649308 , 10.94224  , 11.200733 , 11.65322  , 10.456789 , 10.677447 ,\n",
       "                          11.2540045, 12.138388 , 11.573929 , 10.865566 , 10.648642 , 10.728228 ,\n",
       "                          11.508006 , 10.709827 , 11.316062 , 10.941128 , 11.318657 , 10.605687 ,\n",
       "                          10.379721 , 11.43157  , 11.462825 , 11.0422   , 10.319792 , 10.339382 ,\n",
       "                          11.238682 ], dtype=float32),\n",
       "              'y': array([6.3825235, 6.2372484, 5.636122 , 5.995433 , 6.0265183, 5.852034 ,\n",
       "                          5.7081213, 6.560464 , 5.7252812, 6.117185 , 5.8370714, 5.733785 ,\n",
       "                          5.7727313, 6.4358816, 6.269833 , 5.8519955, 5.784446 , 6.8263865,\n",
       "                          6.3568   , 6.837465 , 5.807702 , 5.991218 , 5.6768246, 5.7155876,\n",
       "                          5.5532327, 5.697657 , 5.757646 , 5.7755346, 5.9495587, 5.5623083,\n",
       "                          6.609503 ], dtype=float32)},\n",
       "             {'hoverinfo': 'text',\n",
       "              'hovertext': array(['works great', 'Works great!',\n",
       "                                  'Only lasted a few months then blew out.',\n",
       "                                  'Did not last long,  Stop working within a year.', 'They work',\n",
       "                                  'Works pissa',\n",
       "                                  'Did not work as expected, However this might be an issue with my application and not the part itself.',\n",
       "                                  'This product worked just as advertised.',\n",
       "                                  'It works! I got a muscle cramp, rub it on the area nd the pain was gone within a minute.',\n",
       "                                  'This thing kicks buttttt!', 'Did not work at all.', 'Does the job.',\n",
       "                                  'works as advertised.... nothing else to really say about it',\n",
       "                                  'works great', 'So far so good.  Will update if anything changes.',\n",
       "                                  'No problems with using for its intended use.', 'Does the job!',\n",
       "                                  \"I can't get it to work!\", 'Worked great at the cabin',\n",
       "                                  \"It's only been in use for a few weeks but so far it works fine. It was well priced and arrived promptly.\",\n",
       "                                  'Did not help my problem.', 'It works as advertising.',\n",
       "                                  \"Works great. Had it quite some time, use it every week. Wish it had the functionality of the older one.. but what can you do when Sansa doesn't make it that way. Thanks!\"],\n",
       "                                 dtype=object),\n",
       "              'marker': {'opacity': 0.5, 'size': 5},\n",
       "              'mode': 'markers+text',\n",
       "              'name': 'works great,worked great,works fine',\n",
       "              'text': array(['', '', '', '', '', '', '', '', '', '', '', '', '', '', '', '', '', '',\n",
       "                             '', '', '', '', ''], dtype=object),\n",
       "              'textfont': {'size': 12},\n",
       "              'type': 'scattergl',\n",
       "              'x': array([ 9.635686 ,  9.812959 , 10.976431 , 11.195348 ,  9.577001 ,  9.519588 ,\n",
       "                          11.828515 , 10.337661 , 10.136393 , 10.16249  , 11.084157 ,  9.736844 ,\n",
       "                          11.173343 ,  9.699389 , 11.558389 , 11.6185255,  9.750524 , 10.02206  ,\n",
       "                           9.720539 , 11.628611 , 10.852672 , 10.388458 , 11.209313 ],\n",
       "                         dtype=float32),\n",
       "              'y': array([6.614871 , 6.537296 , 7.012168 , 7.162263 , 6.6798897, 6.6416845,\n",
       "                          8.039848 , 7.3047028, 7.049241 , 6.8012056, 7.411379 , 7.035004 ,\n",
       "                          7.384322 , 6.5475554, 7.1636176, 7.223701 , 7.0080094, 6.7214427,\n",
       "                          7.0325637, 7.146259 , 7.459799 , 7.3950787, 7.399623 ], dtype=float32)},\n",
       "             {'hoverinfo': 'text',\n",
       "              'hovertext': array(['Have a Panasonic plasma with side inputs and this helped hide the cable perfectly. Nice tight fit in connector as well.',\n",
       "                                  \"POE didn't run through it. I had to shorten it up 25 feet for it to work. The pairs are hardly twisted. In the end it worked for what I intended but it wasn't worth my time cutting and recrimping an end on it.\",\n",
       "                                  \"These are like HDMI on steroids.  Very well constructed cables.  Nothing cheap about them and the price was really good too.  I'd buy more of these in a heartbeat\",\n",
       "                                  'Great little device if you need to convert micro and mini HDMI to full hdmi and down want to buy new cables.<br />So far mine has been working great.<br />Its small in size so its easy to carry with your computer or tablet.<br />It carries audio like all HDMI cables.',\n",
       "                                  \"This product works well. My only complaint is that the plug-in cord is a little short to use on my bedroom TV. I ended up hooking it up in my son's room. It was able to give it just enough boost he no longer has to move the antenna around to get the channel he wants. Installation is super simple. Basically it's a plug and play. Or better yet a plug and watch.<br />I received this product at a discount in exchange for my honest review.\",\n",
       "                                  'I bought this 10 days ago. It was relatively easy to hook up. The auto-calibration took a few tries to get right, but I was pleased with the outcome. The sound was fantastic and really enhanced the viewing experience of my new Sony 4k 70&#34; television.<br /><br />Today it died. I was watching Band of Brothers, and halfway through episode 3 the sound just died. I did my own troubleshooting (I have an advanced degree in electrical engineering) and then called Sony support. They ran me through a few steps, and then escalated me to another department. After being on hold for 40 minutes, the line kicked off and said that the office I was trying to reach was closed for the day.<br /><br />So I am now 10 days into a three thousand dollar investment with Sony, and I am watching a football game with no sound while I type this.<br /><br />My receiver was a poor product. And the support line was awful.<br /><br />I am not happy.',\n",
       "                                  'I purchased the OUS00-0563 Super Thin Indoor HDTV and took it to Barbados where after installing it(simply tape to concrete block wall) I was pleasantly surprised by the difference in reception of the TV. I highly recommend this product.',\n",
       "                                  'works as expected; well made cable.',\n",
       "                                  'Great HDMI cable with signal amplifier built in. Make sure you run the cable the correct way as it is directional. I have used this at multiple locations.',\n",
       "                                  \"If there rca speakers don't buy!  I'm not huge on fashion so my vizio sound bar rear speakers just got tie wrapped to the back of the pole and clipped pole is solo small it will fit speaker wire only! And probably small gauge only\",\n",
       "                                  \"after a lightening strike wiped out my old receiver along with my music streaming devices (Grace and Roku) I was looking for an all in one 2 channel receiver that would stream internet radio, play Pandora type services and stream from my 400GB music database.  After researching on line, I bought this unit.<br /><br />It arrived today.  Set up was easy. It took longer un untangle the rats nest of old wires than to set up the new unit.  I connected my wired network and started to play around.  The sound quality is excellent!  The choices of inputs are excellent as well.  The one great shortcoming is the display panel.  I cannot understand why Yamaha would put 1980's technology into this otherwise modern, high quality system.  It has a one line 13 character dot matrix display for alpha numeric messages, such as track name, station id etc.  beyond me why they cut this corner.<br /><br />What saves the day is the app.  Yamaha NP Controller allows you to pretty much do everything from your android or iOS device.  The app is smooth, fast and intuitive.  Ps: do not download the Yamaha AV Controller App as it does not apply to this unit.\",\n",
       "                                  'Love the fact they are only three feet!  Does not take up so much room behind TV',\n",
       "                                  'Ordered to hookup a backup camera. This thing has different connectors on each end. I had one end hook up OK but had to find and RCA male to male adapter to make the other end right. I am not sure why they thought it was OK with differences from one end to the other.',\n",
       "                                  'great product for the price.  TV works great and the picture quality is really nice and clear.',\n",
       "                                  'Appears to work just great. Used it to connect my LG 55LB6100 TV (which only had digital optical out and poor speakers in the TV), to my Onkyo 8255 receiver (RCA inputs).  I connected the FiiO USB power connect into one of the USB ports on the TV so it only powers on when the TV is on; hopefully this will help with issues I read in other reviews with it dying early from being left on and overheating.',\n",
       "                                  'Such a great option to extend those HDMI cords, instead of buying a super expensive longer cord. I connected 2 ten feet HDMI cords with one of these and i have not noticed any reduction in quality. This has allowed me to connect my PC and TV that is up on the wall.',\n",
       "                                  \"I've decided to keep the item.  the ezcast is not quite as good as Chromecast with most features, but it's cheaper and has a couple of features that I actually like a little better than Chromecast (actually works with Firefox for HTML 5 video).  Also, the setup goes pretty smoothly which is a plus (maybe even better than Chromecast).  Just how secure it is remains to be seen.  Something tells me that this Chinese company that manufactures it, lets the device be vulnerable to hacking, but we'll see.  The support site for the Windows app is in Chinese as best I can tell, and not conducive to North American customers, but hopefully that gets improved soon.\"],\n",
       "                                 dtype=object),\n",
       "              'marker': {'opacity': 0.5, 'size': 5},\n",
       "              'mode': 'markers+text',\n",
       "              'name': 'hdmi,tv,cable',\n",
       "              'text': array(['', '', '', '', '', '', '', '', '', '', '', '', '', '', '', '', ''],\n",
       "                            dtype=object),\n",
       "              'textfont': {'size': 12},\n",
       "              'type': 'scattergl',\n",
       "              'x': array([11.692126 , 11.896828 , 12.039088 , 12.089024 , 12.344504 , 11.998597 ,\n",
       "                          12.127543 , 11.927663 , 12.00653  , 11.540298 , 13.4444685, 11.448309 ,\n",
       "                          11.8497095, 11.802935 , 12.071496 , 12.03496  , 12.279015 ],\n",
       "                         dtype=float32),\n",
       "              'y': array([10.328463, 10.334075, 10.280353, 10.091242,  8.985519,  9.577706,\n",
       "                           9.245137, 10.383525, 10.147877, 10.045466,  9.171553,  9.514739,\n",
       "                          10.261919,  9.15683 ,  9.089271, 10.520867,  8.767319], dtype=float32)},\n",
       "             {'hoverinfo': 'text',\n",
       "              'hovertext': array(['Was exactly what I needed', 'wasnt as loud as expected',\n",
       "                                  'As described. Just what I wanted', 'fit perfectly', 'As Advertised',\n",
       "                                  'As described.', 'More or less.', 'performed as expected',\n",
       "                                  'better than expected', 'As I expected',\n",
       "                                  'this fits exactly i expectede.', 'exactly as promised.',\n",
       "                                  'Perfect fit. efficient.'], dtype=object),\n",
       "              'marker': {'opacity': 0.5, 'size': 5},\n",
       "              'mode': 'markers+text',\n",
       "              'name': 'better expected,expected,better',\n",
       "              'text': array(['', '', '', '', '', '', '', '', '', '', '', '', ''], dtype=object),\n",
       "              'textfont': {'size': 12},\n",
       "              'type': 'scattergl',\n",
       "              'x': array([ 9.675703,  9.205355,  9.527491, 10.399906,  9.418639,  9.532766,\n",
       "                           9.528291,  9.325038,  9.236203,  9.290838, 10.317223,  9.526413,\n",
       "                          10.316828], dtype=float32),\n",
       "              'y': array([8.4468975, 8.523511 , 8.382898 , 8.957092 , 8.279417 , 8.393702 ,\n",
       "                          8.390135 , 8.418064 , 8.408215 , 8.460118 , 8.910582 , 8.418382 ,\n",
       "                          8.904878 ], dtype=float32)}],\n",
       "    'layout': {'annotations': [{'showarrow': False,\n",
       "                                'text': 'D1',\n",
       "                                'x': 7.8245514869689945,\n",
       "                                'y': 9.124167573451995,\n",
       "                                'yshift': 10},\n",
       "                               {'showarrow': False,\n",
       "                                'text': 'D2',\n",
       "                                'x': 12.649548077583312,\n",
       "                                'xshift': 10,\n",
       "                                'y': 13.547656631469726}],\n",
       "               'height': 750,\n",
       "               'shapes': [{'line': {'color': '#CFD8DC', 'width': 2},\n",
       "                           'type': 'line',\n",
       "                           'x0': 12.649548077583312,\n",
       "                           'x1': 12.649548077583312,\n",
       "                           'y0': 4.700678515434265,\n",
       "                           'y1': 13.547656631469726},\n",
       "                          {'line': {'color': '#9E9E9E', 'width': 2},\n",
       "                           'type': 'line',\n",
       "                           'x0': 7.8245514869689945,\n",
       "                           'x1': 17.47454466819763,\n",
       "                           'y0': 9.124167573451995,\n",
       "                           'y1': 9.124167573451995}],\n",
       "               'template': '...',\n",
       "               'title': {'font': {'color': 'Black', 'size': 22},\n",
       "                         'text': '<b>Documents and Topics</b>',\n",
       "                         'x': 0.5,\n",
       "                         'xanchor': 'center',\n",
       "                         'yanchor': 'top'},\n",
       "               'width': 1200,\n",
       "               'xaxis': {'visible': False},\n",
       "               'yaxis': {'visible': False}}\n",
       "})"
      ]
     },
     "execution_count": 67,
     "metadata": {},
     "output_type": "execute_result"
    }
   ],
   "source": [
    "reduced_embeddings = UMAP(n_neighbors=10, n_components=2, min_dist=0.0, metric='cosine').fit_transform(embeddings)\n",
    "\n",
    "topic_model.visualize_documents(doc,reduced_embeddings=reduced_embeddings, custom_labels=True, hide_annotations=True)"
   ]
  }
 ],
 "metadata": {
  "kernelspec": {
   "display_name": "Python 3",
   "language": "python",
   "name": "python3"
  },
  "language_info": {
   "codemirror_mode": {
    "name": "ipython",
    "version": 3
   },
   "file_extension": ".py",
   "mimetype": "text/x-python",
   "name": "python",
   "nbconvert_exporter": "python",
   "pygments_lexer": "ipython3",
   "version": "3.8.18"
  }
 },
 "nbformat": 4,
 "nbformat_minor": 2
}
