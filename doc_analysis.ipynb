{
 "cells": [
  {
   "cell_type": "markdown",
   "metadata": {},
   "source": [
    "### Analyzing Doccuments Produced By Main Output\n",
    "\n",
    "#### Goals\n",
    "\n",
    "- Understand Data\n",
    "\n",
    "- Fine Tune Any Issues with Output\n",
    "\n",
    "- Find good ways to visualize Data\n",
    "<br>\n",
    "#### Data\n",
    "\n",
    "- Data is derived from Topic Modeling and Labeling in addition to Sentiment Analysis on those topics.\n",
    "<br><br>\n",
    "\n",
    "#### Let's Start with Importing our Data"
   ]
  },
  {
   "cell_type": "code",
   "execution_count": 2,
   "metadata": {},
   "outputs": [],
   "source": [
    "import pandas as pd\n",
    "\n",
    "doc_df = pd.read_csv('./Data/output_topics.csv')"
   ]
  },
  {
   "cell_type": "code",
   "execution_count": 11,
   "metadata": {},
   "outputs": [
    {
     "data": {
      "text/plain": [
       "<bound method NDFrame.head of    Topic  Count                         Name  \\\n",
       "0     -1     57       -1_br_34_battery_power   \n",
       "1      0     81     0_br_speaker_sound_great   \n",
       "2      1     75   1_great_product_works_good   \n",
       "3      2     37  2_br_headphones_sound_br br   \n",
       "\n",
       "                                         CustomName  \\\n",
       "0                  sturdy | quality price | quality   \n",
       "1                   speaker | sound quality | audio   \n",
       "2        great product | great quality | work great   \n",
       "3  headphones | speakers headphones | sound quality   \n",
       "\n",
       "                                      Representation  \\\n",
       "0  ['br', '34', 'battery', 'power', 'price', 'gre...   \n",
       "1  ['br', 'speaker', 'sound', 'great', 'br br', '...   \n",
       "2  ['great', 'product', 'works', 'good', 'great p...   \n",
       "3  ['br', 'headphones', 'sound', 'br br', 'like',...   \n",
       "\n",
       "                                             KeyBERT  \\\n",
       "0  ['sturdy', 'quality price', 'quality', 'recomm...   \n",
       "1  ['speaker', 'sound quality', 'audio', 'bluetoo...   \n",
       "2  ['great product', 'great quality', 'work great...   \n",
       "3  ['headphones', 'speakers headphones', 'sound q...   \n",
       "\n",
       "                                                 POS  \\\n",
       "0  ['br', 'battery', 'power', 'price', 'great', '...   \n",
       "1  ['speaker', 'sound', 'great', 'good', 'product...   \n",
       "2  ['great', 'product', 'good', 'great product', ...   \n",
       "3  ['br', 'headphones', 'sound', 'pair', 'great',...   \n",
       "\n",
       "                                                 MMR  \\\n",
       "0  ['br', '34', 'battery', 'power', 'price', 'gre...   \n",
       "1  ['br', 'speaker', 'sound', 'great', 'br br', '...   \n",
       "2  ['great', 'product', 'works', 'good', 'great p...   \n",
       "3  ['br', 'headphones', 'sound', 'br br', 'like',...   \n",
       "\n",
       "                                 Representative_Docs doc_sentiment  \n",
       "0  [\"Fairly sturdy, all metal construction, it di...      Positive  \n",
       "1  [\"When I bought this speaker, I had one reques...      Positive  \n",
       "2  ['Great product.', 'Great product to save mone...      Positive  \n",
       "3  [\"Excellent sound. Good price. Ear pads are le...      Positive  >"
      ]
     },
     "execution_count": 11,
     "metadata": {},
     "output_type": "execute_result"
    }
   ],
   "source": [
    "doc_df.head"
   ]
  },
  {
   "cell_type": "code",
   "execution_count": 12,
   "metadata": {},
   "outputs": [
    {
     "data": {
      "text/plain": [
       "'sturdy | quality price | quality'"
      ]
     },
     "execution_count": 12,
     "metadata": {},
     "output_type": "execute_result"
    }
   ],
   "source": [
    "doc_df.CustomName[0]"
   ]
  },
  {
   "cell_type": "code",
   "execution_count": 5,
   "metadata": {},
   "outputs": [
    {
     "name": "stdout",
     "output_type": "stream",
     "text": [
      "Index(['Topic', 'Count', 'Name', 'Representation', 'KeyBERT', 'POS', 'MMR',\n",
      "       'Representative_Docs', 'doc_sentiment', 'Rep'],\n",
      "      dtype='object')\n"
     ]
    }
   ],
   "source": [
    "import re\n",
    "\n",
    "def stripCustomName(name):\n",
    "    return re.sub(r'\\|', ' ', name).split()\n",
    "\n",
    "doc_df['Name'] = doc_df['CustomName'].apply(stripCustomName)\n",
    "#doc_df.drop('CustomName', axis=1, inplace=True)\n",
    "\n",
    "print(doc_df.columns)\n"
   ]
  },
  {
   "cell_type": "code",
   "execution_count": 8,
   "metadata": {},
   "outputs": [
    {
     "name": "stdout",
     "output_type": "stream",
     "text": [
      "['br', '34', 'battery', 'power', 'price', 'great', 'charge', 'good', 'hold', 'quality']\n"
     ]
    },
    {
     "data": {
      "text/plain": [
       "\"'\""
      ]
     },
     "execution_count": 8,
     "metadata": {},
     "output_type": "execute_result"
    }
   ],
   "source": [
    "print(doc_df.Representation[0])\n",
    "\n",
    "doc_df.Representation[0][1]"
   ]
  },
  {
   "cell_type": "code",
   "execution_count": 13,
   "metadata": {},
   "outputs": [
    {
     "data": {
      "text/plain": [
       "'[\"Fairly sturdy, all metal construction, it did come with wall anchors, screws & straps to secure it upright if you need to do so. No missing parts, and the fit & finish are very good. Instructions are very basic, but it\\'s easy tool free assembly means a 1 sheet instruction page is fine.<br /><br />As the shelves are adjustable to wherever you want them to go, you may have extra shelves leftover depending on how and where you place them on the poles.  As I migrate my DVD collection to Blu-Ray, I\\'ll shrink the space between shelves and add the extras later.<br /><br />Overall, very pleased with this product at this price point.\", \"I have ordered 3 packages of these over the past few weeks and all of them have been different sizes. The first 100 fit perfectly with about 1/4&#34; overhang at the top, I like that compared to the other sleeves that usually hang 1/2&#34;-3/4&#34; over the top of the record. The second 100 I received were cut incorrectly and I couldn\\'t even get the record inside of them. I sent those back and re-ordered, when the 3rd shipment arrived they fit perfectly but some of them are cut too short and don\\'t even reach the top of the record.<br /><br />This would be a great product if the company had better quality control standards, as is I won\\'t be using these in the future.\", \"Can\\'t get any simpler that this.  And it works just about anywhere you can find a flat lip or side panel.  Ideally the lip should be at least 1 3/8&#34; for best stability, but I got it to hold decently well on the short lip of my desk top, which is just 3/4&#34;.<br /><br />Because the front hanger piece can be adjusted to hang parallel or perpendicular, (or any angle in between), to the clamping surface, I was able to get the firmest grip on the side of a bookcase.  My best idea, and where I use it now, is attached to the arm of my executive style office chair, near where it meets the chair back.  I don\\'t knock it with my arm or elbow as I raise/lower/turn in my chair.  It is really a nifty place to stow the headphones--within easy reach, but not a cumbersome location either.<br /><br />It is well-constructed with  good layer of powder coating on the metal.  Hardware looks to be top quality, too.<br /><br />*I received a sample product from Brainwavz.\"]'"
      ]
     },
     "execution_count": 13,
     "metadata": {},
     "output_type": "execute_result"
    }
   ],
   "source": [
    "doc_df.Representative_Docs[0]"
   ]
  },
  {
   "cell_type": "code",
   "execution_count": 14,
   "metadata": {},
   "outputs": [
    {
     "data": {
      "text/plain": [
       "\"['br', 'battery', 'power', 'price', 'great', 'charge', 'good', 'quality', 'place', 'charger']\""
      ]
     },
     "execution_count": 14,
     "metadata": {},
     "output_type": "execute_result"
    }
   ],
   "source": [
    "doc_df.POS[0]"
   ]
  },
  {
   "cell_type": "code",
   "execution_count": 6,
   "metadata": {},
   "outputs": [
    {
     "data": {
      "text/plain": [
       "\"['sturdy', 'quality price', 'quality', 'recommend product', 'devices', 'charger', 'phones', 'usb', 'usb ports', 'product']\""
      ]
     },
     "execution_count": 6,
     "metadata": {},
     "output_type": "execute_result"
    }
   ],
   "source": [
    "doc_df.KeyBERT[0]"
   ]
  },
  {
   "cell_type": "code",
   "execution_count": 9,
   "metadata": {},
   "outputs": [
    {
     "data": {
      "text/plain": [
       "\"['br', '34', 'battery', 'power', 'price', 'great', 'charge', 'good', 'hold', 'quality']\""
      ]
     },
     "execution_count": 9,
     "metadata": {},
     "output_type": "execute_result"
    }
   ],
   "source": [
    "doc_df.MMR[0]"
   ]
  },
  {
   "cell_type": "code",
   "execution_count": 21,
   "metadata": {},
   "outputs": [
    {
     "name": "stdout",
     "output_type": "stream",
     "text": [
      "34\n"
     ]
    }
   ],
   "source": [
    "import ast\n",
    "import spacy\n",
    "\n",
    "# Load the spaCy model\n",
    "nlp = spacy.load('en_core_web_sm')\n",
    "\n",
    "def is_valid_token(token):\n",
    "    # Check if the token is not a two-letter word\n",
    "    return len(token.text) > 2 or token.is_digit\n",
    "\n",
    "def custom_tokenizer(string_list):\n",
    "    \n",
    "    word_list = ast.literal_eval(string_list)\n",
    "\n",
    "    text = ' '.join(word_list)\n",
    "    \n",
    "    doc = nlp(text)\n",
    "    \n",
    "    return [token.text for token in doc if is_valid_token(token)]"
   ]
  },
  {
   "cell_type": "code",
   "execution_count": 41,
   "metadata": {},
   "outputs": [],
   "source": [
    "topic_df = pd.DataFrame()\n",
    "\n",
    "topic_df['label1'] = doc_df['KeyBERT'].apply(custom_tokenizer)\n",
    "topic_df['label2'] = doc_df['MMR'].apply(custom_tokenizer)\n",
    "topic_df['label3'] = doc_df['POS'].apply(custom_tokenizer)\n",
    "topic_df['label4'] = doc_df['MMR'].apply(custom_tokenizer)\n",
    "topic_df['sentiment'] = doc_df['doc_sentiment']\n",
    "topic_df['count'] = doc_df['Count']\n"
   ]
  },
  {
   "cell_type": "code",
   "execution_count": 42,
   "metadata": {},
   "outputs": [],
   "source": [
    "def labelUnion(label1,label2,label3,label4):\n",
    "    listOfTopics = []\n",
    "    label = label1 + label2 + label3 + label4\n",
    "    for entries in (label):\n",
    "        listOfTopics.append(set(entries))\n",
    "    return listOfTopics\n",
    "\n",
    "topic_df['label']=labelUnion(topic_df.label1,topic_df.label2,topic_df.label3,topic_df.label4)"
   ]
  },
  {
   "cell_type": "code",
   "execution_count": 43,
   "metadata": {},
   "outputs": [
    {
     "data": {
      "text/plain": [
       "0    {quality, recommend, ports, power, 34, place, ...\n",
       "1    {quality, better, music, speaker, sound, great...\n",
       "2    {quality, super, week, fine, work, described, ...\n",
       "3    {quality, headphones, listening, don, work, mu...\n",
       "Name: label, dtype: object"
      ]
     },
     "execution_count": 43,
     "metadata": {},
     "output_type": "execute_result"
    }
   ],
   "source": [
    "topic_df.label"
   ]
  },
  {
   "cell_type": "code",
   "execution_count": 44,
   "metadata": {},
   "outputs": [],
   "source": [
    "topic_df.drop(['label1', 'label2', 'label3', 'label4'], axis=1, inplace=True)"
   ]
  },
  {
   "cell_type": "code",
   "execution_count": 45,
   "metadata": {},
   "outputs": [
    {
     "data": {
      "text/plain": [
       "Index(['sentiment', 'count', 'label'], dtype='object')"
      ]
     },
     "execution_count": 45,
     "metadata": {},
     "output_type": "execute_result"
    }
   ],
   "source": [
    "topic_df.columns"
   ]
  },
  {
   "cell_type": "code",
   "execution_count": 46,
   "metadata": {},
   "outputs": [],
   "source": [
    "topic_df.to_csv('topics.csv')"
   ]
  }
 ],
 "metadata": {
  "kernelspec": {
   "display_name": "Python 3",
   "language": "python",
   "name": "python3"
  },
  "language_info": {
   "codemirror_mode": {
    "name": "ipython",
    "version": 3
   },
   "file_extension": ".py",
   "mimetype": "text/x-python",
   "name": "python",
   "nbconvert_exporter": "python",
   "pygments_lexer": "ipython3",
   "version": "3.11.5"
  }
 },
 "nbformat": 4,
 "nbformat_minor": 2
}
